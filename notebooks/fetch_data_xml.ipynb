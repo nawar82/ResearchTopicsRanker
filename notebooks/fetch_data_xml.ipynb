{
 "cells": [
  {
   "cell_type": "code",
   "execution_count": 10,
   "metadata": {},
   "outputs": [],
   "source": [
    "import requests\n",
    "import pandas as pd\n",
    "from lxml import etree"
   ]
  },
  {
   "cell_type": "code",
   "execution_count": 11,
   "metadata": {},
   "outputs": [],
   "source": [
    "api_key = \"577df7196ceeb3a853b9aac5b7bfe5640209\"           #You can remove it from the parameters but it is recommended to have it and to increase your request rate from 3 to 10 per second\n",
    "\n",
    "def search_pubmed(query):\n",
    "    base_url = \"https://eutils.ncbi.nlm.nih.gov/entrez/eutils/esearch.fcgi\"\n",
    "    params = {\n",
    "        \"db\": \"pubmed\",\n",
    "        \"term\": query,\n",
    "        \"retmax\": \"10000\",\n",
    "        \"usehistory\": \"y\",\n",
    "        \"email\": \"nawar82@gmail.com\",\n",
    "        \"api_key\": api_key\n",
    "    }\n",
    "    response = requests.get(base_url, params=params)\n",
    "    if response.status_code == 200:\n",
    "        root = etree.fromstring(response.content)\n",
    "        id_list = root.xpath('//IdList/Id')\n",
    "        return [id.text for id in id_list]\n",
    "    else:\n",
    "        print(\"Error occurred while searching\")\n",
    "        return []\n",
    "\n",
    "def fetch_abstracts(id_list):\n",
    "    base_url = \"https://eutils.ncbi.nlm.nih.gov/entrez/eutils/efetch.fcgi\"\n",
    "    ids = ','.join(id_list)\n",
    "    params = {\n",
    "        \"db\": \"pubmed\",\n",
    "        \"retmode\": \"xml\",\n",
    "        \"id\": ids,\n",
    "        \"api_key\": api_key\n",
    "    }\n",
    "    response = requests.get(base_url, params=params)\n",
    "    abstracts = []\n",
    "    if response.status_code == 200:\n",
    "        root = etree.fromstring(response.content)\n",
    "        articles = root.xpath('//PubmedArticle')\n",
    "        for article in articles:\n",
    "            pmid = article.find('.//PMID').text\n",
    "            abstract_text = article.find('.//Abstract/AbstractText')\n",
    "            if abstract_text is not None:\n",
    "                abstracts.append({\"PMID\": pmid, \"Abstract\": abstract_text.text})\n",
    "    else:\n",
    "        print(\"Error occurred while fetching details\")\n",
    "    return abstracts\n"
   ]
  },
  {
   "cell_type": "code",
   "execution_count": 12,
   "metadata": {},
   "outputs": [
    {
     "data": {
      "text/html": [
       "<div>\n",
       "<style scoped>\n",
       "    .dataframe tbody tr th:only-of-type {\n",
       "        vertical-align: middle;\n",
       "    }\n",
       "\n",
       "    .dataframe tbody tr th {\n",
       "        vertical-align: top;\n",
       "    }\n",
       "\n",
       "    .dataframe thead th {\n",
       "        text-align: right;\n",
       "    }\n",
       "</style>\n",
       "<table border=\"1\" class=\"dataframe\">\n",
       "  <thead>\n",
       "    <tr style=\"text-align: right;\">\n",
       "      <th></th>\n",
       "      <th>PMID</th>\n",
       "      <th>Abstract</th>\n",
       "    </tr>\n",
       "  </thead>\n",
       "  <tbody>\n",
       "    <tr>\n",
       "      <th>0</th>\n",
       "      <td>38405140</td>\n",
       "      <td>Previous studies have suggested a potential as...</td>\n",
       "    </tr>\n",
       "    <tr>\n",
       "      <th>1</th>\n",
       "      <td>38392839</td>\n",
       "      <td>The association between thyroid function and v...</td>\n",
       "    </tr>\n",
       "    <tr>\n",
       "      <th>2</th>\n",
       "      <td>38375193</td>\n",
       "      <td>To determine whether there is a causal relatio...</td>\n",
       "    </tr>\n",
       "    <tr>\n",
       "      <th>3</th>\n",
       "      <td>38368359</td>\n",
       "      <td>The role of thyroid health in temporomandibula...</td>\n",
       "    </tr>\n",
       "    <tr>\n",
       "      <th>4</th>\n",
       "      <td>38355654</td>\n",
       "      <td>Genome-wide association studies have reported ...</td>\n",
       "    </tr>\n",
       "    <tr>\n",
       "      <th>...</th>\n",
       "      <td>...</td>\n",
       "      <td>...</td>\n",
       "    </tr>\n",
       "    <tr>\n",
       "      <th>62</th>\n",
       "      <td>30248900</td>\n",
       "      <td>The thyroid plays a key role in development an...</td>\n",
       "    </tr>\n",
       "    <tr>\n",
       "      <th>63</th>\n",
       "      <td>30016786</td>\n",
       "      <td>Increasing evidence suggests an association be...</td>\n",
       "    </tr>\n",
       "    <tr>\n",
       "      <th>64</th>\n",
       "      <td>29544020</td>\n",
       "      <td>With population aging, prevalence of low bone ...</td>\n",
       "    </tr>\n",
       "    <tr>\n",
       "      <th>65</th>\n",
       "      <td>28819171</td>\n",
       "      <td>To clarify the role of thyroid function in isc...</td>\n",
       "    </tr>\n",
       "    <tr>\n",
       "      <th>66</th>\n",
       "      <td>28323940</td>\n",
       "      <td>Increasing evidence suggests an association be...</td>\n",
       "    </tr>\n",
       "  </tbody>\n",
       "</table>\n",
       "<p>67 rows × 2 columns</p>\n",
       "</div>"
      ],
      "text/plain": [
       "        PMID                                           Abstract\n",
       "0   38405140  Previous studies have suggested a potential as...\n",
       "1   38392839  The association between thyroid function and v...\n",
       "2   38375193  To determine whether there is a causal relatio...\n",
       "3   38368359  The role of thyroid health in temporomandibula...\n",
       "4   38355654  Genome-wide association studies have reported ...\n",
       "..       ...                                                ...\n",
       "62  30248900  The thyroid plays a key role in development an...\n",
       "63  30016786  Increasing evidence suggests an association be...\n",
       "64  29544020  With population aging, prevalence of low bone ...\n",
       "65  28819171  To clarify the role of thyroid function in isc...\n",
       "66  28323940  Increasing evidence suggests an association be...\n",
       "\n",
       "[67 rows x 2 columns]"
      ]
     },
     "execution_count": 12,
     "metadata": {},
     "output_type": "execute_result"
    }
   ],
   "source": [
    "# Example usage\n",
    "query = \"tsh AND Mendelian randomization\"\n",
    "id_list = search_pubmed(query)\n",
    "abstracts = fetch_abstracts(id_list)\n",
    "\n",
    "# Convert list of abstracts to DataFrame\n",
    "df_abstracts = pd.DataFrame(abstracts)\n",
    "\n",
    "df_abstracts\n"
   ]
  },
  {
   "cell_type": "code",
   "execution_count": 1,
   "metadata": {},
   "outputs": [
    {
     "ename": "NameError",
     "evalue": "name 'df_abstracts' is not defined",
     "output_type": "error",
     "traceback": [
      "\u001b[0;31m---------------------------------------------------------------------------\u001b[0m",
      "\u001b[0;31mNameError\u001b[0m                                 Traceback (most recent call last)",
      "Cell \u001b[0;32mIn [1], line 1\u001b[0m\n\u001b[0;32m----> 1\u001b[0m \u001b[43mdf_abstracts\u001b[49m\u001b[38;5;241m.\u001b[39minfo()\n",
      "\u001b[0;31mNameError\u001b[0m: name 'df_abstracts' is not defined"
     ]
    }
   ],
   "source": [
    "df_abstracts.info()"
   ]
  },
  {
   "cell_type": "markdown",
   "metadata": {},
   "source": [
    "# Test"
   ]
  },
  {
   "cell_type": "markdown",
   "metadata": {},
   "source": []
  }
 ],
 "metadata": {
  "kernelspec": {
   "display_name": "ResearchTopicsRanker",
   "language": "python",
   "name": "python3"
  },
  "language_info": {
   "codemirror_mode": {
    "name": "ipython",
    "version": 3
   },
   "file_extension": ".py",
   "mimetype": "text/x-python",
   "name": "python",
   "nbconvert_exporter": "python",
   "pygments_lexer": "ipython3",
   "version": "3.10.6"
  }
 },
 "nbformat": 4,
 "nbformat_minor": 2
}
