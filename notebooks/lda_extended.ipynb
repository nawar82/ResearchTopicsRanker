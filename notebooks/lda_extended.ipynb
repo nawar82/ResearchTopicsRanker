{
 "cells": [
  {
   "cell_type": "markdown",
   "id": "674b1348-ef5b-4ae2-aff1-53939c7ac314",
   "metadata": {
    "jp-MarkdownHeadingCollapsed": true
   },
   "source": [
    "### Packages"
   ]
  },
  {
   "cell_type": "code",
   "execution_count": 2,
   "id": "78833365-492d-4aaf-b469-f9c7ba3e502c",
   "metadata": {},
   "outputs": [],
   "source": [
    "# Essentials\n",
    "import pandas as pd\n",
    "\n",
    "# ML Modules\n",
    "from sklearn.feature_extraction.text import TfidfVectorizer\n",
    "from sklearn.decomposition import LatentDirichletAllocation\n",
    "\n",
    "from sklearn import set_config; set_config(display='diagram')\n",
    "\n",
    "import pickle\n",
    "\n",
    "# For preprosessing\n",
    "import string\n",
    "from nltk.corpus import stopwords\n",
    "from nltk import word_tokenize\n",
    "from nltk.stem import WordNetLemmatizer\n",
    "\n",
    "# Graphs\n",
    "import matplotlib.pyplot as plt"
   ]
  },
  {
   "cell_type": "markdown",
   "id": "879dd387-0fbd-4cc0-b4c9-94c08f172f6c",
   "metadata": {
    "jp-MarkdownHeadingCollapsed": true
   },
   "source": [
    "### Data Import"
   ]
  },
  {
   "cell_type": "code",
   "execution_count": 3,
   "id": "24c68986-b125-4334-b484-1d284461bddb",
   "metadata": {},
   "outputs": [
    {
     "data": {
      "text/html": [
       "<div>\n",
       "<style scoped>\n",
       "    .dataframe tbody tr th:only-of-type {\n",
       "        vertical-align: middle;\n",
       "    }\n",
       "\n",
       "    .dataframe tbody tr th {\n",
       "        vertical-align: top;\n",
       "    }\n",
       "\n",
       "    .dataframe thead th {\n",
       "        text-align: right;\n",
       "    }\n",
       "</style>\n",
       "<table border=\"1\" class=\"dataframe\">\n",
       "  <thead>\n",
       "    <tr style=\"text-align: right;\">\n",
       "      <th></th>\n",
       "      <th>PMID</th>\n",
       "      <th>Abstract</th>\n",
       "    </tr>\n",
       "  </thead>\n",
       "  <tbody>\n",
       "    <tr>\n",
       "      <th>0</th>\n",
       "      <td>38506164</td>\n",
       "      <td>The effectiveness of levothyroxine (LT4) in re...</td>\n",
       "    </tr>\n",
       "    <tr>\n",
       "      <th>1</th>\n",
       "      <td>38464371</td>\n",
       "      <td>Diabetes and thyroiditis are closely related. ...</td>\n",
       "    </tr>\n",
       "    <tr>\n",
       "      <th>2</th>\n",
       "      <td>38449627</td>\n",
       "      <td>The thyroid represents the most prevalent form...</td>\n",
       "    </tr>\n",
       "    <tr>\n",
       "      <th>3</th>\n",
       "      <td>38296053</td>\n",
       "      <td>Evidence suggests that hypothyroidism may be a...</td>\n",
       "    </tr>\n",
       "    <tr>\n",
       "      <th>4</th>\n",
       "      <td>38287682</td>\n",
       "      <td>The aim of this study was to determine the imp...</td>\n",
       "    </tr>\n",
       "  </tbody>\n",
       "</table>\n",
       "</div>"
      ],
      "text/plain": [
       "       PMID                                           Abstract\n",
       "0  38506164  The effectiveness of levothyroxine (LT4) in re...\n",
       "1  38464371  Diabetes and thyroiditis are closely related. ...\n",
       "2  38449627  The thyroid represents the most prevalent form...\n",
       "3  38296053  Evidence suggests that hypothyroidism may be a...\n",
       "4  38287682  The aim of this study was to determine the imp..."
      ]
     },
     "execution_count": 3,
     "metadata": {},
     "output_type": "execute_result"
    }
   ],
   "source": [
    "file = '/home/nawar82/code/nawar82/ResearchTopicsRanker/raw_data/abstracts_thyrotropin-OR-TSH_2024-03-21_10-18-44.csv'\n",
    "\n",
    "data = pd.read_csv(file)\n",
    "data.head()"
   ]
  },
  {
   "cell_type": "code",
   "execution_count": 4,
   "id": "a343b545",
   "metadata": {},
   "outputs": [
    {
     "data": {
      "text/plain": [
       "(640, 2)"
      ]
     },
     "execution_count": 4,
     "metadata": {},
     "output_type": "execute_result"
    }
   ],
   "source": [
    "data.shape"
   ]
  },
  {
   "cell_type": "markdown",
   "id": "f53fea75-08f9-4b39-a7c1-488f254f5a54",
   "metadata": {
    "jp-MarkdownHeadingCollapsed": true
   },
   "source": [
    "### Preprocessing"
   ]
  },
  {
   "cell_type": "markdown",
   "id": "0d9dc335",
   "metadata": {},
   "source": [
    "#### preparing Acedemic and Medical Stopwords (RedundantWords.csv)"
   ]
  },
  {
   "cell_type": "code",
   "execution_count": 5,
   "id": "b6cb6e99",
   "metadata": {},
   "outputs": [
    {
     "data": {
      "text/html": [
       "<div>\n",
       "<style scoped>\n",
       "    .dataframe tbody tr th:only-of-type {\n",
       "        vertical-align: middle;\n",
       "    }\n",
       "\n",
       "    .dataframe tbody tr th {\n",
       "        vertical-align: top;\n",
       "    }\n",
       "\n",
       "    .dataframe thead th {\n",
       "        text-align: right;\n",
       "    }\n",
       "</style>\n",
       "<table border=\"1\" class=\"dataframe\">\n",
       "  <thead>\n",
       "    <tr style=\"text-align: right;\">\n",
       "      <th></th>\n",
       "      <th>academic_stopwords</th>\n",
       "    </tr>\n",
       "  </thead>\n",
       "  <tbody>\n",
       "    <tr>\n",
       "      <th>0</th>\n",
       "      <td>Academic</td>\n",
       "    </tr>\n",
       "    <tr>\n",
       "      <th>1</th>\n",
       "      <td>Achievement</td>\n",
       "    </tr>\n",
       "    <tr>\n",
       "      <th>2</th>\n",
       "      <td>Advisor</td>\n",
       "    </tr>\n",
       "    <tr>\n",
       "      <th>3</th>\n",
       "      <td>Analysis</td>\n",
       "    </tr>\n",
       "    <tr>\n",
       "      <th>4</th>\n",
       "      <td>Argument</td>\n",
       "    </tr>\n",
       "  </tbody>\n",
       "</table>\n",
       "</div>"
      ],
      "text/plain": [
       "  academic_stopwords\n",
       "0           Academic\n",
       "1        Achievement\n",
       "2            Advisor\n",
       "3           Analysis\n",
       "4           Argument"
      ]
     },
     "execution_count": 5,
     "metadata": {},
     "output_type": "execute_result"
    }
   ],
   "source": [
    "rw = '/home/nawar82/code/nawar82/ResearchTopicsRanker/raw_data/RedundantWords.csv'\n",
    "\n",
    "sw = pd.read_csv(rw, header=0, names=['academic_stopwords'])\n",
    "sw.head()"
   ]
  },
  {
   "cell_type": "code",
   "execution_count": 6,
   "id": "d0502cf2",
   "metadata": {},
   "outputs": [
    {
     "data": {
      "text/plain": [
       "92"
      ]
     },
     "execution_count": 6,
     "metadata": {},
     "output_type": "execute_result"
    }
   ],
   "source": [
    "academic_Stopwords = sw['academic_stopwords'].tolist()\n",
    "len(academic_Stopwords)"
   ]
  },
  {
   "cell_type": "code",
   "execution_count": 7,
   "id": "057d9b0e-cf04-4ef5-8c5f-9895c1cb0987",
   "metadata": {},
   "outputs": [],
   "source": [
    "def preprocessing(sentence):\n",
    "\n",
    "    # remove whitespace\n",
    "    sentence = sentence.strip()\n",
    "\n",
    "    # lowercase characters\n",
    "    sentence = sentence.lower()\n",
    "\n",
    "    # remove numbers\n",
    "    sentence = ''.join(char for char in sentence if not char.isdigit())\n",
    "\n",
    "    # remove punctuation\n",
    "    for punctuation in string.punctuation:\n",
    "        sentence = sentence.replace(punctuation, '')\n",
    "\n",
    "    # remove stop_words\n",
    "    stop_words = set(stopwords.words('english'))\n",
    "    words = word_tokenize(sentence)\n",
    "    filtered_words = [word for word in words if word.lower() not in stop_words]\n",
    "\n",
    "    # remove academic and medical stop_words\n",
    "    filtered_words = [word for word in filtered_words if word.lower() not in academic_Stopwords]\n",
    "    sentence = ' '.join(filtered_words)\n",
    "\n",
    "    # tokenize and lemmatize\n",
    "    words = word_tokenize(sentence)\n",
    "    lemmatizer = WordNetLemmatizer()\n",
    "    lemmatized_words = [lemmatizer.lemmatize(word, pos='v') for word in words]  # Lemmatize verbs\n",
    "    lemmatized_words = [lemmatizer.lemmatize(word, pos='n') for word in lemmatized_words]  # Lemmatize nouns\n",
    "\n",
    "    return ' '.join(lemmatized_words)"
   ]
  },
  {
   "cell_type": "code",
   "execution_count": 8,
   "id": "24fc3fc4-8feb-4037-b594-fd1fe336be66",
   "metadata": {
    "scrolled": true
   },
   "outputs": [
    {
     "data": {
      "text/html": [
       "<div>\n",
       "<style scoped>\n",
       "    .dataframe tbody tr th:only-of-type {\n",
       "        vertical-align: middle;\n",
       "    }\n",
       "\n",
       "    .dataframe tbody tr th {\n",
       "        vertical-align: top;\n",
       "    }\n",
       "\n",
       "    .dataframe thead th {\n",
       "        text-align: right;\n",
       "    }\n",
       "</style>\n",
       "<table border=\"1\" class=\"dataframe\">\n",
       "  <thead>\n",
       "    <tr style=\"text-align: right;\">\n",
       "      <th></th>\n",
       "      <th>PMID</th>\n",
       "      <th>Abstract</th>\n",
       "      <th>clean_text</th>\n",
       "    </tr>\n",
       "  </thead>\n",
       "  <tbody>\n",
       "    <tr>\n",
       "      <th>0</th>\n",
       "      <td>38506164</td>\n",
       "      <td>The effectiveness of levothyroxine (LT4) in re...</td>\n",
       "      <td>effectiveness levothyroxine lt restore thyroid...</td>\n",
       "    </tr>\n",
       "    <tr>\n",
       "      <th>1</th>\n",
       "      <td>38464371</td>\n",
       "      <td>Diabetes and thyroiditis are closely related. ...</td>\n",
       "      <td>diabetes thyroiditis closely relate occur comb...</td>\n",
       "    </tr>\n",
       "    <tr>\n",
       "      <th>2</th>\n",
       "      <td>38449627</td>\n",
       "      <td>The thyroid represents the most prevalent form...</td>\n",
       "      <td>thyroid represent prevalent form head neck end...</td>\n",
       "    </tr>\n",
       "    <tr>\n",
       "      <th>3</th>\n",
       "      <td>38296053</td>\n",
       "      <td>Evidence suggests that hypothyroidism may be a...</td>\n",
       "      <td>evidence suggest hypothyroidism may associate ...</td>\n",
       "    </tr>\n",
       "    <tr>\n",
       "      <th>4</th>\n",
       "      <td>38287682</td>\n",
       "      <td>The aim of this study was to determine the imp...</td>\n",
       "      <td>aim study determine impact covid pandemic test...</td>\n",
       "    </tr>\n",
       "    <tr>\n",
       "      <th>...</th>\n",
       "      <td>...</td>\n",
       "      <td>...</td>\n",
       "      <td>...</td>\n",
       "    </tr>\n",
       "    <tr>\n",
       "      <th>635</th>\n",
       "      <td>6127000</td>\n",
       "      <td>A population sample of women in Göteborg, Swed...</td>\n",
       "      <td>population sample woman göteborg sweden study ...</td>\n",
       "    </tr>\n",
       "    <tr>\n",
       "      <th>636</th>\n",
       "      <td>7288274</td>\n",
       "      <td>This paper presents the results of various met...</td>\n",
       "      <td>paper present result various metabolic investi...</td>\n",
       "    </tr>\n",
       "    <tr>\n",
       "      <th>637</th>\n",
       "      <td>6794011</td>\n",
       "      <td>Low concentrations of thyrotropin-releasing ho...</td>\n",
       "      <td>low concentration thyrotropinreleasing hormone...</td>\n",
       "    </tr>\n",
       "    <tr>\n",
       "      <th>638</th>\n",
       "      <td>469388</td>\n",
       "      <td>The aetiology of Menière's disease is unknown ...</td>\n",
       "      <td>aetiology menières disease unknown recent year...</td>\n",
       "    </tr>\n",
       "    <tr>\n",
       "      <th>639</th>\n",
       "      <td>30020</td>\n",
       "      <td>To evaluate the effect of starvation, oral and...</td>\n",
       "      <td>evaluate effect starvation oral iv nutriment h...</td>\n",
       "    </tr>\n",
       "  </tbody>\n",
       "</table>\n",
       "<p>640 rows × 3 columns</p>\n",
       "</div>"
      ],
      "text/plain": [
       "         PMID                                           Abstract  \\\n",
       "0    38506164  The effectiveness of levothyroxine (LT4) in re...   \n",
       "1    38464371  Diabetes and thyroiditis are closely related. ...   \n",
       "2    38449627  The thyroid represents the most prevalent form...   \n",
       "3    38296053  Evidence suggests that hypothyroidism may be a...   \n",
       "4    38287682  The aim of this study was to determine the imp...   \n",
       "..        ...                                                ...   \n",
       "635   6127000  A population sample of women in Göteborg, Swed...   \n",
       "636   7288274  This paper presents the results of various met...   \n",
       "637   6794011  Low concentrations of thyrotropin-releasing ho...   \n",
       "638    469388  The aetiology of Menière's disease is unknown ...   \n",
       "639     30020  To evaluate the effect of starvation, oral and...   \n",
       "\n",
       "                                            clean_text  \n",
       "0    effectiveness levothyroxine lt restore thyroid...  \n",
       "1    diabetes thyroiditis closely relate occur comb...  \n",
       "2    thyroid represent prevalent form head neck end...  \n",
       "3    evidence suggest hypothyroidism may associate ...  \n",
       "4    aim study determine impact covid pandemic test...  \n",
       "..                                                 ...  \n",
       "635  population sample woman göteborg sweden study ...  \n",
       "636  paper present result various metabolic investi...  \n",
       "637  low concentration thyrotropinreleasing hormone...  \n",
       "638  aetiology menières disease unknown recent year...  \n",
       "639  evaluate effect starvation oral iv nutriment h...  \n",
       "\n",
       "[640 rows x 3 columns]"
      ]
     },
     "execution_count": 8,
     "metadata": {},
     "output_type": "execute_result"
    }
   ],
   "source": [
    "data['clean_text'] = data['Abstract'].apply(preprocessing)\n",
    "data"
   ]
  },
  {
   "cell_type": "markdown",
   "id": "3c22c414-0623-4d47-9bdb-060cbd5aa0ba",
   "metadata": {
    "jp-MarkdownHeadingCollapsed": true
   },
   "source": [
    "### Functions"
   ]
  },
  {
   "cell_type": "code",
   "execution_count": 9,
   "id": "aa68ab8d-d6ca-4b06-8924-a86e660a9750",
   "metadata": {},
   "outputs": [],
   "source": [
    "def lda_model_fit(n_components, max_iter, vectorized_documents):\n",
    "    lda_model = LatentDirichletAllocation(n_components=n_components, max_iter = max_iter)\n",
    "\n",
    "    # Fit the LDA on the vectorized documents\n",
    "    lda_model.fit(vectorized_documents)\n",
    "\n",
    "    return lda_model"
   ]
  },
  {
   "cell_type": "code",
   "execution_count": 10,
   "id": "6b4d9d4b-b7c9-4ee7-a8c1-17af6472df21",
   "metadata": {},
   "outputs": [],
   "source": [
    "def topics_list(model, vectorizer, top_words):\n",
    "    topics = []\n",
    "    for idx, topic in enumerate(model.components_):\n",
    "        # print(\"Topic %d:\" % (idx))\n",
    "        topic = [(vectorizer.get_feature_names_out()[i], topic[i]) for i in topic.argsort()[:-top_words - 1:-1]]\n",
    "        # print(topic)\n",
    "        topics.append(topic)\n",
    "    return topics"
   ]
  },
  {
   "cell_type": "code",
   "execution_count": 11,
   "id": "f1508153-b22f-431e-ab5a-f6d4c8ccfee0",
   "metadata": {},
   "outputs": [],
   "source": [
    "def print_topics(model, vectorizer):\n",
    "    topics = []\n",
    "    for idx, topic in enumerate(model.components_):\n",
    "        print(\"Topic %d:\" % (idx))\n",
    "        topic = [(vectorizer.get_feature_names_out()[i], topic[i]) for i in topic.argsort()[:-10 - 1:-1]]\n",
    "        print(topic)\n",
    "        topics.append(topic)\n",
    "    return topics"
   ]
  },
  {
   "cell_type": "code",
   "execution_count": 12,
   "id": "4982e1e0-6b01-4134-aa51-716f240738e0",
   "metadata": {},
   "outputs": [],
   "source": [
    "def graph_topics(topics):\n",
    "    # Calculating the number of rows and columns\n",
    "    num_sets = len(topics)\n",
    "    num_cols = 2  # Number of columns you want\n",
    "    num_rows = -(-num_sets // num_cols)  # Ceiling division to ensure enough rows\n",
    "\n",
    "    # Plotting each data set\n",
    "    fig, axs = plt.subplots(num_rows, num_cols, figsize=(15, 5*num_rows))\n",
    "    for i, data in enumerate(topics):\n",
    "        row = i // num_cols\n",
    "        col = i % num_cols\n",
    "        labels = [item[0] for item in data]\n",
    "        values = [item[1] for item in data]\n",
    "        axs[row, col].barh(labels, values, color='skyblue')\n",
    "        axs[row, col].set_ylabel('Keywords')\n",
    "        axs[row, col].set_title('Topic {}'.format(i))\n",
    "        axs[row, col].invert_yaxis()\n",
    "\n",
    "    plt.xlabel('Score')\n",
    "    plt.tight_layout()\n",
    "    plt.show()"
   ]
  },
  {
   "cell_type": "markdown",
   "id": "94573dc6-72d9-4ba1-bf6d-a84e33820706",
   "metadata": {
    "jp-MarkdownHeadingCollapsed": true
   },
   "source": [
    "### Run LDA to see the topics"
   ]
  },
  {
   "cell_type": "code",
   "execution_count": 13,
   "id": "4b66a543-a8ca-4f2d-8c29-5f3b29cb9068",
   "metadata": {},
   "outputs": [],
   "source": [
    "vectorizer = TfidfVectorizer(max_df = 0.98, ngram_range=(2,5))\n",
    "\n",
    "vectorized_documents = vectorizer.fit_transform(data['clean_text'])"
   ]
  },
  {
   "cell_type": "code",
   "execution_count": 14,
   "id": "7c73107d-3f55-4c88-89c1-8a57c5c00f87",
   "metadata": {},
   "outputs": [
    {
     "data": {
      "text/plain": [
       "(640, 339671)"
      ]
     },
     "execution_count": 14,
     "metadata": {},
     "output_type": "execute_result"
    }
   ],
   "source": [
    "vectorized_documents.shape"
   ]
  },
  {
   "cell_type": "code",
   "execution_count": 15,
   "id": "fa9636a1",
   "metadata": {},
   "outputs": [],
   "source": [
    "# Instantiate the LDA\n",
    "n_components = 10\n",
    "lda_model = LatentDirichletAllocation(n_components=n_components, max_iter = 500)\n",
    "\n",
    "# Fit the LDA on the vectorized documents\n",
    "lda_model.fit(vectorized_documents)"
   ]
  },
  {
   "cell_type": "code",
   "execution_count": null,
   "id": "f2448878",
   "metadata": {},
   "outputs": [],
   "source": [
    "document_topic_mixture = pd.DataFrame(lda_model.transform(vectorized_documents),\n",
    "                                    columns = [f\"topic_{i}\" for i in range(1, n_components+1)],\n",
    "                                    index = data['PMID'])\n",
    "document_topic_mixture"
   ]
  },
  {
   "cell_type": "code",
   "execution_count": null,
   "id": "90555ec9",
   "metadata": {},
   "outputs": [],
   "source": [
    "topic_word_mixture = pd.DataFrame(\n",
    "    lda_model.components_,\n",
    "    columns = vectorizer.get_feature_names_out(),\n",
    "    index = document_topic_mixture.columns\n",
    ")\n",
    "topic_word_mixture"
   ]
  },
  {
   "cell_type": "code",
   "execution_count": null,
   "id": "7a2074a3-2c9d-49f8-b774-a4b822f28937",
   "metadata": {
    "scrolled": true
   },
   "outputs": [],
   "source": [
    "topics = topics_list(lda_model, vectorizer, 5)"
   ]
  },
  {
   "cell_type": "code",
   "execution_count": null,
   "id": "7953e5be-74b7-4813-a545-3a73e52cfb46",
   "metadata": {},
   "outputs": [],
   "source": [
    "type(topics)"
   ]
  },
  {
   "cell_type": "code",
   "execution_count": null,
   "id": "043f8894-a6c4-4ab3-b356-b72f3458a5e4",
   "metadata": {},
   "outputs": [],
   "source": [
    "type(topics[0])"
   ]
  },
  {
   "cell_type": "code",
   "execution_count": null,
   "id": "9aaf6da3-ad95-4947-8e7e-9d2c11314d63",
   "metadata": {},
   "outputs": [],
   "source": [
    "type(topics[0][0])"
   ]
  },
  {
   "cell_type": "code",
   "execution_count": null,
   "id": "7d999c0d-7a08-4afc-a1e7-9d9779eda4f4",
   "metadata": {},
   "outputs": [],
   "source": [
    "topics[1][0]"
   ]
  },
  {
   "cell_type": "code",
   "execution_count": null,
   "id": "89b96bbf-19b0-433e-a32b-c59af3baee35",
   "metadata": {},
   "outputs": [],
   "source": [
    "len(topics)"
   ]
  },
  {
   "cell_type": "code",
   "execution_count": null,
   "id": "83b100bc-9520-4731-a867-0aa9845a3b82",
   "metadata": {},
   "outputs": [],
   "source": [
    "topics"
   ]
  },
  {
   "cell_type": "code",
   "execution_count": null,
   "id": "0128ade0-56c0-4516-b94f-da7d283c611c",
   "metadata": {},
   "outputs": [],
   "source": [
    "lda_model.components_.shape"
   ]
  },
  {
   "cell_type": "code",
   "execution_count": null,
   "id": "05d8f02f-3f81-4558-b4f2-fd53c833ad4e",
   "metadata": {},
   "outputs": [],
   "source": [
    "vectorizer.get_feature_names_out().shape"
   ]
  },
  {
   "cell_type": "code",
   "execution_count": null,
   "id": "6526da34-1bbd-464b-85ef-48d71ae459af",
   "metadata": {},
   "outputs": [],
   "source": [
    "lda_model.components_[1].sum()"
   ]
  },
  {
   "cell_type": "markdown",
   "id": "17df51ec-e692-491a-b92c-91c5bea26cd0",
   "metadata": {
    "jp-MarkdownHeadingCollapsed": true
   },
   "source": [
    "### Visualization"
   ]
  },
  {
   "cell_type": "code",
   "execution_count": null,
   "id": "a3bb1d2e-5fba-442a-aac3-39a75c3fa483",
   "metadata": {},
   "outputs": [],
   "source": [
    "data = topics[0]\n",
    "\n",
    "labels = [item[0] for item in data]\n",
    "values = [item[1] for item in data]\n",
    "\n",
    "# Creating bar chart\n",
    "plt.figure(figsize=(10, 6))\n",
    "plt.barh(labels, values, color='skyblue')\n",
    "plt.xlabel('Score')\n",
    "plt.ylabel('Keywords')\n",
    "plt.title('Keyword Scores')\n",
    "plt.gca().invert_yaxis()  # Invert y-axis to have the highest score at the top\n",
    "plt.show()"
   ]
  },
  {
   "cell_type": "code",
   "execution_count": null,
   "id": "c3a05bef-c5ff-4546-bac7-c413ea73b81c",
   "metadata": {
    "scrolled": true
   },
   "outputs": [],
   "source": [
    "graph_topics(topics)"
   ]
  },
  {
   "cell_type": "markdown",
   "id": "bf9e4785",
   "metadata": {},
   "source": [
    "## distributing the documents into their topics"
   ]
  },
  {
   "cell_type": "code",
   "execution_count": null,
   "id": "27e8d83c",
   "metadata": {},
   "outputs": [],
   "source": [
    "document_topic_mixture['Dominant_topic'] = document_topic_mixture.idxmax(axis=1)"
   ]
  },
  {
   "cell_type": "code",
   "execution_count": null,
   "id": "be2bdd05",
   "metadata": {},
   "outputs": [],
   "source": [
    "document_topic_mixture"
   ]
  },
  {
   "cell_type": "markdown",
   "id": "9a20d3d4",
   "metadata": {},
   "source": [
    "## Plotting the dominant topics distribution"
   ]
  },
  {
   "cell_type": "code",
   "execution_count": null,
   "id": "b4e04e3b",
   "metadata": {},
   "outputs": [],
   "source": [
    "# Count how many documents have each topic as the most dominant\n",
    "topic_counts = document_topic_mixture['Dominant_topic'].value_counts()\n",
    "topic_counts"
   ]
  },
  {
   "cell_type": "code",
   "execution_count": null,
   "id": "ed4e3cf6",
   "metadata": {},
   "outputs": [],
   "source": [
    "\n",
    "# Plot the pie chart\n",
    "plt.figure(figsize=(10, 8))\n",
    "plt.pie(topic_counts, labels=topic_counts.index, autopct='%1.1f%%', startangle=140)\n",
    "plt.title('Distribution of Most Dominant Topics Across Documents')\n",
    "plt.axis('equal')  # Equal aspect ratio ensures that pie is drawn as a circle.\n",
    "\n",
    "plt.show()"
   ]
  },
  {
   "cell_type": "code",
   "execution_count": null,
   "id": "195eed1f",
   "metadata": {},
   "outputs": [],
   "source": []
  },
  {
   "cell_type": "code",
   "execution_count": null,
   "id": "182d5928",
   "metadata": {},
   "outputs": [],
   "source": []
  }
 ],
 "metadata": {
  "kernelspec": {
   "display_name": "Python 3 (ipykernel)",
   "language": "python",
   "name": "python3"
  },
  "language_info": {
   "codemirror_mode": {
    "name": "ipython",
    "version": 3
   },
   "file_extension": ".py",
   "mimetype": "text/x-python",
   "name": "python",
   "nbconvert_exporter": "python",
   "pygments_lexer": "ipython3",
   "version": "3.10.6"
  }
 },
 "nbformat": 4,
 "nbformat_minor": 5
}
