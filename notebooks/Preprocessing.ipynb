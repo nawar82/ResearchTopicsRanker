{
 "cells": [
  {
   "cell_type": "markdown",
   "id": "d04f2293",
   "metadata": {},
   "source": [
    "# Preprocessing data"
   ]
  },
  {
   "cell_type": "markdown",
   "id": "0397a006",
   "metadata": {},
   "source": [
    "Preparing abstracts of papers for Natural Language Processing."
   ]
  },
  {
   "cell_type": "markdown",
   "id": "16342570",
   "metadata": {},
   "source": [
    "## Intro"
   ]
  },
  {
   "cell_type": "markdown",
   "id": "69ee2982-4f15-44b6-9d07-c0c58072837f",
   "metadata": {},
   "source": [
    "### Imports"
   ]
  },
  {
   "cell_type": "code",
   "execution_count": 1,
   "id": "94080cd5-a3bf-4671-91be-9f91e383534f",
   "metadata": {},
   "outputs": [
    {
     "name": "stdout",
     "output_type": "stream",
     "text": [
      "Requirement already satisfied: nltk in /home/fani/.pyenv/versions/3.10.6/envs/ResearchTopicsRanker/lib/python3.10/site-packages (3.8.1)\n",
      "Requirement already satisfied: click in /home/fani/.pyenv/versions/3.10.6/envs/ResearchTopicsRanker/lib/python3.10/site-packages (from nltk) (8.1.7)\n",
      "Requirement already satisfied: joblib in /home/fani/.pyenv/versions/3.10.6/envs/ResearchTopicsRanker/lib/python3.10/site-packages (from nltk) (1.3.2)\n",
      "Requirement already satisfied: regex>=2021.8.3 in /home/fani/.pyenv/versions/3.10.6/envs/ResearchTopicsRanker/lib/python3.10/site-packages (from nltk) (2023.12.25)\n",
      "Requirement already satisfied: tqdm in /home/fani/.pyenv/versions/3.10.6/envs/ResearchTopicsRanker/lib/python3.10/site-packages (from nltk) (4.66.2)\n"
     ]
    }
   ],
   "source": [
    "!pip install --upgrade nltk"
   ]
  },
  {
   "cell_type": "code",
   "execution_count": 2,
   "id": "c2b38ce1-e534-485e-afe6-dead21db01c0",
   "metadata": {
    "scrolled": true
   },
   "outputs": [
    {
     "name": "stderr",
     "output_type": "stream",
     "text": [
      "[nltk_data] Downloading package stopwords to /home/fani/nltk_data...\n",
      "[nltk_data]   Package stopwords is already up-to-date!\n",
      "[nltk_data] Downloading package punkt to /home/fani/nltk_data...\n",
      "[nltk_data]   Package punkt is already up-to-date!\n",
      "[nltk_data] Downloading package wordnet to /home/fani/nltk_data...\n",
      "[nltk_data]   Package wordnet is already up-to-date!\n",
      "[nltk_data] Downloading package omw-1.4 to /home/fani/nltk_data...\n",
      "[nltk_data]   Package omw-1.4 is already up-to-date!\n"
     ]
    },
    {
     "data": {
      "text/plain": [
       "True"
      ]
     },
     "execution_count": 2,
     "metadata": {},
     "output_type": "execute_result"
    }
   ],
   "source": [
    "import nltk\n",
    "import csv\n",
    "import string\n",
    "import unidecode\n",
    "import pandas as pd\n",
    "from nltk.tokenize import word_tokenize\n",
    "from nltk.corpus import stopwords\n",
    "from nltk.stem import WordNetLemmatizer\n",
    "from sklearn.feature_extraction.text import TfidfVectorizer\n",
    "nltk.download('stopwords')\n",
    "nltk.download('punkt')\n",
    "nltk.download('wordnet')\n",
    "nltk.download('omw-1.4')"
   ]
  },
  {
   "cell_type": "markdown",
   "id": "20c6a6fc",
   "metadata": {},
   "source": [
    "### Sample abstracts"
   ]
  },
  {
   "cell_type": "markdown",
   "id": "5c0b4ec9",
   "metadata": {},
   "source": [
    "Taking the abstracts of four papers to test data cleaning.\n",
    "1. Raichle ME. The brain's default mode network. Annu Rev Neurosci. 2015 Jul 8;38:433-47. doi: 10.1146/annurev-neuro-071013-014030. Epub 2015 May 4. PMID: 25938726.\n",
    "2. Thiebaut de Schotten M, Forkel SJ. The emergent properties of the connected brain. Science. 2022 Nov 4;378(6619):505-510. doi: 10.1126/science.abq2591. Epub 2022 Nov 3. PMID: 36378968.\n",
    "3. Alahmari A. Blood-Brain Barrier Overview: Structural and Functional Correlation. Neural Plast. 2021 Dec 6;2021:6564585. doi: 10.1155/2021/6564585. PMID: 34912450; PMCID: PMC8668349.\n",
    "4. Grabowska A. Sex on the brain: Are gender-dependent structural and functional differences associated with behavior? J Neurosci Res. 2017 Jan 2;95(1-2):200-212. doi: 10.1002/jnr.23953. PMID: 27870447."
   ]
  },
  {
   "cell_type": "code",
   "execution_count": 3,
   "id": "11ade6d6-3f8d-451e-95ec-b2349275fd5a",
   "metadata": {},
   "outputs": [],
   "source": [
    "default = \"The brain's default mode network consists of discrete, bilateral and symmetrical cortical areas, in the medial and lateral parietal, medial prefrontal, and medial and lateral temporal cortices of the human, nonhuman primate, cat, and rodent brains. Its discovery was an unexpected consequence of brain-imaging studies first performed with positron emission tomography in which various novel, attention-demanding, and non-self-referential tasks were compared with quiet repose either with eyes closed or with simple visual fixation. The default mode network consistently decreases its activity when compared with activity during these relaxed nontask states. The discovery of the default mode network reignited a longstanding interest in the significance of the brain's ongoing or intrinsic activity. Presently, studies of the brain's intrinsic activity, popularly referred to as resting-state studies, have come to play a major role in studies of the human brain in health and disease. The brain's default mode network plays a central role in this work.\"\n",
    "connected = \"There is more to brain connections than the mere transfer of signals between brain regions. Behavior and cognition emerge through cortical area interaction. This requires integration between local and distant areas orchestrated by densely connected networks. Brain connections determine the brain's functional organization. The imaging of connections in the living brain has provided an opportunity to identify the driving factors behind the neurobiology of cognition. Connectivity differences between species and among humans have furthered the understanding of brain evolution and of diverging cognitive profiles. Brain pathologies amplify this variability through disconnections and, consequently, the disintegration of cognitive functions. The prediction of long-term symptoms is now preferentially based on brain disconnections. This paradigm shift will reshape our brain maps and challenge current brain models. \"\n",
    "blood = \"The blood-brain barrier (BBB) is a semipermeable and extremely selective system in the central nervous system of most vertebrates, that separates blood from the brain's extracellular fluid. It plays a vital role in regulating the transport of necessary materials for brain function, furthermore, protecting it from foreign substances in the blood that could damage it. In this review, we searched in Google Scholar, Pubmed, Web of Science, and Saudi Digital Library for the various cells and components that support the development and function of this barrier, as well as the different pathways to transport the various molecules between blood and the brain. We also discussed the aspects that lead to BBB dysfunction and its neuropathological consequences, with the identification of some of the most important biomarkers that might be used as a biomarker to predict the BBB disturbances. This comprehensive overview of BBB will pave the way for future studies to focus on developing more specific targeting systems in material delivery as a future approach that assists in combinatorial therapy or nanotherapy to destroy or modify this barrier in pathological conditions such as brain tumors and brain stem cell carcinomas. \"\n",
    "gender = \"A substantial number of studies provide evidence documenting a variety of sex differences in the brain. It remains unclear whether sexual differentiation at the neural level is related to that observed in daily behavior, cognitive function, and the risk of developing certain psychiatric and neurological disorders. Some investigators have questioned whether the brain is truly sexually differentiated and support this view with several arguments including the following: (1) brain structural or functional differences are not necessarily reflected in appropriate differences at the behavioral level, which might suggest that these two phenomena are not linked to each other; and (2) sex-related differences in the brain are rather small and concern features that significantly overlap between males and females. This review polemicizes with those opinions and presents examples of sex-related local neural differences underpinning a variety of sex differences in behaviors, skills, and cognitive/emotional abilities. Although male/female brain differentiation may vary in pattern and scale, nonetheless, in some respects (e.g., relative local gray matter volumes) it can be substantial, taking the form of sexual dimorphism and involving large areas of the brain (the cortex in particular). A significant part of this review is devoted to arguing that some sex differences in the brain may serve to prevent (in the case where they are maladaptive), rather than to produce, differences at the behavioral/skill level. Specifically, some differences might result from compensatory mechanisms aimed at maintaining similar intellectual capacities across the sexes, despite the smaller average volume of the brain in females compared with males. © 2016 Wiley Periodicals, Inc. \"\n",
    "\n",
    "# Abstracts list and dataframe\n",
    "original = [default, connected, blood, gender]\n",
    "df = pd.DataFrame(original, columns=['Original Text'])"
   ]
  },
  {
   "cell_type": "markdown",
   "id": "4b61fe5e-48a6-4b94-b8d0-28a7780f8497",
   "metadata": {},
   "source": [
    "### Words to ignore"
   ]
  },
  {
   "cell_type": "markdown",
   "id": "c88e80f5-05f5-478d-a4c2-bbfe8c9c3a90",
   "metadata": {},
   "source": [
    "Academic words should not define the topic. We made a list of academic and medical jargon."
   ]
  },
  {
   "cell_type": "code",
   "execution_count": 4,
   "id": "737a8adb-8c8f-45b4-874b-16f0a8a82fd3",
   "metadata": {},
   "outputs": [
    {
     "data": {
      "text/plain": [
       "['abstract', 'academic', 'achievement']"
      ]
     },
     "execution_count": 4,
     "metadata": {},
     "output_type": "execute_result"
    }
   ],
   "source": [
    "with open ('stopwords.csv') as csvfile:\n",
    "    reader = csv.reader(csvfile)\n",
    "    academic_terms_proper_case = [word.strip('\\ufeff') for row in reader for word in row]\n",
    "\n",
    "academic_terms = [word.lower() for word in academic_terms_proper_case]\n",
    "academic_terms[0:3]"
   ]
  },
  {
   "cell_type": "markdown",
   "id": "9669ada5-5a87-490b-9a5a-645774963a8e",
   "metadata": {},
   "source": [
    "We will remove these terms before passing our data to the model."
   ]
  },
  {
   "cell_type": "markdown",
   "id": "72f23144",
   "metadata": {},
   "source": [
    "## Main function"
   ]
  },
  {
   "cell_type": "markdown",
   "id": "a75add8f-8457-4bec-bc7d-11c6130d47b7",
   "metadata": {},
   "source": [
    "We are building a function to use in our main python file"
   ]
  },
  {
   "cell_type": "markdown",
   "id": "e15f09f8",
   "metadata": {},
   "source": [
    "**Basic cleaning** | turning text into lowercase, removing numbers, removing punctuation, removing whitespaces.\n",
    "\n",
    "**Tokenization** | turning string into list of individual words.\n",
    "\n",
    "**Lemmatization** | simplifying word forms.\n",
    "\n",
    "**Removing stopwords** | keeping only useful words."
   ]
  },
  {
   "cell_type": "code",
   "execution_count": 5,
   "id": "ee962124",
   "metadata": {
    "scrolled": true
   },
   "outputs": [
    {
     "data": {
      "text/html": [
       "<div>\n",
       "<style scoped>\n",
       "    .dataframe tbody tr th:only-of-type {\n",
       "        vertical-align: middle;\n",
       "    }\n",
       "\n",
       "    .dataframe tbody tr th {\n",
       "        vertical-align: top;\n",
       "    }\n",
       "\n",
       "    .dataframe thead th {\n",
       "        text-align: right;\n",
       "    }\n",
       "</style>\n",
       "<table border=\"1\" class=\"dataframe\">\n",
       "  <thead>\n",
       "    <tr style=\"text-align: right;\">\n",
       "      <th></th>\n",
       "      <th>Original Text</th>\n",
       "      <th>Cleaned Text</th>\n",
       "    </tr>\n",
       "  </thead>\n",
       "  <tbody>\n",
       "    <tr>\n",
       "      <th>0</th>\n",
       "      <td>The brain's default mode network consists of d...</td>\n",
       "      <td>brain default mode network consist discrete bi...</td>\n",
       "    </tr>\n",
       "    <tr>\n",
       "      <th>1</th>\n",
       "      <td>There is more to brain connections than the me...</td>\n",
       "      <td>brain connection mere transfer signal brain re...</td>\n",
       "    </tr>\n",
       "    <tr>\n",
       "      <th>2</th>\n",
       "      <td>The blood-brain barrier (BBB) is a semipermeab...</td>\n",
       "      <td>bloodbrain barrier bbb semipermeable extremely...</td>\n",
       "    </tr>\n",
       "    <tr>\n",
       "      <th>3</th>\n",
       "      <td>A substantial number of studies provide eviden...</td>\n",
       "      <td>substantial number provide evidence document v...</td>\n",
       "    </tr>\n",
       "  </tbody>\n",
       "</table>\n",
       "</div>"
      ],
      "text/plain": [
       "                                       Original Text  \\\n",
       "0  The brain's default mode network consists of d...   \n",
       "1  There is more to brain connections than the me...   \n",
       "2  The blood-brain barrier (BBB) is a semipermeab...   \n",
       "3  A substantial number of studies provide eviden...   \n",
       "\n",
       "                                        Cleaned Text  \n",
       "0  brain default mode network consist discrete bi...  \n",
       "1  brain connection mere transfer signal brain re...  \n",
       "2  bloodbrain barrier bbb semipermeable extremely...  \n",
       "3  substantial number provide evidence document v...  "
      ]
     },
     "execution_count": 5,
     "metadata": {},
     "output_type": "execute_result"
    }
   ],
   "source": [
    " def preprocess(sentence):\n",
    "\n",
    "     if sentence is None:\n",
    "        return \"\" \n",
    "        \n",
    "     # Basic Cleaning\n",
    "     cleaned = sentence.lower()\n",
    "     cleaned = ''.join(char for char in cleaned if not char.isdigit())\n",
    "\n",
    "     for punctuation in string.punctuation:\n",
    "         cleaned = cleaned.replace(punctuation, '') \n",
    "\n",
    "     cleaned = cleaned.strip()\n",
    "     unaccented_string = unidecode.unidecode(cleaned) \n",
    "\n",
    "     # Tokenization\n",
    "     tokenized = word_tokenize(unaccented_string)\n",
    "\n",
    "     # Lemmatization\n",
    "     lemmatized = [WordNetLemmatizer().lemmatize(word, pos=\"v\") for word in tokenized]\n",
    "     lemmatized = [WordNetLemmatizer().lemmatize(word, pos=\"n\") for word in lemmatized]\n",
    "\n",
    "     # Remove Stopwords\n",
    "     stop_words = set(stopwords.words('english'))\n",
    "     tokenized_no_stopwords = [word for word in lemmatized if word not in stop_words]\n",
    "\n",
    "     # Filter out specialised stopwords from tokenized_no_stopwords\n",
    "     no_specialised_stopwords = [word for word in tokenized_no_stopwords if word.lower() not in academic_terms]\n",
    "\n",
    "     cleaned_sentence = \" \".join(no_specialised_stopwords)\n",
    "     return cleaned_sentence\n",
    "\n",
    "df['Cleaned Text'] = df[\"Original Text\"].apply(preprocess)\n",
    "df"
   ]
  },
  {
   "cell_type": "markdown",
   "id": "178c119d-be42-4490-b689-ad6d49515a1f",
   "metadata": {},
   "source": [
    "## Testing"
   ]
  },
  {
   "cell_type": "code",
   "execution_count": 6,
   "id": "fdc3393c-6ff7-4d5d-acc7-5e8549f37927",
   "metadata": {},
   "outputs": [],
   "source": [
    "test_word = 'arguments'\n",
    "text_number = 3\n",
    "test_word_lemma = WordNetLemmatizer().lemmatize(test_word)"
   ]
  },
  {
   "cell_type": "code",
   "execution_count": 7,
   "id": "be972440-f17f-4e83-a06f-63e826c82242",
   "metadata": {},
   "outputs": [],
   "source": [
    "assert test_word_lemma in academic_terms"
   ]
  },
  {
   "cell_type": "markdown",
   "id": "5379e6eb-38a6-4741-8bd0-23e1309a6d26",
   "metadata": {},
   "source": [
    "The word 'argument', which we have defined as a stopword"
   ]
  },
  {
   "cell_type": "code",
   "execution_count": 8,
   "id": "594adabd-f6a5-4c14-8df6-a5c8880f52c4",
   "metadata": {},
   "outputs": [],
   "source": [
    "assert test_word in df['Original Text'][text_number]"
   ]
  },
  {
   "cell_type": "markdown",
   "id": "ad41a1d3-bc87-42af-bdef-9b1f26aa89a6",
   "metadata": {},
   "source": [
    "... is found in a different grammatical form in the text, 'arguments'"
   ]
  },
  {
   "cell_type": "code",
   "execution_count": 9,
   "id": "b37e9d7a-dc60-43ed-9f12-745151ac9c75",
   "metadata": {},
   "outputs": [],
   "source": [
    "assert test_word not in df['Cleaned Text'][text_number]"
   ]
  },
  {
   "cell_type": "markdown",
   "id": "dd749353-e44a-4dc1-9c53-1b8d43eecffc",
   "metadata": {},
   "source": [
    "... and is removed as intended."
   ]
  },
  {
   "cell_type": "markdown",
   "id": "20c5e4c3-8aa6-4b12-a213-41c0c0ac3f87",
   "metadata": {},
   "source": [
    "## Stats"
   ]
  },
  {
   "cell_type": "code",
   "execution_count": 10,
   "id": "bff223be-a54f-4108-9aa1-a97c04f6c67a",
   "metadata": {},
   "outputs": [],
   "source": [
    "def count_removed_words(df):\n",
    "    stats = pd.DataFrame()\n",
    "    stats['original word count'] = df['Original Text'].str.split().str.len()\n",
    "    stats['cleaned word count'] = df['Cleaned Text'].str.split().str.len()\n",
    "    stats['words removed'] = stats['original word count'] - stats['cleaned word count']\n",
    "    stats['% of words removed'] = round((stats['words removed'] / stats['original word count'])*100).astype(int)\n",
    "    stats['% of words removed'] = stats['% of words removed'].astype(str) + ' %'\n",
    "    stats = stats.drop(columns=['original word count', 'cleaned word count'])\n",
    "    stats_df = df.join(stats)\n",
    "    return stats_df.sort_values(by='% of words removed',ascending=False)"
   ]
  },
  {
   "cell_type": "code",
   "execution_count": 11,
   "id": "5962d844-0e10-4271-bbf6-4144a883fa29",
   "metadata": {},
   "outputs": [
    {
     "data": {
      "text/html": [
       "<div>\n",
       "<style scoped>\n",
       "    .dataframe tbody tr th:only-of-type {\n",
       "        vertical-align: middle;\n",
       "    }\n",
       "\n",
       "    .dataframe tbody tr th {\n",
       "        vertical-align: top;\n",
       "    }\n",
       "\n",
       "    .dataframe thead th {\n",
       "        text-align: right;\n",
       "    }\n",
       "</style>\n",
       "<table border=\"1\" class=\"dataframe\">\n",
       "  <thead>\n",
       "    <tr style=\"text-align: right;\">\n",
       "      <th></th>\n",
       "      <th>Original Text</th>\n",
       "      <th>Cleaned Text</th>\n",
       "      <th>words removed</th>\n",
       "      <th>% of words removed</th>\n",
       "    </tr>\n",
       "  </thead>\n",
       "  <tbody>\n",
       "    <tr>\n",
       "      <th>2</th>\n",
       "      <td>The blood-brain barrier (BBB) is a semipermeab...</td>\n",
       "      <td>bloodbrain barrier bbb semipermeable extremely...</td>\n",
       "      <td>90</td>\n",
       "      <td>47 %</td>\n",
       "    </tr>\n",
       "    <tr>\n",
       "      <th>3</th>\n",
       "      <td>A substantial number of studies provide eviden...</td>\n",
       "      <td>substantial number provide evidence document v...</td>\n",
       "      <td>104</td>\n",
       "      <td>41 %</td>\n",
       "    </tr>\n",
       "    <tr>\n",
       "      <th>0</th>\n",
       "      <td>The brain's default mode network consists of d...</td>\n",
       "      <td>brain default mode network consist discrete bi...</td>\n",
       "      <td>59</td>\n",
       "      <td>39 %</td>\n",
       "    </tr>\n",
       "    <tr>\n",
       "      <th>1</th>\n",
       "      <td>There is more to brain connections than the me...</td>\n",
       "      <td>brain connection mere transfer signal brain re...</td>\n",
       "      <td>47</td>\n",
       "      <td>38 %</td>\n",
       "    </tr>\n",
       "  </tbody>\n",
       "</table>\n",
       "</div>"
      ],
      "text/plain": [
       "                                       Original Text  \\\n",
       "2  The blood-brain barrier (BBB) is a semipermeab...   \n",
       "3  A substantial number of studies provide eviden...   \n",
       "0  The brain's default mode network consists of d...   \n",
       "1  There is more to brain connections than the me...   \n",
       "\n",
       "                                        Cleaned Text  words removed  \\\n",
       "2  bloodbrain barrier bbb semipermeable extremely...             90   \n",
       "3  substantial number provide evidence document v...            104   \n",
       "0  brain default mode network consist discrete bi...             59   \n",
       "1  brain connection mere transfer signal brain re...             47   \n",
       "\n",
       "  % of words removed  \n",
       "2               47 %  \n",
       "3               41 %  \n",
       "0               39 %  \n",
       "1               38 %  "
      ]
     },
     "execution_count": 11,
     "metadata": {},
     "output_type": "execute_result"
    }
   ],
   "source": [
    "count_removed_words(df)"
   ]
  },
  {
   "cell_type": "markdown",
   "id": "f014cb87-8a34-447a-bb9d-d32eda677a88",
   "metadata": {},
   "source": [
    "# Vectorizing"
   ]
  },
  {
   "cell_type": "markdown",
   "id": "556bc649-287b-4732-bd2a-282deb647b53",
   "metadata": {},
   "source": [
    "Preparing data for LDA."
   ]
  },
  {
   "cell_type": "code",
   "execution_count": 12,
   "id": "bafcea3d-efce-4cc8-9afd-9d2fda4672b0",
   "metadata": {},
   "outputs": [
    {
     "data": {
      "text/html": [
       "<div>\n",
       "<style scoped>\n",
       "    .dataframe tbody tr th:only-of-type {\n",
       "        vertical-align: middle;\n",
       "    }\n",
       "\n",
       "    .dataframe tbody tr th {\n",
       "        vertical-align: top;\n",
       "    }\n",
       "\n",
       "    .dataframe thead th {\n",
       "        text-align: right;\n",
       "    }\n",
       "</style>\n",
       "<table border=\"1\" class=\"dataframe\">\n",
       "  <thead>\n",
       "    <tr style=\"text-align: right;\">\n",
       "      <th></th>\n",
       "      <th>ability</th>\n",
       "      <th>across</th>\n",
       "      <th>activity</th>\n",
       "      <th>also</th>\n",
       "      <th>although</th>\n",
       "      <th>among</th>\n",
       "      <th>amplify</th>\n",
       "      <th>approach</th>\n",
       "      <th>appropriate</th>\n",
       "      <th>area</th>\n",
       "      <th>...</th>\n",
       "      <th>view</th>\n",
       "      <th>visual</th>\n",
       "      <th>vital</th>\n",
       "      <th>volume</th>\n",
       "      <th>way</th>\n",
       "      <th>web</th>\n",
       "      <th>well</th>\n",
       "      <th>whether</th>\n",
       "      <th>wiley</th>\n",
       "      <th>work</th>\n",
       "    </tr>\n",
       "  </thead>\n",
       "  <tbody>\n",
       "    <tr>\n",
       "      <th>0</th>\n",
       "      <td>0.00000</td>\n",
       "      <td>0.00000</td>\n",
       "      <td>0.325289</td>\n",
       "      <td>0.00000</td>\n",
       "      <td>0.00000</td>\n",
       "      <td>0.000000</td>\n",
       "      <td>0.000000</td>\n",
       "      <td>0.00000</td>\n",
       "      <td>0.00000</td>\n",
       "      <td>0.051907</td>\n",
       "      <td>...</td>\n",
       "      <td>0.00000</td>\n",
       "      <td>0.081322</td>\n",
       "      <td>0.00000</td>\n",
       "      <td>0.00000</td>\n",
       "      <td>0.00000</td>\n",
       "      <td>0.00000</td>\n",
       "      <td>0.00000</td>\n",
       "      <td>0.00000</td>\n",
       "      <td>0.00000</td>\n",
       "      <td>0.081322</td>\n",
       "    </tr>\n",
       "    <tr>\n",
       "      <th>1</th>\n",
       "      <td>0.00000</td>\n",
       "      <td>0.00000</td>\n",
       "      <td>0.000000</td>\n",
       "      <td>0.00000</td>\n",
       "      <td>0.00000</td>\n",
       "      <td>0.100136</td>\n",
       "      <td>0.100136</td>\n",
       "      <td>0.00000</td>\n",
       "      <td>0.00000</td>\n",
       "      <td>0.127831</td>\n",
       "      <td>...</td>\n",
       "      <td>0.00000</td>\n",
       "      <td>0.000000</td>\n",
       "      <td>0.00000</td>\n",
       "      <td>0.00000</td>\n",
       "      <td>0.00000</td>\n",
       "      <td>0.00000</td>\n",
       "      <td>0.00000</td>\n",
       "      <td>0.00000</td>\n",
       "      <td>0.00000</td>\n",
       "      <td>0.000000</td>\n",
       "    </tr>\n",
       "    <tr>\n",
       "      <th>2</th>\n",
       "      <td>0.00000</td>\n",
       "      <td>0.00000</td>\n",
       "      <td>0.000000</td>\n",
       "      <td>0.08535</td>\n",
       "      <td>0.00000</td>\n",
       "      <td>0.000000</td>\n",
       "      <td>0.000000</td>\n",
       "      <td>0.08535</td>\n",
       "      <td>0.00000</td>\n",
       "      <td>0.000000</td>\n",
       "      <td>...</td>\n",
       "      <td>0.00000</td>\n",
       "      <td>0.000000</td>\n",
       "      <td>0.08535</td>\n",
       "      <td>0.00000</td>\n",
       "      <td>0.08535</td>\n",
       "      <td>0.08535</td>\n",
       "      <td>0.08535</td>\n",
       "      <td>0.00000</td>\n",
       "      <td>0.00000</td>\n",
       "      <td>0.000000</td>\n",
       "    </tr>\n",
       "    <tr>\n",
       "      <th>3</th>\n",
       "      <td>0.06463</td>\n",
       "      <td>0.06463</td>\n",
       "      <td>0.000000</td>\n",
       "      <td>0.00000</td>\n",
       "      <td>0.06463</td>\n",
       "      <td>0.000000</td>\n",
       "      <td>0.000000</td>\n",
       "      <td>0.00000</td>\n",
       "      <td>0.06463</td>\n",
       "      <td>0.041253</td>\n",
       "      <td>...</td>\n",
       "      <td>0.06463</td>\n",
       "      <td>0.000000</td>\n",
       "      <td>0.00000</td>\n",
       "      <td>0.12926</td>\n",
       "      <td>0.00000</td>\n",
       "      <td>0.00000</td>\n",
       "      <td>0.00000</td>\n",
       "      <td>0.12926</td>\n",
       "      <td>0.06463</td>\n",
       "      <td>0.000000</td>\n",
       "    </tr>\n",
       "  </tbody>\n",
       "</table>\n",
       "<p>4 rows × 298 columns</p>\n",
       "</div>"
      ],
      "text/plain": [
       "   ability   across  activity     also  although     among   amplify  \\\n",
       "0  0.00000  0.00000  0.325289  0.00000   0.00000  0.000000  0.000000   \n",
       "1  0.00000  0.00000  0.000000  0.00000   0.00000  0.100136  0.100136   \n",
       "2  0.00000  0.00000  0.000000  0.08535   0.00000  0.000000  0.000000   \n",
       "3  0.06463  0.06463  0.000000  0.00000   0.06463  0.000000  0.000000   \n",
       "\n",
       "   approach  appropriate      area  ...     view    visual    vital   volume  \\\n",
       "0   0.00000      0.00000  0.051907  ...  0.00000  0.081322  0.00000  0.00000   \n",
       "1   0.00000      0.00000  0.127831  ...  0.00000  0.000000  0.00000  0.00000   \n",
       "2   0.08535      0.00000  0.000000  ...  0.00000  0.000000  0.08535  0.00000   \n",
       "3   0.00000      0.06463  0.041253  ...  0.06463  0.000000  0.00000  0.12926   \n",
       "\n",
       "       way      web     well  whether    wiley      work  \n",
       "0  0.00000  0.00000  0.00000  0.00000  0.00000  0.081322  \n",
       "1  0.00000  0.00000  0.00000  0.00000  0.00000  0.000000  \n",
       "2  0.08535  0.08535  0.08535  0.00000  0.00000  0.000000  \n",
       "3  0.00000  0.00000  0.00000  0.12926  0.06463  0.000000  \n",
       "\n",
       "[4 rows x 298 columns]"
      ]
     },
     "execution_count": 12,
     "metadata": {},
     "output_type": "execute_result"
    }
   ],
   "source": [
    "vectorizer = TfidfVectorizer()\n",
    "weighted_words = pd.DataFrame(vectorizer.fit_transform(df['Cleaned Text']).toarray(),\n",
    "                 columns = vectorizer.get_feature_names_out())\n",
    "weighted_words"
   ]
  },
  {
   "cell_type": "markdown",
   "id": "b6fb91b6-40d8-4be3-9898-99e5a345b1a3",
   "metadata": {},
   "source": [
    "### Vectorizing test"
   ]
  },
  {
   "cell_type": "markdown",
   "id": "fa604c75-3f5e-42f9-8563-abdc3e4a2d71",
   "metadata": {},
   "source": [
    "Confirming that the defining term for the common topic of the three abstracts corresponds to the term I looked up to find them: brain."
   ]
  },
  {
   "cell_type": "code",
   "execution_count": 13,
   "id": "b5cc4d2b-52f8-4b49-93d4-7165a447916c",
   "metadata": {
    "scrolled": true
   },
   "outputs": [
    {
     "data": {
      "text/plain": [
       "'brain'"
      ]
     },
     "execution_count": 13,
     "metadata": {},
     "output_type": "execute_result"
    }
   ],
   "source": [
    "weighted_words.mean().sort_values(ascending=False).head(1).index[0]"
   ]
  }
 ],
 "metadata": {
  "kernelspec": {
   "display_name": "Python 3 (ipykernel)",
   "language": "python",
   "name": "python3"
  },
  "language_info": {
   "codemirror_mode": {
    "name": "ipython",
    "version": 3
   },
   "file_extension": ".py",
   "mimetype": "text/x-python",
   "name": "python",
   "nbconvert_exporter": "python",
   "pygments_lexer": "ipython3",
   "version": "3.10.6"
  },
  "toc": {
   "base_numbering": 1,
   "nav_menu": {},
   "number_sections": false,
   "sideBar": true,
   "skip_h1_title": false,
   "title_cell": "Table of Contents",
   "title_sidebar": "Contents",
   "toc_cell": false,
   "toc_position": {},
   "toc_section_display": true,
   "toc_window_display": true
  }
 },
 "nbformat": 4,
 "nbformat_minor": 5
}
