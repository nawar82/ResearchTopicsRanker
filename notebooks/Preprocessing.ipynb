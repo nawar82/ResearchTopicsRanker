{
 "cells": [
  {
   "cell_type": "markdown",
   "id": "d04f2293",
   "metadata": {},
   "source": [
    "# Preprocessing data"
   ]
  },
  {
   "cell_type": "markdown",
   "id": "0397a006",
   "metadata": {},
   "source": [
    "Preparing abstracts of papers for Natural Language Processing."
   ]
  },
  {
   "cell_type": "markdown",
   "id": "16342570",
   "metadata": {},
   "source": [
    "## Imports"
   ]
  },
  {
   "cell_type": "code",
   "execution_count": 51,
   "id": "53cdc189-df30-43ba-b70d-c650e7302a22",
   "metadata": {
    "scrolled": true
   },
   "outputs": [
    {
     "name": "stderr",
     "output_type": "stream",
     "text": [
      "[nltk_data] Downloading package stopwords to /home/fani/nltk_data...\n",
      "[nltk_data]   Package stopwords is already up-to-date!\n",
      "[nltk_data] Downloading package punkt to /home/fani/nltk_data...\n",
      "[nltk_data]   Package punkt is already up-to-date!\n",
      "[nltk_data] Downloading package wordnet to /home/fani/nltk_data...\n",
      "[nltk_data]   Package wordnet is already up-to-date!\n",
      "[nltk_data] Downloading package omw-1.4 to /home/fani/nltk_data...\n",
      "[nltk_data]   Package omw-1.4 is already up-to-date!\n"
     ]
    },
    {
     "data": {
      "text/plain": [
       "True"
      ]
     },
     "execution_count": 51,
     "metadata": {},
     "output_type": "execute_result"
    }
   ],
   "source": [
    "import string\n",
    "import nltk\n",
    "import unidecode\n",
    "import pandas as pd\n",
    "from nltk.tokenize import word_tokenize\n",
    "from nltk.corpus import stopwords\n",
    "from nltk.stem import WordNetLemmatizer\n",
    "from sklearn.feature_extraction.text import TfidfVectorizer\n",
    "nltk.download('stopwords')\n",
    "nltk.download('punkt')\n",
    "nltk.download('wordnet')\n",
    "nltk.download('omw-1.4')"
   ]
  },
  {
   "cell_type": "markdown",
   "id": "20c6a6fc",
   "metadata": {},
   "source": [
    "## Sample abstracts"
   ]
  },
  {
   "cell_type": "markdown",
   "id": "5c0b4ec9",
   "metadata": {},
   "source": [
    "Taking the abstracts of three papers to test data cleaning. The examples come from these papers:\n",
    "- Raichle ME. The brain's default mode network. Annu Rev Neurosci. 2015 Jul 8;38:433-47. doi: 10.1146/annurev-neuro-071013-014030. Epub 2015 May 4. PMID: 25938726.\n",
    "- Thiebaut de Schotten M, Forkel SJ. The emergent properties of the connected brain. Science. 2022 Nov 4;378(6619):505-510. doi: 10.1126/science.abq2591. Epub 2022 Nov 3. PMID: 36378968.\n",
    "- Alahmari A. Blood-Brain Barrier Overview: Structural and Functional Correlation. Neural Plast. 2021 Dec 6;2021:6564585. doi: 10.1155/2021/6564585. PMID: 34912450; PMCID: PMC8668349."
   ]
  },
  {
   "cell_type": "code",
   "execution_count": 52,
   "id": "51acdbe7",
   "metadata": {},
   "outputs": [],
   "source": [
    "default = \"The brain's default mode network consists of discrete, bilateral and symmetrical cortical areas, in the medial and lateral parietal, medial prefrontal, and medial and lateral temporal cortices of the human, nonhuman primate, cat, and rodent brains. Its discovery was an unexpected consequence of brain-imaging studies first performed with positron emission tomography in which various novel, attention-demanding, and non-self-referential tasks were compared with quiet repose either with eyes closed or with simple visual fixation. The default mode network consistently decreases its activity when compared with activity during these relaxed nontask states. The discovery of the default mode network reignited a longstanding interest in the significance of the brain's ongoing or intrinsic activity. Presently, studies of the brain's intrinsic activity, popularly referred to as resting-state studies, have come to play a major role in studies of the human brain in health and disease. The brain's default mode network plays a central role in this work.\"\n",
    "connected = \"There is more to brain connections than the mere transfer of signals between brain regions. Behavior and cognition emerge through cortical area interaction. This requires integration between local and distant areas orchestrated by densely connected networks. Brain connections determine the brain's functional organization. The imaging of connections in the living brain has provided an opportunity to identify the driving factors behind the neurobiology of cognition. Connectivity differences between species and among humans have furthered the understanding of brain evolution and of diverging cognitive profiles. Brain pathologies amplify this variability through disconnections and, consequently, the disintegration of cognitive functions. The prediction of long-term symptoms is now preferentially based on brain disconnections. This paradigm shift will reshape our brain maps and challenge current brain models. \"\n",
    "blood = \"The blood-brain barrier (BBB) is a semipermeable and extremely selective system in the central nervous system of most vertebrates, that separates blood from the brain's extracellular fluid. It plays a vital role in regulating the transport of necessary materials for brain function, furthermore, protecting it from foreign substances in the blood that could damage it. In this review, we searched in Google Scholar, Pubmed, Web of Science, and Saudi Digital Library for the various cells and components that support the development and function of this barrier, as well as the different pathways to transport the various molecules between blood and the brain. We also discussed the aspects that lead to BBB dysfunction and its neuropathological consequences, with the identification of some of the most important biomarkers that might be used as a biomarker to predict the BBB disturbances. This comprehensive overview of BBB will pave the way for future studies to focus on developing more specific targeting systems in material delivery as a future approach that assists in combinatorial therapy or nanotherapy to destroy or modify this barrier in pathological conditions such as brain tumors and brain stem cell carcinomas. \""
   ]
  },
  {
   "cell_type": "code",
   "execution_count": 53,
   "id": "f8c4685d",
   "metadata": {},
   "outputs": [],
   "source": [
    "# List with abstracts\n",
    "original = [default, connected, blood]"
   ]
  },
  {
   "cell_type": "code",
   "execution_count": 54,
   "id": "c03e423b-e026-4f32-a8e5-90b0501645d0",
   "metadata": {
    "scrolled": true
   },
   "outputs": [],
   "source": [
    "#Abstracts into dataframe\n",
    "abstracts_df = pd.DataFrame(original, columns=['original'])"
   ]
  },
  {
   "cell_type": "code",
   "execution_count": 55,
   "id": "a66f7285",
   "metadata": {},
   "outputs": [
    {
     "data": {
      "text/html": [
       "<div>\n",
       "<style scoped>\n",
       "    .dataframe tbody tr th:only-of-type {\n",
       "        vertical-align: middle;\n",
       "    }\n",
       "\n",
       "    .dataframe tbody tr th {\n",
       "        vertical-align: top;\n",
       "    }\n",
       "\n",
       "    .dataframe thead th {\n",
       "        text-align: right;\n",
       "    }\n",
       "</style>\n",
       "<table border=\"1\" class=\"dataframe\">\n",
       "  <thead>\n",
       "    <tr style=\"text-align: right;\">\n",
       "      <th></th>\n",
       "      <th>original</th>\n",
       "    </tr>\n",
       "  </thead>\n",
       "  <tbody>\n",
       "    <tr>\n",
       "      <th>0</th>\n",
       "      <td>The brain's default mode network consists of d...</td>\n",
       "    </tr>\n",
       "    <tr>\n",
       "      <th>1</th>\n",
       "      <td>There is more to brain connections than the me...</td>\n",
       "    </tr>\n",
       "    <tr>\n",
       "      <th>2</th>\n",
       "      <td>The blood-brain barrier (BBB) is a semipermeab...</td>\n",
       "    </tr>\n",
       "  </tbody>\n",
       "</table>\n",
       "</div>"
      ],
      "text/plain": [
       "                                            original\n",
       "0  The brain's default mode network consists of d...\n",
       "1  There is more to brain connections than the me...\n",
       "2  The blood-brain barrier (BBB) is a semipermeab..."
      ]
     },
     "execution_count": 55,
     "metadata": {},
     "output_type": "execute_result"
    }
   ],
   "source": [
    "abstracts_df"
   ]
  },
  {
   "cell_type": "markdown",
   "id": "72f23144",
   "metadata": {},
   "source": [
    "## Processing data"
   ]
  },
  {
   "cell_type": "markdown",
   "id": "e15f09f8",
   "metadata": {},
   "source": [
    "Processing the abstract of a paper.\n",
    "\n",
    "### Basic cleaning\n",
    "- turning text into lowercase\n",
    "- removing numbers\n",
    "- removing punctuation\n",
    "- removing spaces in the beginning and the end\n",
    "\n",
    "### Tokenization\n",
    "Turning string into list of individual words.\n",
    "\n",
    "### Removing stopwords\n",
    "Keeping only useful words.\n",
    "\n",
    "### Lemmatization\n",
    "Simplifying word forms"
   ]
  },
  {
   "cell_type": "markdown",
   "id": "4b61fe5e-48a6-4b94-b8d0-28a7780f8497",
   "metadata": {},
   "source": [
    "### Defining stopwords"
   ]
  },
  {
   "cell_type": "markdown",
   "id": "b2c61674-4fd5-4e3e-a2ae-edc839782cb9",
   "metadata": {},
   "source": [
    "#### Generic stopwords"
   ]
  },
  {
   "cell_type": "code",
   "execution_count": 56,
   "id": "1dff4674-15d7-4b29-9fbe-cd852b737732",
   "metadata": {},
   "outputs": [],
   "source": [
    "stop_words = set(stopwords.words('english'))"
   ]
  },
  {
   "cell_type": "markdown",
   "id": "b5fe9362-f158-4d65-9e50-de303859795b",
   "metadata": {},
   "source": [
    "#### Specialised stopwords"
   ]
  },
  {
   "cell_type": "markdown",
   "id": "39ad320e-780e-4608-95ad-4a29c0607f78",
   "metadata": {},
   "source": [
    "Making a vocabulary with academic and medical terms to ignore."
   ]
  },
  {
   "cell_type": "code",
   "execution_count": 57,
   "id": "af80e776-749a-4eda-9076-81377bb26323",
   "metadata": {},
   "outputs": [],
   "source": [
    "with open ('stopwords.csv') as csvfile:\n",
    "    reader = csv.reader(csvfile)\n",
    "    specialised_stopwords = [word.strip('\\ufeff') for row in reader for word in row]"
   ]
  },
  {
   "cell_type": "code",
   "execution_count": 58,
   "id": "ee962124",
   "metadata": {},
   "outputs": [],
   "source": [
    " def preprocess(sentence):\n",
    "\n",
    "     #print(text)\n",
    "     if sentence is None:\n",
    "        return \"\"  # Return an empty string if the text is None\n",
    "        \n",
    "     # Basic Cleaning\n",
    "     cleaned = sentence.lower()\n",
    "     cleaned = ''.join(char for char in cleaned if not char.isdigit())\n",
    "\n",
    "     for punctuation in string.punctuation:\n",
    "         cleaned = cleaned.replace(punctuation, '') \n",
    "\n",
    "     cleaned = cleaned.strip()\n",
    "     unaccented_string = unidecode.unidecode(cleaned) \n",
    "\n",
    "     # Tokenization\n",
    "     tokenized = word_tokenize(unaccented_string)\n",
    "\n",
    "     # Remove Stopwords\n",
    "     #stop_words = set(stopwords.words('english'))\n",
    "     tokenized_no_stopwords = [word for word in tokenized if word not in stop_words]\n",
    "\n",
    "     # Convert specialised_stopwords to lowercase\n",
    "     specialised_stopwords_lower = [word.lower() for word in specialised_stopwords]\n",
    "\n",
    "     # Filter out specialised stopwords from tokenized_no_stopwords\n",
    "     no_specialised_stopwords = [word for word in tokenized_no_stopwords if word.lower() not in specialised_stopwords_lower]\n",
    "\n",
    "     # Lemmatization\n",
    "     lemmatized = [WordNetLemmatizer().lemmatize(word, pos=\"v\") for word in no_specialised_stopwords]\n",
    "     lemmatized = [WordNetLemmatizer().lemmatize(word, pos=\"n\") for word in lemmatized]\n",
    "\n",
    "     cleaned_sentence = \" \".join(lemmatized)\n",
    "     return cleaned_sentence"
   ]
  },
  {
   "cell_type": "markdown",
   "id": "f423c250",
   "metadata": {},
   "source": [
    "### Applying on dataframe column"
   ]
  },
  {
   "cell_type": "code",
   "execution_count": 59,
   "id": "87c967c6",
   "metadata": {},
   "outputs": [],
   "source": [
    "abstracts_df['cleaned'] = abstracts_df[\"original\"].apply(preprocess)"
   ]
  },
  {
   "cell_type": "code",
   "execution_count": 60,
   "id": "148a0dec-7a2e-4ed2-8fc5-552e4b27c58e",
   "metadata": {
    "scrolled": true
   },
   "outputs": [
    {
     "data": {
      "text/html": [
       "<div>\n",
       "<style scoped>\n",
       "    .dataframe tbody tr th:only-of-type {\n",
       "        vertical-align: middle;\n",
       "    }\n",
       "\n",
       "    .dataframe tbody tr th {\n",
       "        vertical-align: top;\n",
       "    }\n",
       "\n",
       "    .dataframe thead th {\n",
       "        text-align: right;\n",
       "    }\n",
       "</style>\n",
       "<table border=\"1\" class=\"dataframe\">\n",
       "  <thead>\n",
       "    <tr style=\"text-align: right;\">\n",
       "      <th></th>\n",
       "      <th>original</th>\n",
       "      <th>cleaned</th>\n",
       "    </tr>\n",
       "  </thead>\n",
       "  <tbody>\n",
       "    <tr>\n",
       "      <th>0</th>\n",
       "      <td>The brain's default mode network consists of d...</td>\n",
       "      <td>brain default mode network consist discrete bi...</td>\n",
       "    </tr>\n",
       "    <tr>\n",
       "      <th>1</th>\n",
       "      <td>There is more to brain connections than the me...</td>\n",
       "      <td>brain connection mere transfer signal brain re...</td>\n",
       "    </tr>\n",
       "    <tr>\n",
       "      <th>2</th>\n",
       "      <td>The blood-brain barrier (BBB) is a semipermeab...</td>\n",
       "      <td>bloodbrain barrier bbb semipermeable extremely...</td>\n",
       "    </tr>\n",
       "  </tbody>\n",
       "</table>\n",
       "</div>"
      ],
      "text/plain": [
       "                                            original  \\\n",
       "0  The brain's default mode network consists of d...   \n",
       "1  There is more to brain connections than the me...   \n",
       "2  The blood-brain barrier (BBB) is a semipermeab...   \n",
       "\n",
       "                                             cleaned  \n",
       "0  brain default mode network consist discrete bi...  \n",
       "1  brain connection mere transfer signal brain re...  \n",
       "2  bloodbrain barrier bbb semipermeable extremely...  "
      ]
     },
     "execution_count": 60,
     "metadata": {},
     "output_type": "execute_result"
    }
   ],
   "source": [
    "abstracts_df"
   ]
  },
  {
   "cell_type": "markdown",
   "id": "9a14c529-64db-4a8c-ba03-3d99fe8bf64c",
   "metadata": {},
   "source": [
    "### Applying on list"
   ]
  },
  {
   "cell_type": "code",
   "execution_count": 61,
   "id": "739fc6ab-46b2-486d-9970-f6f44a1f6fb2",
   "metadata": {},
   "outputs": [],
   "source": [
    "processed_original = [preprocess(i) for i in original]"
   ]
  },
  {
   "cell_type": "markdown",
   "id": "f014cb87-8a34-447a-bb9d-d32eda677a88",
   "metadata": {},
   "source": [
    "# Vectorizing"
   ]
  },
  {
   "cell_type": "markdown",
   "id": "556bc649-287b-4732-bd2a-282deb647b53",
   "metadata": {},
   "source": [
    "Preparing data for LDA."
   ]
  },
  {
   "cell_type": "code",
   "execution_count": 30,
   "id": "7e9afd4d-574e-4aff-8ab8-ac8059590a24",
   "metadata": {},
   "outputs": [
    {
     "data": {
      "text/html": [
       "<div>\n",
       "<style scoped>\n",
       "    .dataframe tbody tr th:only-of-type {\n",
       "        vertical-align: middle;\n",
       "    }\n",
       "\n",
       "    .dataframe tbody tr th {\n",
       "        vertical-align: top;\n",
       "    }\n",
       "\n",
       "    .dataframe thead th {\n",
       "        text-align: right;\n",
       "    }\n",
       "</style>\n",
       "<table border=\"1\" class=\"dataframe\">\n",
       "  <thead>\n",
       "    <tr style=\"text-align: right;\">\n",
       "      <th></th>\n",
       "      <th>activity</th>\n",
       "      <th>also</th>\n",
       "      <th>among</th>\n",
       "      <th>amplify</th>\n",
       "      <th>approach</th>\n",
       "      <th>area</th>\n",
       "      <th>aspect</th>\n",
       "      <th>assist</th>\n",
       "      <th>attentiondemanding</th>\n",
       "      <th>barrier</th>\n",
       "      <th>...</th>\n",
       "      <th>use</th>\n",
       "      <th>variability</th>\n",
       "      <th>various</th>\n",
       "      <th>vertebrate</th>\n",
       "      <th>visual</th>\n",
       "      <th>vital</th>\n",
       "      <th>way</th>\n",
       "      <th>web</th>\n",
       "      <th>well</th>\n",
       "      <th>work</th>\n",
       "    </tr>\n",
       "  </thead>\n",
       "  <tbody>\n",
       "    <tr>\n",
       "      <th>0</th>\n",
       "      <td>0.312443</td>\n",
       "      <td>0.000000</td>\n",
       "      <td>0.000000</td>\n",
       "      <td>0.000000</td>\n",
       "      <td>0.000000</td>\n",
       "      <td>0.059405</td>\n",
       "      <td>0.000000</td>\n",
       "      <td>0.000000</td>\n",
       "      <td>0.078111</td>\n",
       "      <td>0.000000</td>\n",
       "      <td>...</td>\n",
       "      <td>0.000000</td>\n",
       "      <td>0.000000</td>\n",
       "      <td>0.059405</td>\n",
       "      <td>0.000000</td>\n",
       "      <td>0.078111</td>\n",
       "      <td>0.000000</td>\n",
       "      <td>0.000000</td>\n",
       "      <td>0.000000</td>\n",
       "      <td>0.000000</td>\n",
       "      <td>0.078111</td>\n",
       "    </tr>\n",
       "    <tr>\n",
       "      <th>1</th>\n",
       "      <td>0.000000</td>\n",
       "      <td>0.000000</td>\n",
       "      <td>0.094277</td>\n",
       "      <td>0.094277</td>\n",
       "      <td>0.000000</td>\n",
       "      <td>0.143400</td>\n",
       "      <td>0.000000</td>\n",
       "      <td>0.000000</td>\n",
       "      <td>0.000000</td>\n",
       "      <td>0.000000</td>\n",
       "      <td>...</td>\n",
       "      <td>0.000000</td>\n",
       "      <td>0.094277</td>\n",
       "      <td>0.000000</td>\n",
       "      <td>0.000000</td>\n",
       "      <td>0.000000</td>\n",
       "      <td>0.000000</td>\n",
       "      <td>0.000000</td>\n",
       "      <td>0.000000</td>\n",
       "      <td>0.000000</td>\n",
       "      <td>0.000000</td>\n",
       "    </tr>\n",
       "    <tr>\n",
       "      <th>2</th>\n",
       "      <td>0.000000</td>\n",
       "      <td>0.082977</td>\n",
       "      <td>0.000000</td>\n",
       "      <td>0.000000</td>\n",
       "      <td>0.082977</td>\n",
       "      <td>0.000000</td>\n",
       "      <td>0.082977</td>\n",
       "      <td>0.082977</td>\n",
       "      <td>0.000000</td>\n",
       "      <td>0.248931</td>\n",
       "      <td>...</td>\n",
       "      <td>0.082977</td>\n",
       "      <td>0.000000</td>\n",
       "      <td>0.126212</td>\n",
       "      <td>0.082977</td>\n",
       "      <td>0.000000</td>\n",
       "      <td>0.082977</td>\n",
       "      <td>0.082977</td>\n",
       "      <td>0.082977</td>\n",
       "      <td>0.082977</td>\n",
       "      <td>0.000000</td>\n",
       "    </tr>\n",
       "  </tbody>\n",
       "</table>\n",
       "<p>3 rows × 204 columns</p>\n",
       "</div>"
      ],
      "text/plain": [
       "   activity      also     among   amplify  approach      area    aspect  \\\n",
       "0  0.312443  0.000000  0.000000  0.000000  0.000000  0.059405  0.000000   \n",
       "1  0.000000  0.000000  0.094277  0.094277  0.000000  0.143400  0.000000   \n",
       "2  0.000000  0.082977  0.000000  0.000000  0.082977  0.000000  0.082977   \n",
       "\n",
       "     assist  attentiondemanding   barrier  ...       use  variability  \\\n",
       "0  0.000000            0.078111  0.000000  ...  0.000000     0.000000   \n",
       "1  0.000000            0.000000  0.000000  ...  0.000000     0.094277   \n",
       "2  0.082977            0.000000  0.248931  ...  0.082977     0.000000   \n",
       "\n",
       "    various  vertebrate    visual     vital       way       web      well  \\\n",
       "0  0.059405    0.000000  0.078111  0.000000  0.000000  0.000000  0.000000   \n",
       "1  0.000000    0.000000  0.000000  0.000000  0.000000  0.000000  0.000000   \n",
       "2  0.126212    0.082977  0.000000  0.082977  0.082977  0.082977  0.082977   \n",
       "\n",
       "       work  \n",
       "0  0.078111  \n",
       "1  0.000000  \n",
       "2  0.000000  \n",
       "\n",
       "[3 rows x 204 columns]"
      ]
     },
     "execution_count": 30,
     "metadata": {},
     "output_type": "execute_result"
    }
   ],
   "source": [
    "vectorizer = TfidfVectorizer()\n",
    "\n",
    "weighted_words = pd.DataFrame(vectorizer.fit_transform(abstracts_df['cleaned']).toarray(),\n",
    "                 columns = vectorizer.get_feature_names_out())\n",
    "\n",
    "weighted_words"
   ]
  },
  {
   "cell_type": "markdown",
   "id": "b6fb91b6-40d8-4be3-9898-99e5a345b1a3",
   "metadata": {},
   "source": [
    "### Vectorizing test"
   ]
  },
  {
   "cell_type": "markdown",
   "id": "fa604c75-3f5e-42f9-8563-abdc3e4a2d71",
   "metadata": {},
   "source": [
    "Confirming that the defining term for the common topic of the three abstracts corresponds to the term I looked up to find them: brain."
   ]
  },
  {
   "cell_type": "code",
   "execution_count": 40,
   "id": "b5cc4d2b-52f8-4b49-93d4-7165a447916c",
   "metadata": {
    "scrolled": true
   },
   "outputs": [
    {
     "data": {
      "text/plain": [
       "'brain'"
      ]
     },
     "execution_count": 40,
     "metadata": {},
     "output_type": "execute_result"
    }
   ],
   "source": [
    "weighted_words.mean().sort_values(ascending=False).head(1).index[0]"
   ]
  }
 ],
 "metadata": {
  "kernelspec": {
   "display_name": "Python 3 (ipykernel)",
   "language": "python",
   "name": "python3"
  },
  "language_info": {
   "codemirror_mode": {
    "name": "ipython",
    "version": 3
   },
   "file_extension": ".py",
   "mimetype": "text/x-python",
   "name": "python",
   "nbconvert_exporter": "python",
   "pygments_lexer": "ipython3",
   "version": "3.10.6"
  },
  "toc": {
   "base_numbering": 1,
   "nav_menu": {},
   "number_sections": false,
   "sideBar": true,
   "skip_h1_title": false,
   "title_cell": "Table of Contents",
   "title_sidebar": "Contents",
   "toc_cell": false,
   "toc_position": {},
   "toc_section_display": true,
   "toc_window_display": true
  }
 },
 "nbformat": 4,
 "nbformat_minor": 5
}
