{
 "cells": [
  {
   "cell_type": "markdown",
   "id": "d04f2293",
   "metadata": {},
   "source": [
    "# Preprocessing data"
   ]
  },
  {
   "cell_type": "markdown",
   "id": "0397a006",
   "metadata": {},
   "source": [
    "Preparing abstracts of papers for Natural Language Processing."
   ]
  },
  {
   "cell_type": "markdown",
   "id": "16342570",
   "metadata": {},
   "source": [
    "## Imports"
   ]
  },
  {
   "cell_type": "code",
   "execution_count": 2,
   "id": "53cdc189-df30-43ba-b70d-c650e7302a22",
   "metadata": {
    "scrolled": true
   },
   "outputs": [
    {
     "name": "stderr",
     "output_type": "stream",
     "text": [
      "[nltk_data] Downloading package stopwords to /home/fani/nltk_data...\n",
      "[nltk_data]   Package stopwords is already up-to-date!\n",
      "[nltk_data] Downloading package punkt to /home/fani/nltk_data...\n",
      "[nltk_data]   Package punkt is already up-to-date!\n",
      "[nltk_data] Downloading package wordnet to /home/fani/nltk_data...\n",
      "[nltk_data]   Package wordnet is already up-to-date!\n",
      "[nltk_data] Downloading package omw-1.4 to /home/fani/nltk_data...\n",
      "[nltk_data]   Package omw-1.4 is already up-to-date!\n"
     ]
    },
    {
     "data": {
      "text/plain": [
       "True"
      ]
     },
     "execution_count": 2,
     "metadata": {},
     "output_type": "execute_result"
    }
   ],
   "source": [
    "import string\n",
    "import nltk\n",
    "import pandas as pd\n",
    "from nltk.tokenize import word_tokenize\n",
    "from nltk.corpus import stopwords \n",
    "from nltk.stem import WordNetLemmatizer\n",
    "nltk.download('stopwords')\n",
    "nltk.download('punkt')\n",
    "nltk.download('wordnet')\n",
    "nltk.download('omw-1.4')"
   ]
  },
  {
   "cell_type": "markdown",
   "id": "20c6a6fc",
   "metadata": {},
   "source": [
    "## Sample abstracts"
   ]
  },
  {
   "cell_type": "markdown",
   "id": "5c0b4ec9",
   "metadata": {},
   "source": [
    "Taking the abstracts of three papers to test data cleaning. The examples come from these papers:\n",
    "- Raichle ME. The brain's default mode network. Annu Rev Neurosci. 2015 Jul 8;38:433-47. doi: 10.1146/annurev-neuro-071013-014030. Epub 2015 May 4. PMID: 25938726.\n",
    "- Thiebaut de Schotten M, Forkel SJ. The emergent properties of the connected brain. Science. 2022 Nov 4;378(6619):505-510. doi: 10.1126/science.abq2591. Epub 2022 Nov 3. PMID: 36378968.\n",
    "- Alahmari A. Blood-Brain Barrier Overview: Structural and Functional Correlation. Neural Plast. 2021 Dec 6;2021:6564585. doi: 10.1155/2021/6564585. PMID: 34912450; PMCID: PMC8668349."
   ]
  },
  {
   "cell_type": "code",
   "execution_count": 40,
   "id": "51acdbe7",
   "metadata": {},
   "outputs": [],
   "source": [
    "default = \"The brain's default mode network consists of discrete, bilateral and symmetrical cortical areas, in the medial and lateral parietal, medial prefrontal, and medial and lateral temporal cortices of the human, nonhuman primate, cat, and rodent brains. Its discovery was an unexpected consequence of brain-imaging studies first performed with positron emission tomography in which various novel, attention-demanding, and non-self-referential tasks were compared with quiet repose either with eyes closed or with simple visual fixation. The default mode network consistently decreases its activity when compared with activity during these relaxed nontask states. The discovery of the default mode network reignited a longstanding interest in the significance of the brain's ongoing or intrinsic activity. Presently, studies of the brain's intrinsic activity, popularly referred to as resting-state studies, have come to play a major role in studies of the human brain in health and disease. The brain's default mode network plays a central role in this work.\"\n",
    "connected = \"There is more to brain connections than the mere transfer of signals between brain regions. Behavior and cognition emerge through cortical area interaction. This requires integration between local and distant areas orchestrated by densely connected networks. Brain connections determine the brain's functional organization. The imaging of connections in the living brain has provided an opportunity to identify the driving factors behind the neurobiology of cognition. Connectivity differences between species and among humans have furthered the understanding of brain evolution and of diverging cognitive profiles. Brain pathologies amplify this variability through disconnections and, consequently, the disintegration of cognitive functions. The prediction of long-term symptoms is now preferentially based on brain disconnections. This paradigm shift will reshape our brain maps and challenge current brain models. \"\n",
    "blood = \"The blood-brain barrier (BBB) is a semipermeable and extremely selective system in the central nervous system of most vertebrates, that separates blood from the brain's extracellular fluid. It plays a vital role in regulating the transport of necessary materials for brain function, furthermore, protecting it from foreign substances in the blood that could damage it. In this review, we searched in Google Scholar, Pubmed, Web of Science, and Saudi Digital Library for the various cells and components that support the development and function of this barrier, as well as the different pathways to transport the various molecules between blood and the brain. We also discussed the aspects that lead to BBB dysfunction and its neuropathological consequences, with the identification of some of the most important biomarkers that might be used as a biomarker to predict the BBB disturbances. This comprehensive overview of BBB will pave the way for future studies to focus on developing more specific targeting systems in material delivery as a future approach that assists in combinatorial therapy or nanotherapy to destroy or modify this barrier in pathological conditions such as brain tumors and brain stem cell carcinomas. \""
   ]
  },
  {
   "cell_type": "code",
   "execution_count": 41,
   "id": "f8c4685d",
   "metadata": {},
   "outputs": [],
   "source": [
    "# List with abstracts\n",
    "abstracts = [default, connected, blood]"
   ]
  },
  {
   "cell_type": "code",
   "execution_count": 42,
   "id": "2b52276f",
   "metadata": {},
   "outputs": [
    {
     "data": {
      "text/plain": [
       "[\"The brain's default mode network consists of discrete, bilateral and symmetrical cortical areas, in the medial and lateral parietal, medial prefrontal, and medial and lateral temporal cortices of the human, nonhuman primate, cat, and rodent brains. Its discovery was an unexpected consequence of brain-imaging studies first performed with positron emission tomography in which various novel, attention-demanding, and non-self-referential tasks were compared with quiet repose either with eyes closed or with simple visual fixation. The default mode network consistently decreases its activity when compared with activity during these relaxed nontask states. The discovery of the default mode network reignited a longstanding interest in the significance of the brain's ongoing or intrinsic activity. Presently, studies of the brain's intrinsic activity, popularly referred to as resting-state studies, have come to play a major role in studies of the human brain in health and disease. The brain's default mode network plays a central role in this work.\",\n",
       " \"There is more to brain connections than the mere transfer of signals between brain regions. Behavior and cognition emerge through cortical area interaction. This requires integration between local and distant areas orchestrated by densely connected networks. Brain connections determine the brain's functional organization. The imaging of connections in the living brain has provided an opportunity to identify the driving factors behind the neurobiology of cognition. Connectivity differences between species and among humans have furthered the understanding of brain evolution and of diverging cognitive profiles. Brain pathologies amplify this variability through disconnections and, consequently, the disintegration of cognitive functions. The prediction of long-term symptoms is now preferentially based on brain disconnections. This paradigm shift will reshape our brain maps and challenge current brain models. \",\n",
       " \"The blood-brain barrier (BBB) is a semipermeable and extremely selective system in the central nervous system of most vertebrates, that separates blood from the brain's extracellular fluid. It plays a vital role in regulating the transport of necessary materials for brain function, furthermore, protecting it from foreign substances in the blood that could damage it. In this review, we searched in Google Scholar, Pubmed, Web of Science, and Saudi Digital Library for the various cells and components that support the development and function of this barrier, as well as the different pathways to transport the various molecules between blood and the brain. We also discussed the aspects that lead to BBB dysfunction and its neuropathological consequences, with the identification of some of the most important biomarkers that might be used as a biomarker to predict the BBB disturbances. This comprehensive overview of BBB will pave the way for future studies to focus on developing more specific targeting systems in material delivery as a future approach that assists in combinatorial therapy or nanotherapy to destroy or modify this barrier in pathological conditions such as brain tumors and brain stem cell carcinomas. \"]"
      ]
     },
     "execution_count": 42,
     "metadata": {},
     "output_type": "execute_result"
    }
   ],
   "source": [
    "abstracts"
   ]
  },
  {
   "cell_type": "code",
   "execution_count": 47,
   "id": "c03e423b-e026-4f32-a8e5-90b0501645d0",
   "metadata": {
    "scrolled": true
   },
   "outputs": [],
   "source": [
    "#Abstracts into dataframe\n",
    "abstracts_df = pd.DataFrame(abstracts, columns=['abstract'])"
   ]
  },
  {
   "cell_type": "code",
   "execution_count": 48,
   "id": "a66f7285",
   "metadata": {},
   "outputs": [
    {
     "data": {
      "text/html": [
       "<div>\n",
       "<style scoped>\n",
       "    .dataframe tbody tr th:only-of-type {\n",
       "        vertical-align: middle;\n",
       "    }\n",
       "\n",
       "    .dataframe tbody tr th {\n",
       "        vertical-align: top;\n",
       "    }\n",
       "\n",
       "    .dataframe thead th {\n",
       "        text-align: right;\n",
       "    }\n",
       "</style>\n",
       "<table border=\"1\" class=\"dataframe\">\n",
       "  <thead>\n",
       "    <tr style=\"text-align: right;\">\n",
       "      <th></th>\n",
       "      <th>abstract</th>\n",
       "    </tr>\n",
       "  </thead>\n",
       "  <tbody>\n",
       "    <tr>\n",
       "      <th>0</th>\n",
       "      <td>The brain's default mode network consists of d...</td>\n",
       "    </tr>\n",
       "    <tr>\n",
       "      <th>1</th>\n",
       "      <td>There is more to brain connections than the me...</td>\n",
       "    </tr>\n",
       "    <tr>\n",
       "      <th>2</th>\n",
       "      <td>The blood-brain barrier (BBB) is a semipermeab...</td>\n",
       "    </tr>\n",
       "  </tbody>\n",
       "</table>\n",
       "</div>"
      ],
      "text/plain": [
       "                                            abstract\n",
       "0  The brain's default mode network consists of d...\n",
       "1  There is more to brain connections than the me...\n",
       "2  The blood-brain barrier (BBB) is a semipermeab..."
      ]
     },
     "execution_count": 48,
     "metadata": {},
     "output_type": "execute_result"
    }
   ],
   "source": [
    "abstracts_df"
   ]
  },
  {
   "cell_type": "markdown",
   "id": "72f23144",
   "metadata": {},
   "source": [
    "## Processing data"
   ]
  },
  {
   "cell_type": "markdown",
   "id": "e15f09f8",
   "metadata": {},
   "source": [
    "Processing the abstract of a paper.\n",
    "\n",
    "### Basic cleaning\n",
    "- turning text into lowercase\n",
    "- removing numbers\n",
    "- removing punctuation\n",
    "- removing spaces in the beginning and the end\n",
    "\n",
    "### Tokenization\n",
    "Turning string into list of individual words.\n",
    "\n",
    "### Removing stopwords\n",
    "Keeping only useful words.\n",
    "\n",
    "### Lemmatization\n",
    "Simplifying word forms"
   ]
  },
  {
   "cell_type": "code",
   "execution_count": 45,
   "id": "ee962124",
   "metadata": {},
   "outputs": [],
   "source": [
    "def process_df(df):\n",
    "    \n",
    "    def process_abstract(abstract):\n",
    "        # Basic Cleaning\n",
    "        cleaned = abstract.lower()\n",
    "        cleaned = ''.join(char for char in cleaned if not char.isdigit())\n",
    "\n",
    "        for punctuation in string.punctuation:\n",
    "            cleaned = cleaned.replace(punctuation, '') \n",
    "\n",
    "        cleaned = cleaned.strip()\n",
    "\n",
    "        # Tokenization\n",
    "        tokenized = word_tokenize(cleaned)\n",
    "\n",
    "        # Remove Stopwords\n",
    "        stop_words = set(stopwords.words('english'))\n",
    "        tokenized_no_stopwords = [word for word in tokenized if word not in stop_words]\n",
    "\n",
    "        # Lemmatization\n",
    "        lemmatized = [WordNetLemmatizer().lemmatize(word, pos=\"v\") for word in tokenized_no_stopwords]\n",
    "        lemmatized = [WordNetLemmatizer().lemmatize(word, pos=\"n\") for word in lemmatized]\n",
    "\n",
    "        return lemmatized\n",
    "    cleaned_df = df[\"abstract\"].apply(process_abstract)\n",
    "    return cleaned_df"
   ]
  },
  {
   "cell_type": "markdown",
   "id": "f423c250",
   "metadata": {},
   "source": [
    "Processing abstracts with list comprehension"
   ]
  },
  {
   "cell_type": "code",
   "execution_count": 49,
   "id": "be87c50b",
   "metadata": {},
   "outputs": [],
   "source": [
    "df = process_df(abstracts_df)"
   ]
  },
  {
   "cell_type": "code",
   "execution_count": 50,
   "id": "4dd1e21e",
   "metadata": {},
   "outputs": [
    {
     "data": {
      "text/plain": [
       "0    [brain, default, mode, network, consist, discr...\n",
       "1    [brain, connection, mere, transfer, signal, br...\n",
       "2    [bloodbrain, barrier, bbb, semipermeable, extr...\n",
       "Name: abstract, dtype: object"
      ]
     },
     "execution_count": 50,
     "metadata": {},
     "output_type": "execute_result"
    }
   ],
   "source": [
    "df"
   ]
  },
  {
   "cell_type": "code",
   "execution_count": null,
   "id": "87c967c6",
   "metadata": {},
   "outputs": [],
   "source": []
  }
 ],
 "metadata": {
  "kernelspec": {
   "display_name": "Python 3 (ipykernel)",
   "language": "python",
   "name": "python3"
  },
  "language_info": {
   "codemirror_mode": {
    "name": "ipython",
    "version": 3
   },
   "file_extension": ".py",
   "mimetype": "text/x-python",
   "name": "python",
   "nbconvert_exporter": "python",
   "pygments_lexer": "ipython3",
   "version": "3.10.6"
  },
  "toc": {
   "base_numbering": 1,
   "nav_menu": {},
   "number_sections": false,
   "sideBar": true,
   "skip_h1_title": false,
   "title_cell": "Table of Contents",
   "title_sidebar": "Contents",
   "toc_cell": false,
   "toc_position": {},
   "toc_section_display": true,
   "toc_window_display": true
  }
 },
 "nbformat": 4,
 "nbformat_minor": 5
}
