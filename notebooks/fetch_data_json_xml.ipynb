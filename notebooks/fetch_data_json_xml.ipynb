{
 "cells": [
  {
   "cell_type": "code",
   "execution_count": 1,
   "metadata": {},
   "outputs": [],
   "source": [
    "import requests\n",
    "import pandas as pd\n",
    "from lxml import etree"
   ]
  },
  {
   "cell_type": "markdown",
   "metadata": {},
   "source": [
    "# Search PubMed\n",
    "`search_pubmed` is a function to interact with the **esearch** database from NCBI. It will return a list of all unique IDs (PMID) to feed `fetch_data` function."
   ]
  },
  {
   "cell_type": "code",
   "execution_count": 2,
   "metadata": {},
   "outputs": [],
   "source": [
    "api_key = \"577df7196ceeb3a853b9aac5b7bfe5640209\"  # It's recommended to include your NCBI API key\n",
    "email = \"nawar82@gmail.com\"\n",
    "\n",
    "def search_pubmed(query):\n",
    "    base_url = \"https://eutils.ncbi.nlm.nih.gov/entrez/eutils/esearch.fcgi\"\n",
    "    params = {\n",
    "        \"db\": \"pubmed\",\n",
    "        \"term\": query,\n",
    "        \"retmax\": \"10000\",\n",
    "        \"usehistory\": \"y\",\n",
    "        \"email\": email,\n",
    "        \"api_key\": api_key,\n",
    "        \"retmode\": \"json\"  # Set retmode to json\n",
    "    }\n",
    "    response = requests.get(base_url, params=params)\n",
    "    if response.status_code == 200:\n",
    "        data = requests.get(base_url, params=params).json()\n",
    "        #id_list = data[\"esearchresult\"][\"idlist\"]\n",
    "        if data['esearchresult']['count'] == data['esearchresult']['retmax']:\n",
    "            print(f\"You have a total of {data['esearchresult']['count']} articles and getting {data['esearchresult']['retmax']} articles to fetch their abstracts\")\n",
    "        else:\n",
    "            print(f\"Please be aware that your search terms returned {data['esearchresult']['count']} articles but you are getting only {data['esearchresult']['retmax']} for fetching their abstracts\")\n",
    "        return data[\"esearchresult\"][\"idlist\"]\n",
    "    else:\n",
    "        print(\"Error occurred while searching\")\n",
    "        return []\n"
   ]
  },
  {
   "cell_type": "markdown",
   "metadata": {},
   "source": [
    "# Fetch all the abstracts from the search results in pubmed\n",
    "We fetch the abstract from the **efetch** database from NCBI.\n",
    "Two functions were used, the first one `get_all_text` is to extract the text from the **AbstractText** element even if the is a **child** tag under it. The second one `fetch_abstracts`gets the PMID list and returns the corresponding abstracts if they are not empty and in English in a dictionary. "
   ]
  },
  {
   "cell_type": "code",
   "execution_count": 3,
   "metadata": {},
   "outputs": [],
   "source": [
    "def get_all_text(element):\n",
    "    '''Recursively get all text within an XML element, including nested tags.\n",
    "    '''\n",
    "    text = []\n",
    "    if element.text:\n",
    "        text.append(element.text)\n",
    "    for child in element:\n",
    "        text.append(get_all_text(child))\n",
    "        if child.tail:\n",
    "            text.append(child.tail)\n",
    "    return ''.join(text)"
   ]
  },
  {
   "cell_type": "code",
   "execution_count": 4,
   "metadata": {},
   "outputs": [],
   "source": [
    "\n",
    "def fetch_abstracts(id_list):\n",
    "    base_url = \"https://eutils.ncbi.nlm.nih.gov/entrez/eutils/efetch.fcgi\"\n",
    "    ids = ','.join(id_list)\n",
    "    params = {\n",
    "        \"db\": \"pubmed\",\n",
    "        \"retmode\": \"xml\",\n",
    "        \"id\": ids,\n",
    "        \"api_key\": api_key\n",
    "    }\n",
    "    response = requests.get(base_url, params=params)\n",
    "    abstracts = []\n",
    "    if response.status_code == 200:\n",
    "        root = etree.fromstring(response.content)\n",
    "        articles = root.xpath('//PubmedArticle')\n",
    "        for article in articles:\n",
    "            pmid = article.find('.//PMID').text\n",
    "            abstract_text_element = article.find('.//Abstract/AbstractText')\n",
    "            language = article.find('.//Language').text\n",
    "            # Ensure abstract_text_element is not None before accessing its text attribute\n",
    "            if abstract_text_element is not None and language == 'eng':\n",
    "                abstract_text = get_all_text(abstract_text_element)\n",
    "                # Further ensure the text is not None and not just whitespace\n",
    "                if abstract_text and abstract_text.strip():\n",
    "                    abstracts.append({\"PMID\": pmid, \"Abstract\": abstract_text})\n",
    "    else:\n",
    "        print(\"Error occurred while fetching details\")\n",
    "    return abstracts"
   ]
  },
  {
   "cell_type": "code",
   "execution_count": 14,
   "metadata": {},
   "outputs": [
    {
     "name": "stdout",
     "output_type": "stream",
     "text": [
      "You have a total of 68 articles and getting 68 articles to fetch their abstracts\n"
     ]
    },
    {
     "data": {
      "text/html": [
       "<div>\n",
       "<style scoped>\n",
       "    .dataframe tbody tr th:only-of-type {\n",
       "        vertical-align: middle;\n",
       "    }\n",
       "\n",
       "    .dataframe tbody tr th {\n",
       "        vertical-align: top;\n",
       "    }\n",
       "\n",
       "    .dataframe thead th {\n",
       "        text-align: right;\n",
       "    }\n",
       "</style>\n",
       "<table border=\"1\" class=\"dataframe\">\n",
       "  <thead>\n",
       "    <tr style=\"text-align: right;\">\n",
       "      <th></th>\n",
       "      <th>PMID</th>\n",
       "      <th>Abstract</th>\n",
       "    </tr>\n",
       "  </thead>\n",
       "  <tbody>\n",
       "    <tr>\n",
       "      <th>0</th>\n",
       "      <td>38405140</td>\n",
       "      <td>Previous studies have suggested a potential as...</td>\n",
       "    </tr>\n",
       "    <tr>\n",
       "      <th>1</th>\n",
       "      <td>38392839</td>\n",
       "      <td>The association between thyroid function and v...</td>\n",
       "    </tr>\n",
       "    <tr>\n",
       "      <th>2</th>\n",
       "      <td>38375193</td>\n",
       "      <td>To determine whether there is a causal relatio...</td>\n",
       "    </tr>\n",
       "    <tr>\n",
       "      <th>3</th>\n",
       "      <td>38368359</td>\n",
       "      <td>The role of thyroid health in temporomandibula...</td>\n",
       "    </tr>\n",
       "    <tr>\n",
       "      <th>4</th>\n",
       "      <td>38355654</td>\n",
       "      <td>Genome-wide association studies have reported ...</td>\n",
       "    </tr>\n",
       "    <tr>\n",
       "      <th>...</th>\n",
       "      <td>...</td>\n",
       "      <td>...</td>\n",
       "    </tr>\n",
       "    <tr>\n",
       "      <th>62</th>\n",
       "      <td>30248900</td>\n",
       "      <td>The thyroid plays a key role in development an...</td>\n",
       "    </tr>\n",
       "    <tr>\n",
       "      <th>63</th>\n",
       "      <td>30016786</td>\n",
       "      <td>Increasing evidence suggests an association be...</td>\n",
       "    </tr>\n",
       "    <tr>\n",
       "      <th>64</th>\n",
       "      <td>29544020</td>\n",
       "      <td>With population aging, prevalence of low bone ...</td>\n",
       "    </tr>\n",
       "    <tr>\n",
       "      <th>65</th>\n",
       "      <td>28819171</td>\n",
       "      <td>To clarify the role of thyroid function in isc...</td>\n",
       "    </tr>\n",
       "    <tr>\n",
       "      <th>66</th>\n",
       "      <td>28323940</td>\n",
       "      <td>Increasing evidence suggests an association be...</td>\n",
       "    </tr>\n",
       "  </tbody>\n",
       "</table>\n",
       "<p>67 rows × 2 columns</p>\n",
       "</div>"
      ],
      "text/plain": [
       "        PMID                                           Abstract\n",
       "0   38405140  Previous studies have suggested a potential as...\n",
       "1   38392839  The association between thyroid function and v...\n",
       "2   38375193  To determine whether there is a causal relatio...\n",
       "3   38368359  The role of thyroid health in temporomandibula...\n",
       "4   38355654  Genome-wide association studies have reported ...\n",
       "..       ...                                                ...\n",
       "62  30248900  The thyroid plays a key role in development an...\n",
       "63  30016786  Increasing evidence suggests an association be...\n",
       "64  29544020  With population aging, prevalence of low bone ...\n",
       "65  28819171  To clarify the role of thyroid function in isc...\n",
       "66  28323940  Increasing evidence suggests an association be...\n",
       "\n",
       "[67 rows x 2 columns]"
      ]
     },
     "execution_count": 14,
     "metadata": {},
     "output_type": "execute_result"
    }
   ],
   "source": [
    "# Example usage\n",
    "query = \"tsh AND Mendelian randomization\"\n",
    "id_list = search_pubmed(query)\n",
    "abstracts = fetch_abstracts(id_list)\n",
    "\n",
    "# Convert list of abstracts to DataFrame\n",
    "df_abstracts = pd.DataFrame(abstracts)\n",
    "\n",
    "df_abstracts"
   ]
  },
  {
   "cell_type": "code",
   "execution_count": 15,
   "metadata": {},
   "outputs": [
    {
     "data": {
      "text/plain": [
       "(67, 2)"
      ]
     },
     "execution_count": 15,
     "metadata": {},
     "output_type": "execute_result"
    }
   ],
   "source": [
    "df_abstracts.shape"
   ]
  },
  {
   "cell_type": "markdown",
   "metadata": {},
   "source": [
    "**if you get a server error, use a local search results for testing purposes**\n",
    "\n",
    "df_abstracts = pd.read_csv(\"../raw_data/data.csv\")\n",
    "df_abstracts"
   ]
  },
  {
   "cell_type": "code",
   "execution_count": 16,
   "metadata": {},
   "outputs": [
    {
     "data": {
      "text/plain": [
       "Abstract    67\n",
       "dtype: int64"
      ]
     },
     "execution_count": 16,
     "metadata": {},
     "output_type": "execute_result"
    }
   ],
   "source": [
    "df_abstracts[['Abstract']].count()"
   ]
  },
  {
   "cell_type": "code",
   "execution_count": 22,
   "metadata": {},
   "outputs": [],
   "source": [
    "df_abstracts2 = df_abstracts.dropna(subset=['Abstract'])"
   ]
  },
  {
   "cell_type": "code",
   "execution_count": 23,
   "metadata": {},
   "outputs": [
    {
     "data": {
      "text/plain": [
       "(67, 2)"
      ]
     },
     "execution_count": 23,
     "metadata": {},
     "output_type": "execute_result"
    }
   ],
   "source": [
    "df_abstracts2.shape"
   ]
  },
  {
   "cell_type": "markdown",
   "metadata": {},
   "source": [
    "# Preprocessing (From Fani)"
   ]
  },
  {
   "cell_type": "code",
   "execution_count": 26,
   "metadata": {},
   "outputs": [
    {
     "name": "stderr",
     "output_type": "stream",
     "text": [
      "[nltk_data] Downloading package stopwords to\n",
      "[nltk_data]     /home/nawar82/nltk_data...\n",
      "[nltk_data]   Package stopwords is already up-to-date!\n",
      "[nltk_data] Downloading package punkt to /home/nawar82/nltk_data...\n",
      "[nltk_data]   Package punkt is already up-to-date!\n",
      "[nltk_data] Downloading package wordnet to /home/nawar82/nltk_data...\n",
      "[nltk_data]   Package wordnet is already up-to-date!\n",
      "[nltk_data] Downloading package omw-1.4 to /home/nawar82/nltk_data...\n",
      "[nltk_data]   Package omw-1.4 is already up-to-date!\n"
     ]
    },
    {
     "data": {
      "text/plain": [
       "True"
      ]
     },
     "execution_count": 26,
     "metadata": {},
     "output_type": "execute_result"
    }
   ],
   "source": [
    "import pandas as pd\n",
    "import string\n",
    "import nltk\n",
    "from nltk.tokenize import word_tokenize\n",
    "from nltk.corpus import stopwords\n",
    "from nltk.stem import WordNetLemmatizer\n",
    "nltk.download('stopwords')\n",
    "nltk.download('punkt')\n",
    "nltk.download('wordnet')\n",
    "nltk.download('omw-1.4')"
   ]
  },
  {
   "cell_type": "markdown",
   "metadata": {},
   "source": [
    "## Preprocessing data"
   ]
  },
  {
   "cell_type": "markdown",
   "metadata": {},
   "source": [
    "Processing the abstract of a paper.\n",
    "\n",
    "### Basic cleaning\n",
    "- turning text into lowercase\n",
    "- removing numbers\n",
    "- removing punctuation\n",
    "- removing spaces in the beginning and the end\n",
    "\n",
    "### Tokenization\n",
    "Turning string into list of individual words.\n",
    "\n",
    "### Removing stopwords\n",
    "Keeping only useful words.\n",
    "\n",
    "### Lemmatization\n",
    "Simplifying word forms"
   ]
  },
  {
   "cell_type": "code",
   "execution_count": 27,
   "metadata": {},
   "outputs": [],
   "source": [
    "def process_abstract(abstract):\n",
    "    # Basic Cleaning\n",
    "    cleaned = abstract.lower()\n",
    "    cleaned = ''.join(char for char in cleaned if not char.isdigit())\n",
    "\n",
    "    for punctuation in string.punctuation:\n",
    "        cleaned = cleaned.replace(punctuation, '')\n",
    "\n",
    "    cleaned = cleaned.strip()\n",
    "\n",
    "    # Tokenization\n",
    "    tokenized = word_tokenize(cleaned)\n",
    "\n",
    "    # Remove Stopwords\n",
    "    stop_words = set(stopwords.words('english'))\n",
    "    tokenized_no_stopwords = [word for word in tokenized if word not in stop_words]\n",
    "\n",
    "    # Lemmatization\n",
    "    lemmatized = [WordNetLemmatizer().lemmatize(word, pos=\"v\") for word in tokenized_no_stopwords]\n",
    "    lemmatized = [WordNetLemmatizer().lemmatize(word, pos=\"n\") for word in lemmatized]\n",
    "\n",
    "    return lemmatized"
   ]
  },
  {
   "cell_type": "markdown",
   "metadata": {},
   "source": [
    "Transfer the **_Abstract_** column into a series to feed the preprocessing function `process_abstract`"
   ]
  },
  {
   "cell_type": "code",
   "execution_count": 32,
   "metadata": {},
   "outputs": [
    {
     "data": {
      "text/plain": [
       "0     Previous studies have suggested a potential as...\n",
       "1     The association between thyroid function and v...\n",
       "2     To determine whether there is a causal relatio...\n",
       "3     The role of thyroid health in temporomandibula...\n",
       "4     Genome-wide association studies have reported ...\n",
       "                            ...                        \n",
       "62    The thyroid plays a key role in development an...\n",
       "63    Increasing evidence suggests an association be...\n",
       "64    With population aging, prevalence of low bone ...\n",
       "65    To clarify the role of thyroid function in isc...\n",
       "66    Increasing evidence suggests an association be...\n",
       "Name: Abstract, Length: 67, dtype: object"
      ]
     },
     "execution_count": 32,
     "metadata": {},
     "output_type": "execute_result"
    }
   ],
   "source": [
    "abstracts_series = df_abstracts['Abstract']\n",
    "abstracts_series"
   ]
  },
  {
   "cell_type": "code",
   "execution_count": 33,
   "metadata": {},
   "outputs": [
    {
     "data": {
      "text/plain": [
       "['previous studies have suggested a potential association between aitd and mg, but the evidence is limited and controversial, and the exact causal relationship remains uncertain.',\n",
       " \"the association between thyroid function and viral pneumonia has undergone extensive examination, yet the presence of a causal link remains uncertain. the objective of this paper was to employ two-sample mendelian randomization (mr) analysis to investigate the connections between three thyroid diseases and thyroid hormone indicators with viral pneumonia and covid-19. we obtained summary statistics datasets from seven genome-wide association studies (gwass). the primary method used for estimating relationships was inverse-variance weighting (ivw). in addition, we employed weighted median, weighted mode, mr-egger, and mr-presso as supplementary analytical tools. sensitivity analyses encompassed cochran's q test, mr-egger intercept test, and mr-presso. our study revealed significant causal relationships between having a genetic predisposition to autoimmune thyroid disease (aitd) and an increased susceptibility to viral pneumonia (odds ratio [or]: 1.096; 95% confidence interval [ci]: 1.022-1.176). moreover, it demonstrated a heightened susceptibility and severity of covid-19 (or for covid-19 susceptibility, covid-19 hospitalization, and covid-19 critical illness, with 95% cis of 1.016, 1.001-1.032; 1.058, 1.003-1.116; 1.045, 1.010-1.081). however, no statistically significant associations were found between tsh, ft4, subclinical hypo- or hyperthyroidism, and the risk of viral pneumonia incidence, or the susceptibility and severity of covid-19 (all p > 0.05). this study establishes a cause-and-effect relationship between aitd and the development of viral pneumonia, as well as the susceptibility and severity of covid-19.\",\n",
       " 'to determine whether there is a causal relationship between thyroid dysfunction and the risk of age-related cataract (arc) in the european population.',\n",
       " 'the role of thyroid health in temporomandibular disorders (tmds) has been emphasized in observational studies. however, whether the causation exists is unclear, and controversy remains about which specific disorder, such as hypothyroidism or hyperthyroidism, is destructive in tmds. this study aims to investigate the overall and specific causal effects of various thyroid conditions on tmds.',\n",
       " 'genome-wide association studies have reported a genetic overlap between borderline personality disorder (bpd) and schizophrenia (scz). epidemiologically, the direction and causality of the association between thyroid function and risk of bpd and scz are unclear. we aim to test whether genetically predicted variations in tsh and ft4 levels or hypothyroidism are associated with the risk of bpd and scz.',\n",
       " \"the causal relationship between different hypothyroidism subtypes and the risk of major depression (md) is yet to be fully elucidated. this study aimed to determine if there's a causal relationship between various hypothyroidism subtypes (and related factors) and the risk of md.\",\n",
       " 'to date only a fraction of the genetic footprint of thyroid function has been clarified. we report a genome-wide association study meta-analysis of thyroid function in up to 271,040 individuals of european ancestry, including reference range thyrotropin (tsh), free thyroxine (ft4), free and total triiodothyronine (t3), proxies for metabolism (t3/ft4 ratio) as well as dichotomized high and low tsh levels. we revealed 259 independent significant associations for tsh (61% novel), 85 for ft4 (67% novel), and 62 novel signals for the t3 related traits. the loci explained 14.1%, 6.0%, 9.5% and 1.1% of the total variation in tsh, ft4, total\\xa0t3 and free\\xa0t3 concentrations, respectively. genetic correlations indicate that tsh associated loci reflect the thyroid function determined by free\\xa0t3, whereas the ft4 associations represent the thyroid hormone metabolism. polygenic risk score and mendelian randomization analyses showed the effects of genetically determined variation in thyroid function on various clinical outcomes, including cardiovascular risk factors and diseases, autoimmune diseases, and cancer. in conclusion, our results improve the understanding of thyroid hormone physiology and highlight the pleiotropic effects of thyroid function on various diseases.',\n",
       " 'previous studies suggest interaction between periodontitis and thyroid function, while the causality has not yet been established. we applied the mendelian randomization (mr) method to assess bidirectional causal association between periodontitis and thyroid-related traits, including free thyroxine (ft4), thyroid stimulating hormone (tsh), hypothyroidism, hyperthyroidism and autoimmune thyroid disease (aitd).',\n",
       " 'hypothyroidism and hyperthyroidism are observationally associated with rheumatoid arthritis (ra), but causality is unclear. to evaluate the causal relationship between thyroid function and ra, we conducted a two-sample bidirectional mendelian randomization (mr) study.',\n",
       " 'observational studies have indicated a potential association between thyroid dysfunction and the risk of sudden sensorineural hearing loss (ssnhl). however, the precise causal relationship between the two remains uncertain. the objective of our study was to assess the causal influence of thyroid function on ssnhl by employing a bidirectional and multivariable mendelian randomization (mr) approach.',\n",
       " \"parkinson's disease (pd) is the second most prevalent degenerative disease globally. while observational studies have demonstrated a correlation between thyroid function and pd, the causal relationship between these two factors remains uncertain.\",\n",
       " 'observational studies have demonstrated an association between primary sclerosing cholangitis (psc) and thyroid dysfunction (td). however, the causal relationship between psc and td remains uncertain. the purpose of this study is to investigate the causal associations and specific direction between these two conditions. gaining insight into the potential causal relationship between psc and td is valuable for elucidating the pathogenesis of psc and for devising innovative approaches for the prevention and treatment of psc and its associated complications.',\n",
       " 'the role of thyroid hormones in cancers has been discussed in observational studies; however, the causal relationship between them remains controversial.',\n",
       " 'schizophrenia is a chronic psychiatric disorder with inconsistent behavioral and cognitive abnormalities with profound effects on the individual and the society. individuals with schizophrenia have altered thyroid function, but results from observational studies are conflicting. to date, it remains unclear whether and in which direction there is a causal relationship between thyroid function and schizophrenia. to investigate causal paths, a bidirectional two-sample mendelian randomization (mr) study was conducted using summary statistics from genome-wide association studies including up to 330,132 europeans. thyroid function was described by the normal-range thyroid-stimulating hormone (tsh) and free thyroxine levels as well as an increased and decreased tsh status. the iterative radial inverse-variance weighted approach with modified second order weights was used as the main method. based on a discovery and replication sample for schizophrenia, pooled effect estimates were derived using a fixed-effect meta-analysis. robustness of results was assessed using both a range of pleiotropy robust methods and a network analysis that clustered genetic instruments potentially responsible for horizontal pleiotropy. genetic liability for hypothyroidism was inversely associated with schizophrenia ([formula: see text]; 95% ci: (-0.10; -0.02); [formula: see text]). no notable associations were observed between other thyroid parameters and schizophrenia. furthermore, no associations could be detected in the reverse direction. our results suggest that an elevated level of tsh reduce the risk for schizophrenia. the role of thyroid function and the hypothalamic-pituitary-thyroid axis in the development of schizophrenia should be subject of further research.',\n",
       " 'although previous studies have reported an association between thyroid function and anti-müllerian hormone (amh) levels, which is considered a reliable marker of ovarian reserve, the causal relationship between them remains uncertain. this study aims to investigate whether thyrotropin (tsh), free thyroxine (ft4), hypo- and hyperthyroidism are causally linked to amh levels.',\n",
       " 'observational studies have reported an association between thyroid function and colorectal cancer (crc), with conflicting results. elucidating the causal relationship between thyroid function and crc facilitates the development of new preventive strategies to reduce crc incidence.',\n",
       " 'coffee is one of the most consumed beverages worldwide, but the effects on the thyroid are unknown. this study aims to examine the association between coffee and thyroid function.',\n",
       " 'thyroid function has been associated with metabolic syndrome (mets) in a number of observational studies but the direction of effects and the exact causal mechanism of this relationship is still unknown.',\n",
       " 'many observational studies have reported on the association between educational attainment (ea) and thyroid function, but the causal relationship remains unclear.',\n",
       " 'the association between thyroid stimulating hormone (tsh) and cardiovascular disease has mainly been determined using clinical categories of disease. we tested the hypothesis that tsh on a continuous scale is associated with risk of atrial fibrillation (af), myocardial infarction (mi), stroke, heart failure (hf), aortic valve stenosis (avs), and major adverse cardiovascular events (mace) and whether these associations are likely to be causal.',\n",
       " 'benign prostatic diseases (bpds), such as benign prostate hyperplasia (bph) and prostatitis, harm the quality of life of affected patients. however, observational studies exploring the association between thyroid function and bpds have hitherto yielded inconsistent results. in this study, we explored whether there is a causal genetic association between them using mendelian randomization (mr) analysis.',\n",
       " 'previous observational studies have reported that thyroid dysfunction is associated with hallux valgus (hv). however, the causal effect of thyroid dysfunction on hallux valgus is still unknown. to assess whether there is a causal relationship between thyroid dysfunction and hallux valgus, we performed a two-sample mendelian randomization (mr) study.',\n",
       " 'observational studies have identified a possible link between thyroid function and diabetic microangiopathy, specifically in diabetic kidney disease (dkd) and diabetic retinopathy (dr). however, it is unclear whether this association reflects a causal relationship.',\n",
       " 'observational studies have provided insufficient information on the association between thyroid function and the risk of cerebral small vessel disease (csvd); moreover, the causality of this link is still unclear.',\n",
       " 'background: thyroid hormones play a key role in differentiation and metabolism and are known regulators of gene expression through both genomic and epigenetic processes including dna methylation. the aim of this study was to examine associations between thyroid hormones and dna methylation. methods: we carried out a fixed-effect meta-analysis of epigenome-wide association study (ewas) of blood dna methylation sites from 8 cohorts from the thyroidomics consortium, incorporating up to 7073 participants of both european and african ancestry, implementing a discovery and replication stage. statistical analyses were conducted using normalized beta cpg values as dependent and log-transformed thyrotropin (tsh), free thyroxine, and free triiodothyronine levels, respectively, as independent variable in a linear model. the replicated findings were correlated with gene expression levels in whole blood and tested for causal influence of tsh and free thyroxine by two-sample mendelian randomization (mr). results: epigenome-wide significant associations (p-value <1.1e-7) of three cpgs for free thyroxine, five for free triiodothyronine, and two for tsh concentrations were discovered and replicated (combined p-values\\u2009=\\u20091.5e-9 to 4.3e-28). the associations included cpg sites annotated to klf9 (cg00049440) and dot1l (cg04173586) that overlap with all three traits, consistent with hypothalamic-pituitary-thyroid axis physiology. significant associations were also found for cpgs in fkbp5 for free thyroxine, and at csnk1d/linco1970 and lrrc8d for free triiodothyronine. mr analyses supported a causal effect of thyroid status on dna methylation of klf9. dna methylation of cg00049440 in klf9 was inversely correlated with klf9 gene expression in blood. the cpg at csnk1d/linc01970 overlapped with thyroid hormone receptor alpha binding peaks in liver cells. the total additive heritability of the methylation levels of the six significant cpg sites was between 25% and 57%. significant methylation qtls were identified for cpgs at klf9, fkbp5, lrrc8d, and csnk1d/linc01970. conclusions: we report novel associations between tsh, thyroid hormones, and blood-based dna methylation. this study advances our understanding of thyroid hormone action particularly related to klf9 and serves as a proof-of-concept that integrations of ewas with other -omics data can provide a valuable tool for unraveling thyroid hormone signaling in humans by complementing and feeding classical in vitro and animal studies.',\n",
       " 'thyroid-stimulating hormone (tsh), as the most sensitive and specific marker of thyroid status, is associated with multiple health outcomes, including mortality. however, whether tsh levels are causally associated with the risk of mortality remains unclear.',\n",
       " 'the impact of selenium (se) on human thyroid function remains unclear, with inconsistent results from recent epidemiological studies. moreover, the observed associations are prone to bias due to potential confounding and reverse causation. mendelian randomization (mr) analysis facilitates the large minimization of biases produced by environmental and lifestyle influences, providing unconfounded estimates of causal effects using instrumental variables. we aim to examine the association between se concentrations and human thyroid function using a two-sample mr analysis.',\n",
       " 'observational studies show the correlation between thyroid dysfunction and risk of venous thromboembolism. however, the causal effects remain uncertain. our study was conducted to evaluate whether thyroid function and dysfunction were causally linked to the risk of venous thromboembolism.',\n",
       " 'systemic lupus erythematosus (sle) and hypothyroidism often coexist in observational studies; however, the causal relationship between them remains controversial.',\n",
       " 'observational studies suggest an association between hypothyroidism and the risk of hepatocellular carcinoma (hcc), but the causality and direction of these effects are still inconclusive. we aim to test whether hypothyroidism is causally associated with the risk of hcc by using mendelian randomization (mr) analysis.',\n",
       " 'several observational studies have confirmed the relationship between thyroid hormones and coronavirus disease 2019 (covid-19), but this correlation remains controversial. we performed a two-sample mendelian randomization (mr) analysis based on the largest publicly available summary datasets. summary statistics with 49 269 individuals for free thyroxine (ft4) and 54 288 for thyroid stimulating hormone (tsh) were used as exposure instruments. genome-wide association studies of susceptibility (cases = 38 984; controls = 1 644 784), hospitalization (cases: 9986 = controls = 1 877 672), and very severe disease (cases = 5101; controls = 1 383 241) of covid-19 were used as the outcome. we used the inverse-variance weighted (ivw) method as the primary analysis, and utilized mr-egger regression, weighted median, and robust adjusted profile score (raps) for sensitivity analysis. genetic predisposition to higher serum levels of ft4 within the normal range was negatively associated with the risk of covid-19 hospitalization (odds ratio [or] = 0.818; 95% ci, 0.718-0.932; p = 2.6 × 10-3) and very severe disease (or = 0.758; 95% ci, 0.626-0.923; p = 5.8 × 10-3), but not susceptibility. there is no evidence that genetically predicted circulating tsh levels are associated with covid-19 susceptibility and severity risk. neither apparent pleiotropy nor heterogeneity were detected in the sensitivity analysis. in summary, we found that higher ft4 levels may reduce the risk of covid-19 severity, suggesting that thyroid function testing may be required for patients with covid-19.',\n",
       " 'based on the latest genome-wide association study summary data, bidirectional two-sample mendelian randomization (mr) was employed to detect the causal relationship and effect direction between tsh, ft4, and crp. furthermore, in view of obesity being an important risk factor of cvd, obesity trait waist-hip ratio (whr) and body mass index (bmi) were treated as the research objects in mr analyses for exploring the causal effects of tsh and ft4 on them, respectively.',\n",
       " 'findings from observational studies indicate an association of thyroid hormone levels with the risk of nonalcoholic fatty liver disease (nafld); however, conflicting results remain and reverse causality may be a possibility.',\n",
       " 'background: thyroid dysfunction has been observed among some patients with coronavirus disease (covid-19). it is unclear whether severe acute respiratory syndrome coronavirus 2 (sars-cov-2) infection (or its severity) leads to the development of thyroid dysfunction, or vice versa. in this study, we examined the bi-directional causal relationship between host genetic liability to three covid-19 phenotypes (including sars-cov-2 infection, hospitalized and severe covid-19) and three thyroid dysfunction traits (including hyperthyroidism, hypothyroidism, and autoimmune thyroid disease [aitd]) and three continuous traits of thyroid hormones (including thyrotropin [tsh] and free thyroxine [ft4] within reference range, and tsh in full range). methods: summary statistics from the largest available meta-analyses of human genome-wide association studies were retrieved for the following variables: sars-cov-2 infection (n\\u2009=\\u20091,348,701), covid-19 hospitalization (n\\u2009=\\u20091,557,411), severe covid-19 (n\\u2009=\\u20091,059,456), hyperthyroidism (n\\u2009=\\u200951,823), hypothyroidism (n\\u2009=\\u200953,423), aitd (n\\u2009=\\u2009755,406), tsh within reference range (n\\u2009=\\u200954,288), ft4 within reference range (n\\u2009=\\u200949,269), and tsh in full range (n\\u2009=\\u2009119,715). using a two-sample mendelian randomization (mr) approach, the inverse-variance weighted (ivw) method was adopted as the main mr analysis. weighted median, contamination mixture, mr-egger, and mr pleiotropy residual sum and outlier (mr-presso) methods were applied as sensitivity analyses. results: host genetic susceptibility to sars-cov-2 infection was causally associated with hypothyroidism in the main ivw analysis (per doubling in prevalence of sars-cov-2 infection, odds ratio [or]\\u2009=\\u20091.335; 95% confidence interval [ci]: 1.167-1.526; p\\u2009=\\u20092.4\\u2009×\\u200910-5, surpassing the bonferroni multiple-testing threshold). similar causal estimates were observed in the sensitivity analyses (weighted median: or\\u2009=\\u20091.296; ci: 1.066-1.575; p\\u2009=\\u20099\\u2009×\\u200910-3; contamination mixture: or\\u2009=\\u20091.356; ci: 1.095-1.818; p\\u2009=\\u20090.013; mr-egger: or\\u2009=\\u20091.712; ci: 1.202-2.439; p\\u2009=\\u20092.92\\u2009×\\u200910-3, and mr-presso: or\\u2009=\\u20091.335; ci: 1.156-1.542; p\\u2009=\\u20095.73\\u2009×\\u200910-4). host genetic liability to hospitalized or severe covid-19 was not associated with thyroid dysfunction or thyroid hormone levels. in the reverse direction, there was no evidence to suggest that genetic predisposition to thyroid dysfunction or genetically determined thyroid hormone levels altered the risk of the covid-19 outcomes. conclusions: this bi-directional mr study supports that host response to sars-cov-2 viral infection plays a role in the causal association with increased risk of hypothyroidism. long-term follow-up studies are needed to confirm the expected increased hypothyroidism risk.',\n",
       " 'growing evidence have demonstrated that thyroid hormones have been involved in the processes of cardiovascular metabolism. however, the causal relationship of thyroid function and cardiometabolic health remains partly unknown.',\n",
       " 'autoimmune thyroid disease (aitd) and pernicious anemia (pa) often coexist, but the directionality is unknown. in a two-sample mendelian randomization (mr) analysis, using summary statistics from large genome-wide association studies (gwass) in europeans (n\\xa0=\\u200949\\u2009269-755\\u2009406), we examined the genetic associations between thyroid function, pa and markers of erythropoiesis. we performed inverse variance weighted random-effects mr, several sensitivity mr analyses, and bidirectional mr and mr steiger for directionality. aitd and pa were associated bidirectionally (p\\xa0≤\\u20098\\u2009×\\u200910-6). neither euthyroid thyroid stimulating hormone (tsh) nor free thyroxine (ft4) were causally associated with pa. one standard deviation (sd) increase in euthyroid ft4 regulated by genetic variants in deiodinases 1 and 2 genes (dio1/dio2), corresponding to low-normal free triiodothyronine (ft3) levels, was causally associated with a pernicious/macrocytic anemia pattern, i.e. decreased erythrocyte counts (rank-based inverse normal transformed β\\u2009=\\u2009-0,064 [95% confidence interval: -0,085, -0,044], p\\xa0=\\u20098\\u2009×\\u200910-10) and hemoglobin (-0.028 [-0.051, -0.005], p\\xa0=\\u20090.02) and increased mean corpuscular hemoglobin (0.058 [0.025, 0.091], p\\xa0=\\u20095\\u2009×\\u200910-4) and mean corpuscular volume levels (0.075 [0.052, 0.098], p\\xa0=\\u20091\\u2009×\\u200910-8). meanwhile, subclinical hyperthyroidism mirrored that pattern. aitd was causally associated with increased erythrocyte distribution width (p\\xa0=\\u20090.007) and decreased reticulocyte counts (p\\xa0≤\\u20090.02), whereas high-normal ft4 regulated by dio1/dio2 variants was causally associated with decreased bilirubin (-0.039 (-0.064, -0.013), p\\xa0=\\u20090.003). in conclusion, the bidirectional association between aitd and pa suggests a shared heritability for these two autoimmune diseases. aitd was causally associated with impaired erythropoiesis and not autoimmune hemolysis. additionally, in euthyroid individuals, local regulation of thyroid hormones by deiodinases likely plays a role in erythropoiesis.',\n",
       " 'to determine whether causal association lies between thyroid function and age-related macular degeneration (amd) risk in human beings.',\n",
       " 'background: primary biliary cholangitis (pbc) is an autoimmune disease and is often accompanied by thyroid dysfunction. understanding the potential causal relationship between pbc and thyroid dysfunction is helpful to explore the pathogenesis of pbc and to develop strategies for the prevention and treatment of pbc and its complications. methods: we used a two-sample mendelian randomization (mr) method to estimate the potential causal effect of pbc on the risk of autoimmune thyroid disease (aitd), thyroid-stimulating hormone (tsh) and free thyroxine (ft4), hyperthyroidism, hypothyroidism, and thyroid cancer (tc) in the european population. we collected seven datasets of pbc and related traits to perform a series mr analysis and performed extensive sensitivity analyses to ensure the reliability of our results. results: using a sensitivity analysis, we found that pbc was a risk factor for aitd, tsh, hypothyroidism, and tc with odds ratio (or) of 1.002 (95% ci: 1.000-1.005, p = 0.042), 1.016 (95% ci: 1.006-1.027, p = 0.002), 1.068 (95% ci: 1.022-1.115, p = 0.003), and 1.106 (95% ci: 1.019-1.120, p = 0.042), respectively. interestingly, using reverse-direction mr analysis, we also found that aitd had a significant potential causal association with pbc with an or of 0.021 (p = 5.10e-4) and that the other two had no significant causal relation on pbc. conclusion: pbc causes thyroid dysfunction, specifically as aitd, mild hypothyroidism, and tc. the potential causal relationship between pbc and thyroid dysfunction provides a new direction for the etiology of pbc.',\n",
       " 'we aimed to validate the association of genome-wide association study (gwas)-identified loci and polygenic risk score with serum thyroid-stimulating hormone (tsh) concentrations and the diagnosis of hypothyroidism. then, the causal relationship between serum tsh and osteoporotic bone fracture risk was tested.',\n",
       " 'thyroid function has a widespread effect on the cardiometabolic system. however, the causal association between either subclinical hyper- or hypothyroidism and the thyroid hormones with blood pressure (bp) and cardiovascular diseases (cvd) is not clear. we aim to investigate this in a two-sample mendelian randomization (mr) study. single nucleotide polymorphisms (snps) associated with thyroid-stimulating hormone (tsh), free tetraiodothyronine (ft4), hyper- and hypothyroidism, and anti-thyroid peroxidase antibodies (tpoab), from genome-wide association studies (gwas), were selected as mr instrumental variables. snps-outcome (bp, cvd) associations were evaluated in a large-scale cohort, the malmö diet and cancer study (n = 29,298). causal estimates were computed by inverse-variance weighted (ivw), weighted median, and mr-egger approaches. genetically increased levels of tsh were associated with decreased systolic bp and with a lower risk of atrial fibrillation. hyperthyroidism and tpoab were associated with a lower risk of atrial fibrillation. our data support a causal association between genetically decreased levels of tsh and both atrial fibrillation and systolic bp. the lack of significance after bonferroni correction and the sensitivity analyses suggesting pleiotropy, should prompt us to be cautious in their interpretation. nevertheless, these findings offer mechanistic insight into the etiology of cvd. further work into the genes involved in thyroid functions and their relation to cardiovascular outcomes may highlight pathways for targeted intervention.',\n",
       " \"background: observational studies suggest an association between thyroid function and risk of dementia, but the causality and direction of these effects are unclear. we aim to test whether genetically predicted variation within the normal range of thyroid function and hypothyroidism is causally associated with the risk of alzheimer's disease (ad). methods: mendelian randomization (mr) analyses using genetic instruments are associated with normal range thyrotropin (tsh) and free thyroxine (ft4) levels. secondary analyses included investigation of the role of hypothyroidism. bidirectional mr was conducted to address the presence of a potential reverse causal association. summary statistics were obtained from the thyroidomics consortium involving up to 119,715 individuals and the latest ad genome-wide association study data including up to 71,880 cases. results: mr analyses show an association between increased genetically predicted normal range tsh levels and a decreased risk of ad (p\\u2009=\\u20090.02). one standard deviation increased normal range tsh levels were associated with a decreased risk of ad in individuals younger than 50 years old (p\\u2009=\\u20090.04). there was no evidence for a causal association between ft4 (p\\u2009=\\u20090.54) and ad. we did not identify any effect of the genetically predicted full range tsh levels (p\\u2009=\\u20090.06) or hypothyroidism (p\\u2009=\\u20090.23) with ad. bidirectional mr did not show any effect of genetic predisposition to ad on tsh or ft4 levels. conclusions: this mr study shows that increased levels of genetically predicted tsh within the normal range and in younger individuals are associated with a decreased risk of ad. we observed a marginal association between genetically predicted full range tsh and ad risk. there was no evidence for an effect between genetically predicted ft4 or hypothyroidism on ad. future studies should clarify the underlying pathophysiological mechanisms.\",\n",
       " 'thyroid functions (tfs) have been implicated in the initiation and propagation of psychiatric disorders. observational studies have shown associations of tfs with psychiatric disorders. however, the relationship between tfs and psychiatric diseases were still unclear.',\n",
       " 'observational studies suggest interconnections between thyroid status, metabolism, and risk of coronary artery disease (cad), but causality remains to be proven. the present study aimed to investigate the potential causal relationship between thyroid status and cardiovascular disease and to characterize the metabolomic profile associated with thyroid status.',\n",
       " 'thyroid dysfunction is associated with higher anemia prevalence, although causality remains unclear.',\n",
       " 'contradictory findings were reported in observational studies on the association of thyroid function (thyrotropin [tsh] and free thyroxine [ft4] levels) with alzheimer disease (ad).',\n",
       " 'background: untreated hypothyroidism is associated with acquired von willebrand syndrome, and hyperthyroidism is associated with increased thrombosis risk. however, the causal effects of thyroid function on hemostasis, coagulation, and fibrinolysis are unknown. methods: in a two-sample mendelian randomization (mr) study with genome-wide association variants, we assessed causality of genetically predicted hypothyroidism (n\\u2009=\\u2009134,641), normal-range thyrotropin (tsh; n\\u2009=\\u200954,288) and free thyroxine (ft4) (n\\u2009=\\u200949,269), hyperthyroidism (n\\u2009=\\u200951,823), and thyroid peroxidase antibody positivity (n\\u2009=\\u200925,821) on coagulation (activated partial thromboplastin time, von willebrand factor [vwf], factor viii [fviii], prothrombin time, factor vii, fibrinogen) and fibrinolysis (d-dimer, tissue plasminogen activator [tpa], plasminogen activator inhibitor-1) from the charge hemostasis consortium (n\\u2009=\\u20092583-120,246). inverse-variance-weighted random effects were the main mr analysis followed by sensitivity analyses. two-sided p\\u2009<\\u20090.05 was nominally significant, and p\\u2009<\\u20090.0011[\\u2009=\\u20090.05/(5 exposures\\u2009×\\u20099 outcomes)] was bonferroni significant for the main mr analysis. results: genetically increased tsh was associated with decreased vwf [β(se)\\u2009=\\u2009-0.020(0.006), p\\u2009=\\u20090.001] and with decreased fibrinogen [β(se)\\u2009=\\u2009-0.008(0.002), p\\u2009=\\u20090.001]. genetically increased ft4 was associated with increased vwf [β(se)\\u2009=\\u20090.028(0.011), p\\u2009=\\u20090.012]. genetically predicted hyperthyroidism was associated with increased vwf [β(se)\\u2009=\\u20090.012(0.004), p\\u2009=\\u20090.006] and increased fviii [β(se)\\u2009=\\u20090.013(0.005), p\\u2009=\\u20090.007]. genetically predicted hypothyroidism and hyperthyroidism were associated with decreased tpa [β(se)\\u2009=\\u2009-0.009(0.024), p\\u2009=\\u20090.024] and increased tpa [β(se)\\u2009=\\u20090.022(0.008), p\\u2009=\\u20090.008], respectively. mr sensitivity analyses showed similar direction but lower precision. other coagulation and fibrinolytic factors were inconclusive. conclusions: in the largest genetic studies currently available, genetically increased tsh and ft4 may be associated with decreased and increased synthesis of vwf, respectively. since bonferroni correction may be too conservative given the correlation between the analyzed traits, we cannot reject nominal associations of thyroid traits with coagulation or fibrinolytic factors.',\n",
       " 'thyroid dysfunction is associated with cardiovascular diseases. however, the role of thyroid function in lipid metabolism remains partly unknown. the present study aimed to investigate the causal association between thyroid function and serum lipid metabolism via a genetic analysis termed mendelian randomization (mr).',\n",
       " 'thyroid status is hypothesized to be causally related with the risk of diabetes mellitus (dm), but previous results were conflicting possibly because of a complex interaction between thyrotropin (tsh), body mass index (bmi) and dm.',\n",
       " 'background: observational studies suggest that even minor variations in thyroid function are associated with the risk of mood disorders, including major depressive disorder (mdd) and bipolar disorder (bd). however, it is unknown whether these associations are causal or not. we used a mendelian randomization (mr) approach to investigate causal effects of minor variations in thyrotropin (tsh) and free thyroxine (ft4) levels on mdd and bd risk. materials and methods: we performed two-sample mr analyses using data from the largest publicly available genome-wide association studies on normal-range tsh (n\\u2009=\\u200954,288) and ft4 (n\\u2009=\\u200949,269) levels, mdd (170,756 cases, 329,443 controls) and bd (20,352 cases, 31,358 controls). secondary mr analyses investigated the effects of tsh and ft4 levels on specific mdd and bd subtypes. reverse mr was also performed to assess the effects of mdd and bd on tsh and ft4 levels. results: there were no associations between genetically predicted tsh and ft4 levels and mdd risk, nor mdd subtypes and minor depressive symptoms. a one standard deviation increase in ft4 levels was nominally associated with an 11% decrease in the overall bd risk (odds ratio [or]\\u2009=\\u20090.89, 95% confidence interval [ci]\\u2009=\\u20090.80-0.98, p\\u2009=\\u20090.022) and a 13% decrease in the bd type 1 risk (or\\u2009=\\u20090.87, ci\\u2009=\\u20090.75-1.00, p\\u2009=\\u20090.047). in the reverse direction, genetic predisposition to mdd and bd was not associated with tsh nor ft4 levels. conclusions: variations in normal-range tsh and ft4 levels have no effects on the risk of mdd and its subtypes, and neither on minor depressive symptoms. this indicates that depressive symptoms should not be attributed to minor variations in thyroid function. borderline associations with bd and bd type 1 risks suggest that further clinical studies should investigate the effect of thyroid hormone treatment in bd.',\n",
       " 'a genetic predisposition to lower thyrotropin (tsh) levels is associated with increased atrial fibrillation (af) risk through undefined mechanisms.',\n",
       " 'the association between serum thyrotropin (tsh) and obesity traits has been investigated previously in several epidemiological studies. however, the underlying causal association has not been established.',\n",
       " 'the association between thyroid function and dyslipidemia has been well documented in observational studies. however, observational studies are prone to confounding, making it difficult to conduct causal inference. we performed a 2-sample bidirectional mendelian randomization (mr) using summary statistics from large-scale genome-wide association studies of thyroid stimulating hormone (tsh), free t4 (ft4), and blood lipids. we chose the inverse variance-weighted (ivw) method for the main analysis, and consolidated results through various sensitivity analyses involving 6 different mr methods under different model specifications. we further conducted genetic correlation analysis and colocalization analysis to deeply reflect the causality. the ivw method showed per 1 sd increase in normal tsh was significantly associated with a 0.048 sd increase in total cholesterol (tc; p\\u2005<\\u20050.001) and a 0.032 sd increase in low-density lipoprotein cholesterol (ldl; p\\u2005=\\u20050.021). a 1 sd increase in normal ft4 was significantly associated with a 0.056 sd decrease in tc (p\\u2005=\\u20050.014) and a 0.072 sd decrease in ldl (p\\u2005=\\u20050.009). neither tsh nor ft4 showed causal associations with high-density lipoprotein cholesterol and triglycerides. no significant causal effect of blood lipids on normal tsh or ft4 can be detected. all results were largely consistent when using several alternative mr methods, and were reconfirmed by both genetic correlation analysis and colocalization analysis. our study suggested that, even within reference range, higher tsh or lower ft4 are causally associated with increased tc and ldl, whereas no reverse causal association can be found.',\n",
       " 'hypothyroidism and hyperthyroidism are observationally associated with sex hormone concentrations and sexual dysfunction, but causality is unclear. we investigated whether tsh, ft4, hypo- and hyperthyroidism are causally associated with sex hormones and sexual function. we used publicly available summary statistics from genome-wide association studies on tsh and ft4 and hypo- and hyperthyroidism from the thyroidomics consortium (n\\u2009≤\\u200954,288). outcomes from uk biobank (women\\u2009≤\\u2009194,174/men\\u2009≤\\u2009167,020) and reprogen (women\\u2009≤\\u2009252,514) were sex hormones (sex hormone binding globulin [shbg], testosterone, estradiol, free androgen index [fai]) and sexual function (ovulatory function in women: duration of menstrual period, age at menarche and menopause, reproductive lifespan, and erectile dysfunction in men). we performed two-sample mendelian randomization (mr) analyses on summary level, and unweighted genetic risk score (grs) analysis on individual level data. one sd increase in tsh was associated with a 1.332\\xa0nmol/l lower (95% ci: -\\u20090.717,-\\u20091.946; p\\u2009=\\u20092\\u2009×\\u200910-5) shbg and a 0.103\\xa0nmol/l lower (-\\u20090.051,v0.154; p\\u2009=\\u20099\\u2009×\\u200910-5) testosterone in two-sample mr, supported by the grs approach. genetic predisposition to hypothyroidism was associated with decreased and genetic predisposition to hyperthyroidism with increased shbg and testosterone in both approaches. the grs for ft4 was associated with increased testosterone and estradiol in women only. the grs for tsh and hypothyroidism were associated with increased and the grs for hyperthyroidism with decreased fai in men only. while genetically predicted thyroid function was associated with sex hormones, we found no association with sexual function.',\n",
       " 'the endocrine and the immune systems interact by sharing receptors for hormones and cytokines, cross-control and feedback mechanisms. to date, no comprehensive study has assessed the impact of thyroid hormones on immune homeostasis. by studying immune phenotype (cell populations, antibody concentrations, circulating cytokines, adipokines and acute-phase proteins, monocyte-platelet interactions and cytokine production capacity) in two large independent cohorts of healthy volunteers of western european descent from the human functional genomics project (500fg and 300bcg cohorts), we identified a crucial role of the thyroid hormone thyroxin (t4) and thyroid-stimulating hormone (tsh) on the homeostasis of lymphocyte populations. tsh concentrations were strongly associated with multiple populations of both effector and regulatory t cells, whereas b-cell populations were significantly associated with free t4 (ft4). in contrast, ft4 and tsh had little impact on myeloid cell populations and cytokine production capacity. mendelian randomization further supported the role of ft4 for lymphocyte homeostasis. subsequently, using a genomics approach, we identified genetic variants that influence both ft4 and tsh concentrations and immune responses, and gene set enrichment pathway analysis showed enrichment of ft4-affected gene expression in b-cell function pathways, including the cd40 pathway, further supporting the importance of ft4 in the regulation of b-cell function. in conclusion, we show that thyroid function controls the homeostasis of the lymphoid cell compartment. these findings improve our understanding of the immune responses and open the door for exploring and understanding the role of thyroid hormones in the lymphocyte function during disease.',\n",
       " 'the association between normal range thyroid function and offspring birth weight has been postulated, but evidence from observational studies is prone to be confounded. we conducted a two-sample mendelian randomization (mr) study to explore the causal effects of maternal thyroid stimulating hormone (tsh) and free thyroxine (ft4) on birth weight.',\n",
       " 'thyroid stimulating hormone (tsh) is critical for normal development and metabolism. to better understand the genetic contribution to tsh levels, we conduct a gwas meta-analysis at 22.4 million genetic markers in up to 119,715 individuals and identify 74 genome-wide significant loci for tsh, of which 28 are previously unreported. functional experiments show that the thyroglobulin protein-altering variants p118l and g67s impact thyroglobulin secretion. phenome-wide association analysis in the uk biobank demonstrates the pleiotropic effects of tsh-associated variants and a polygenic score for higher tsh levels is associated with a reduced risk of thyroid cancer in the uk biobank and three other independent studies. two-sample mendelian randomization using tsh index variants as instrumental variables suggests a protective effect of higher tsh levels (indicating lower thyroid function) on risk of thyroid cancer and goiter. our findings highlight the pleiotropic effects of tsh-associated variants on thyroid function and growth of malignant and benign thyroid tumors.',\n",
       " 'background: observational studies have demonstrated that variation in normal range thyroid function is associated with major cardiovascular risk factors, including dyslipidemia, hypertension, type 2 diabetes (t2d), and obesity. as observational studies are prone to residual confounding, reverse causality, and selection bias, we used a mendelian randomization (mr) approach to investigate whether these associations are causal or not. methods: two-sample mr analysis using data from the largest available genome-wide association studies on normal range thyrotropin (tsh) and free thyroxine (ft4) levels, serum lipid levels, blood pressure measurements, t2d, and obesity traits (body mass index [bmi] and waist/hip ratio). results: a one standard deviation (sd) increase in genetically predicted tsh levels was associated with a 0.037 sd increase in total cholesterol levels (p\\u2009=\\u20093.0\\u2009×\\u200910-4). after excluding pleiotropic instruments, we also observed significant associations between tsh levels and low-density lipoprotein levels (β\\u2009=\\u20090.026 sd, p\\u2009=\\u20091.9\\u2009×\\u200910-3), pulse pressure (β\\u2009=\\u2009-0.477\\u2009mmhg, p\\u2009=\\u20097.5\\u2009×\\u200910-10), and t2d risk (odds ratio\\u2009=\\u20090.95, p\\u2009=\\u20092.5\\u2009×\\u200910-3). while we found no evidence of causal associations between tsh or ft4 levels and obesity traits, we found that a one sd increase in genetically predicted bmi was associated with a 0.075 sd decrease in ft4 levels (p\\u2009=\\u20093.6\\u2009×\\u200910-4). conclusions: variation in normal range thyroid function affects serum cholesterol levels, blood pressure, and t2d risk.',\n",
       " 'evidence from observational studies suggest a positive association between serum thyroid-stimulating hormone (tsh) levels and differentiated thyroid carcinoma. however, the cause-effect relationship is poorly understood and these studies are susceptible to bias and confounding. this study aimed to investigate the causal role of tsh in both benign thyroid nodules and thyroid cancer in up to 451,025 uk biobank participants, using a genetic technique, known as mendelian randomization (mr). hospital episode statistics and cancer registry databases were used to identify 462 patients with differentiated thyroid carcinoma and 2031 patients with benign nodular thyroid disease. mr methods using genetic variants associated with serum tsh were used to test causal relationships between tsh and the two disease outcomes. mendelian randomization provided evidence of a causal link between tsh and both thyroid cancer and benign nodular thyroid disease. two-sample mr suggested that a 1 s.d. higher genetically instrumented tsh (approximately 0.8 miu/l) resulted in 4.96-fold higher odds of benign nodular disease (95% ci 2.46-9.99) and 2.00-fold higher odds of thyroid cancer (95% ci 1.09-3.70). our results thus support a causal role for tsh in both benign nodular thyroid disease and thyroid cancer.',\n",
       " 'observational studies suggest that variations in normal range thyroid function are associated with cardiovascular diseases. however, it remains to be determined whether these associations are causal or not.',\n",
       " 'genetic factors are major determinants of thyroid function. over the last two decades, multiple genetic variants have been associated with variations in normal range thyroid function tests. most recently, a large-scale genome-wide association study (gwas) doubled the number of known variants associated with normal range thyrotropin (tsh) and free thyroxine (ft4) levels.',\n",
       " 'whether thyroid dysfunction plays a causal role in the development of cancer remains inconclusive. we conducted a two-sample mendelian randomization study to investigate the associations between genetic predisposition to thyroid dysfunction and 22 site-specific cancers. single-nucleotide polymorphisms associated with four traits of thyroid function were selected from a genome-wide association meta-analysis with up to 72,167 european-descent individuals. summary-level data for breast cancer and 21 other cancers were extracted from the breast cancer association consortium (122,977 breast cancer cases and 105,974 controls) and uk biobank (367,643 individuals). for breast cancer, a meta-analysis was performed using data from both sources. genetically predicted thyroid dysfunction was associated with breast cancer, with similar patterns of associations in the breast cancer association consortium and uk biobank. the combined odds ratios of breast cancer were 0.94 (0.91-0.98; p = 0.007) per genetically predicted one standard deviation increase in tsh levels, 0.96 (0.91-1.00; p = 0.053) for genetic predisposition to hypothyroidism, 1.04 (1.01-1.07; p = 0.005) for genetic predisposition to hyperthyroidism and 1.07 (1.02-1.12; p = 0.003) per genetically predicted one standard deviation increase in free thyroxine levels. genetically predicted tsh levels and hypothyroidism were inversely with thyroid cancer; the odds ratios were 0.47 (0.30-0.73; p = 0.001) and 0.70 (0.51-0.98; p = 0.038), respectively. our study provides evidence of a causal association between thyroid dysfunction and breast cancer (mainly er-positive tumors) risk. the role of tsh and hypothyroidism for thyroid cancer and the associations between thyroid dysfunction and other cancers need further exploration.',\n",
       " \"background: uncertainty in the mechanism and directionality of observational associations between thyroid function and kidney function may be addressed by genetic analysis with an instrumental variable method termed bidirectional mendelian randomization (mr). methods: in the women's genome health study (wghs), observational associations between thyroid measures and kidney function were evaluated. genetic instruments for mr were from recent genome-wide association studies (gwas) of hypothyroidism, thyrotropin (tsh), and free thyroxine (ft4) concentrations within the reference range, thyroid peroxidase antibodies (tpoab), estimated glomerular filtration rate from creatinine (egfrcrea), egfr from cystatin c (egfrcys), and chronic kidney disease (ckd). in wghs individual-level data, these instruments were used for bidirectional mr between thyroid (n\\u2009=\\u20093336) and kidney (n\\u2009=\\u200923,186) functions. to increase power, mr was also performed using gwas summary statistics from the chronic kidney disease genetics consortium (ckdgen) for egfrcrea (n\\u2009=\\u2009567,460), egfrcys (n\\u2009=\\u200924,063), ckd [n(total)\\u2009=\\u2009480,698, n(cases)\\u2009=\\u200941,395], and urinary albumin/creatinine ratio (uacr/n\\u2009=\\u200954,450). results: in the wghs, hypothyroidism was observationally associated with decreased egfrcrea [beta (standard error, se): -0.024 (0.009) ln(ml/min/1.73\\u2009m2), p\\u2009=\\u20090.01]. by mr, hypothyroidism was associated with decreased egfrcrea in the wghs [beta (se): -0.007 (0.002) per doubled odds hypothyroidism, p\\u2009=\\u20091.7\\u2009×\\u200910-3] and in ckdgen [beta (se): -0.004 (0.0005), p\\u2009=\\u20092.0\\u2009×\\u200910-22], and robust to sensitivity analysis. hypothyroidism was also associated by mr with increased ckd in ckdgen (odds ratio, or [confidence interval, ci]: 1.05 [1.03-1.08], p\\u2009=\\u20093.3\\u2009×\\u200910-5), but not in the wghs (or [ci]: 1.02 [0.95-1.10], p\\u2009=\\u20090.57). increased tsh within the reference range had an mr association with increased egfrcrea in the wghs [beta (se): -0.018 (0.007) ln(ml/min/1.73\\u2009m2)/standard deviation, sd, p\\u2009=\\u20096.5\\u2009×\\u200910-3] and ckdgen [beta (se): -0.008 (0.001) ln(ml/min/1.73\\u2009m2)/sd, p\\u2009=\\u20096.8\\u2009×\\u200910-17], and with ckd in ckdgen (or [ci]: 1.10 [1.04-1.15], p\\u2009=\\u20093.1\\u2009×\\u200910-4). there were no mr associations of hypothyroidism or tsh with egfrcys or uacr, and mr associations of ft4 in the reference range with kidney function were inconsistent in both the wghs and ckdgen. however, by mr in ckdgen, tpoab were robustly associated with decreased egfrcrea [beta (se): -0.041 (0.009), p\\u2009=\\u20096.2\\u2009×\\u200910-6] and decreased egfrcys [beta (se): -0.294 (0.065), p\\u2009=\\u20096.2\\u2009×\\u200910-6]. tpoab were less robustly associated with ckd but not associated with uacr. in reverse mr in the wghs, kidney function was not consistently associated with thyroid function. conclusions: bidirectional mr supports a directional association from hypothyroidism, increased tsh, and tpoab, but not ft4, to decreased egfrcrea and increased ckd.\",\n",
       " 'the thyroid plays a key role in development and homeostasis, but it has been difficult to establish causality with diseases and phenotypic traits because of several potential confounders.',\n",
       " 'increasing evidence suggests an association between thyroid-stimulating hormone (tsh) and estimated glomerular filtration rate (egfr). we conducted a mendelian randomization (mr) analysis to examine the causality of the association between tsh and egfr.',\n",
       " 'with population aging, prevalence of low bone mineral density (bmd) and associated fracture risk are increased. to determine whether low circulating thyroid stimulating hormone (tsh) levels within the normal range are causally related to bmd, we conducted a two-sample mendelian randomization (mr) study. furthermore, we tested whether common genetic variants in the tsh receptor (tshr) gene and genetic variants influencing expression of tshr (expression quantitative trait loci [eqtls]) are associated with bmd. for both analyses, we used summary-level data of genomewide association studies (gwass) investigating bmd of the femoral neck (n\\u2009=\\u200932,735) and the lumbar spine (n\\u2009=\\u200928,498) in cohorts of european ancestry from the genetic factors of osteoporosis (gefos) consortium. for the mr study, we selected 20 genetic variants that were previously identified for circulating tsh levels in a gwas meta-analysis (n\\u2009=\\u200926,420). all independent genetic instruments for tsh were combined in analyses for both femoral neck and lumbar spine bmd. in these studies, we found no evidence that a genetically determined 1-standard deviation (sd) decrease in circulating tsh concentration was associated with femoral neck bmd (0.003 sd decrease in bmd per sd decrease of tsh; 95% ci, -0.053 to 0.048; p\\u2009=\\u20090.92) or lumbar spine bmd (0.010 sd decrease in bmd per sd decrease of tsh; 95% ci, -0.069 to 0.049; p\\u2009=\\u20090.73). a total of 706 common genetic variants have been mapped to the tshr locus and expression loci for tshr. however, none of these genetic variants were associated with bmd at the femoral neck or lumbar spine. in conclusion, we found no evidence for a causal effect of circulating tsh on bmd, nor did we find any association between genetic variation at the tshr locus or expression thereof and bmd. © 2018 the authors. journal of bone and mineral research published by wileyperiodicals, inc.',\n",
       " 'to clarify the role of thyroid function in ischemic heart disease (ihd) we assessed ihd risk and risk factors according to genetically predicted thyroid stimulating hormone (tsh), free thyroxine (ft4) and thyroid peroxidase antibody (tpoab) positivity. separate-sample instrumental variable analysis with genetic instruments (mendelian randomization) was used in an extensively genotyped case (n\\u2009=\\u200964,374)-control (n\\u2009=\\u2009130,681) study, cardiogramplusc4d. associations with lipids, diabetes and adiposity were assessed using the global lipids genetics consortium results (n\\u2009=\\u2009196,475), the diabetes genetics replication and meta-analysis case (n\\u2009=\\u200934,380)-control (n\\u2009=\\u2009114,981) study, and the genetic investigation of anthropometric traits (body mass index in 152,893 men and 171,977 women, waist-hip ratio in 93,480 men and 116,741 women). genetically predicted thyroid function was not associated with ihd (odds ratio (or) per standard deviation for tsh 1.05, 95% confidence interval (ci) 0.97 to 1.12; for ft4 1.01, 95% ci 0.91 to 1.12; for tpoab positivity 1.10, 95% ci 0.83 to 1.46) or after bonferroni correction with risk factors, except for an inverse association of ft4 with low-density lipoprotein-cholesterol. the associations were generally robust to sensitivity analyses using a weighted median method and mr egger. this novel study provides little indication that tsh, ft4 or tpoab positivity affects ihd, despite potential effects on its risk factors.',\n",
       " 'increasing evidence suggests an association between thyroid-stimulating hormone (tsh), free thyroxine (ft4), and deiodinases with insulin resistance and type 2 diabetes mellitus (t2d).']"
      ]
     },
     "execution_count": 33,
     "metadata": {},
     "output_type": "execute_result"
    }
   ],
   "source": [
    "cleaned = [abstract.lower() for abstract in abstracts_series]\n",
    "cleaned"
   ]
  },
  {
   "cell_type": "code",
   "execution_count": 34,
   "metadata": {},
   "outputs": [
    {
     "data": {
      "text/plain": [
       "0     Previous studies have suggested a potential as...\n",
       "1     The association between thyroid function and v...\n",
       "2     To determine whether there is a causal relatio...\n",
       "3     The role of thyroid health in temporomandibula...\n",
       "4     Genome-wide association studies have reported ...\n",
       "                            ...                        \n",
       "62    The thyroid plays a key role in development an...\n",
       "63    Increasing evidence suggests an association be...\n",
       "64    With population aging, prevalence of low bone ...\n",
       "65    To clarify the role of thyroid function in isc...\n",
       "66    Increasing evidence suggests an association be...\n",
       "Name: Abstract, Length: 67, dtype: object"
      ]
     },
     "execution_count": 34,
     "metadata": {},
     "output_type": "execute_result"
    }
   ],
   "source": [
    "abstracts_series = df_abstracts['Abstract']\n",
    "abstracts_series"
   ]
  },
  {
   "cell_type": "code",
   "execution_count": 35,
   "metadata": {},
   "outputs": [
    {
     "data": {
      "text/plain": [
       "0     Previous studies have suggested a potential as...\n",
       "1     The association between thyroid function and v...\n",
       "2     To determine whether there is a causal relatio...\n",
       "3     The role of thyroid health in temporomandibula...\n",
       "4     Genome-wide association studies have reported ...\n",
       "                            ...                        \n",
       "62    The thyroid plays a key role in development an...\n",
       "63    Increasing evidence suggests an association be...\n",
       "64    With population aging, prevalence of low bone ...\n",
       "65    To clarify the role of thyroid function in isc...\n",
       "66    Increasing evidence suggests an association be...\n",
       "Name: Abstract, Length: 67, dtype: object"
      ]
     },
     "execution_count": 35,
     "metadata": {},
     "output_type": "execute_result"
    }
   ],
   "source": [
    "abstracts_series = df_abstracts['Abstract']\n",
    "abstracts_series"
   ]
  },
  {
   "cell_type": "code",
   "execution_count": 36,
   "metadata": {},
   "outputs": [
    {
     "data": {
      "text/plain": [
       "0     Previous studies have suggested a potential as...\n",
       "1     The association between thyroid function and v...\n",
       "2     To determine whether there is a causal relatio...\n",
       "3     The role of thyroid health in temporomandibula...\n",
       "4     Genome-wide association studies have reported ...\n",
       "                            ...                        \n",
       "62    The thyroid plays a key role in development an...\n",
       "63    Increasing evidence suggests an association be...\n",
       "64    With population aging, prevalence of low bone ...\n",
       "65    To clarify the role of thyroid function in isc...\n",
       "66    Increasing evidence suggests an association be...\n",
       "Name: Abstract, Length: 67, dtype: object"
      ]
     },
     "execution_count": 36,
     "metadata": {},
     "output_type": "execute_result"
    }
   ],
   "source": [
    "abstracts_series = df_abstracts['Abstract']\n",
    "abstracts_series"
   ]
  },
  {
   "cell_type": "code",
   "execution_count": 37,
   "metadata": {},
   "outputs": [
    {
     "data": {
      "text/plain": [
       "(67, 256)"
      ]
     },
     "execution_count": 37,
     "metadata": {},
     "output_type": "execute_result"
    }
   ],
   "source": [
    "processed_abstracts = [process_abstract(abstract) for abstract in abstracts_series]\n",
    "processed_abstracts = pd.DataFrame(processed_abstracts)\n",
    "processed_abstracts.shape"
   ]
  },
  {
   "cell_type": "code",
   "execution_count": 38,
   "metadata": {},
   "outputs": [
    {
     "data": {
      "text/html": [
       "<div>\n",
       "<style scoped>\n",
       "    .dataframe tbody tr th:only-of-type {\n",
       "        vertical-align: middle;\n",
       "    }\n",
       "\n",
       "    .dataframe tbody tr th {\n",
       "        vertical-align: top;\n",
       "    }\n",
       "\n",
       "    .dataframe thead th {\n",
       "        text-align: right;\n",
       "    }\n",
       "</style>\n",
       "<table border=\"1\" class=\"dataframe\">\n",
       "  <thead>\n",
       "    <tr style=\"text-align: right;\">\n",
       "      <th></th>\n",
       "      <th>0</th>\n",
       "      <th>1</th>\n",
       "      <th>2</th>\n",
       "      <th>3</th>\n",
       "      <th>4</th>\n",
       "      <th>5</th>\n",
       "      <th>6</th>\n",
       "      <th>7</th>\n",
       "      <th>8</th>\n",
       "      <th>9</th>\n",
       "      <th>...</th>\n",
       "      <th>246</th>\n",
       "      <th>247</th>\n",
       "      <th>248</th>\n",
       "      <th>249</th>\n",
       "      <th>250</th>\n",
       "      <th>251</th>\n",
       "      <th>252</th>\n",
       "      <th>253</th>\n",
       "      <th>254</th>\n",
       "      <th>255</th>\n",
       "    </tr>\n",
       "  </thead>\n",
       "  <tbody>\n",
       "    <tr>\n",
       "      <th>0</th>\n",
       "      <td>previous</td>\n",
       "      <td>study</td>\n",
       "      <td>suggest</td>\n",
       "      <td>potential</td>\n",
       "      <td>association</td>\n",
       "      <td>aitd</td>\n",
       "      <td>mg</td>\n",
       "      <td>evidence</td>\n",
       "      <td>limit</td>\n",
       "      <td>controversial</td>\n",
       "      <td>...</td>\n",
       "      <td>None</td>\n",
       "      <td>None</td>\n",
       "      <td>None</td>\n",
       "      <td>None</td>\n",
       "      <td>None</td>\n",
       "      <td>None</td>\n",
       "      <td>None</td>\n",
       "      <td>None</td>\n",
       "      <td>None</td>\n",
       "      <td>None</td>\n",
       "    </tr>\n",
       "    <tr>\n",
       "      <th>1</th>\n",
       "      <td>association</td>\n",
       "      <td>thyroid</td>\n",
       "      <td>function</td>\n",
       "      <td>viral</td>\n",
       "      <td>pneumonia</td>\n",
       "      <td>undergo</td>\n",
       "      <td>extensive</td>\n",
       "      <td>examination</td>\n",
       "      <td>yet</td>\n",
       "      <td>presence</td>\n",
       "      <td>...</td>\n",
       "      <td>None</td>\n",
       "      <td>None</td>\n",
       "      <td>None</td>\n",
       "      <td>None</td>\n",
       "      <td>None</td>\n",
       "      <td>None</td>\n",
       "      <td>None</td>\n",
       "      <td>None</td>\n",
       "      <td>None</td>\n",
       "      <td>None</td>\n",
       "    </tr>\n",
       "    <tr>\n",
       "      <th>2</th>\n",
       "      <td>determine</td>\n",
       "      <td>whether</td>\n",
       "      <td>causal</td>\n",
       "      <td>relationship</td>\n",
       "      <td>thyroid</td>\n",
       "      <td>dysfunction</td>\n",
       "      <td>risk</td>\n",
       "      <td>agerelated</td>\n",
       "      <td>cataract</td>\n",
       "      <td>arc</td>\n",
       "      <td>...</td>\n",
       "      <td>None</td>\n",
       "      <td>None</td>\n",
       "      <td>None</td>\n",
       "      <td>None</td>\n",
       "      <td>None</td>\n",
       "      <td>None</td>\n",
       "      <td>None</td>\n",
       "      <td>None</td>\n",
       "      <td>None</td>\n",
       "      <td>None</td>\n",
       "    </tr>\n",
       "    <tr>\n",
       "      <th>3</th>\n",
       "      <td>role</td>\n",
       "      <td>thyroid</td>\n",
       "      <td>health</td>\n",
       "      <td>temporomandibular</td>\n",
       "      <td>disorder</td>\n",
       "      <td>tmds</td>\n",
       "      <td>emphasize</td>\n",
       "      <td>observational</td>\n",
       "      <td>study</td>\n",
       "      <td>however</td>\n",
       "      <td>...</td>\n",
       "      <td>None</td>\n",
       "      <td>None</td>\n",
       "      <td>None</td>\n",
       "      <td>None</td>\n",
       "      <td>None</td>\n",
       "      <td>None</td>\n",
       "      <td>None</td>\n",
       "      <td>None</td>\n",
       "      <td>None</td>\n",
       "      <td>None</td>\n",
       "    </tr>\n",
       "    <tr>\n",
       "      <th>4</th>\n",
       "      <td>genomewide</td>\n",
       "      <td>association</td>\n",
       "      <td>study</td>\n",
       "      <td>report</td>\n",
       "      <td>genetic</td>\n",
       "      <td>overlap</td>\n",
       "      <td>borderline</td>\n",
       "      <td>personality</td>\n",
       "      <td>disorder</td>\n",
       "      <td>bpd</td>\n",
       "      <td>...</td>\n",
       "      <td>None</td>\n",
       "      <td>None</td>\n",
       "      <td>None</td>\n",
       "      <td>None</td>\n",
       "      <td>None</td>\n",
       "      <td>None</td>\n",
       "      <td>None</td>\n",
       "      <td>None</td>\n",
       "      <td>None</td>\n",
       "      <td>None</td>\n",
       "    </tr>\n",
       "    <tr>\n",
       "      <th>...</th>\n",
       "      <td>...</td>\n",
       "      <td>...</td>\n",
       "      <td>...</td>\n",
       "      <td>...</td>\n",
       "      <td>...</td>\n",
       "      <td>...</td>\n",
       "      <td>...</td>\n",
       "      <td>...</td>\n",
       "      <td>...</td>\n",
       "      <td>...</td>\n",
       "      <td>...</td>\n",
       "      <td>...</td>\n",
       "      <td>...</td>\n",
       "      <td>...</td>\n",
       "      <td>...</td>\n",
       "      <td>...</td>\n",
       "      <td>...</td>\n",
       "      <td>...</td>\n",
       "      <td>...</td>\n",
       "      <td>...</td>\n",
       "      <td>...</td>\n",
       "    </tr>\n",
       "    <tr>\n",
       "      <th>62</th>\n",
       "      <td>thyroid</td>\n",
       "      <td>play</td>\n",
       "      <td>key</td>\n",
       "      <td>role</td>\n",
       "      <td>development</td>\n",
       "      <td>homeostasis</td>\n",
       "      <td>difficult</td>\n",
       "      <td>establish</td>\n",
       "      <td>causality</td>\n",
       "      <td>disease</td>\n",
       "      <td>...</td>\n",
       "      <td>None</td>\n",
       "      <td>None</td>\n",
       "      <td>None</td>\n",
       "      <td>None</td>\n",
       "      <td>None</td>\n",
       "      <td>None</td>\n",
       "      <td>None</td>\n",
       "      <td>None</td>\n",
       "      <td>None</td>\n",
       "      <td>None</td>\n",
       "    </tr>\n",
       "    <tr>\n",
       "      <th>63</th>\n",
       "      <td>increase</td>\n",
       "      <td>evidence</td>\n",
       "      <td>suggest</td>\n",
       "      <td>association</td>\n",
       "      <td>thyroidstimulating</td>\n",
       "      <td>hormone</td>\n",
       "      <td>tsh</td>\n",
       "      <td>estimate</td>\n",
       "      <td>glomerular</td>\n",
       "      <td>filtration</td>\n",
       "      <td>...</td>\n",
       "      <td>None</td>\n",
       "      <td>None</td>\n",
       "      <td>None</td>\n",
       "      <td>None</td>\n",
       "      <td>None</td>\n",
       "      <td>None</td>\n",
       "      <td>None</td>\n",
       "      <td>None</td>\n",
       "      <td>None</td>\n",
       "      <td>None</td>\n",
       "    </tr>\n",
       "    <tr>\n",
       "      <th>64</th>\n",
       "      <td>population</td>\n",
       "      <td>age</td>\n",
       "      <td>prevalence</td>\n",
       "      <td>low</td>\n",
       "      <td>bone</td>\n",
       "      <td>mineral</td>\n",
       "      <td>density</td>\n",
       "      <td>bmd</td>\n",
       "      <td>associate</td>\n",
       "      <td>fracture</td>\n",
       "      <td>...</td>\n",
       "      <td>None</td>\n",
       "      <td>None</td>\n",
       "      <td>None</td>\n",
       "      <td>None</td>\n",
       "      <td>None</td>\n",
       "      <td>None</td>\n",
       "      <td>None</td>\n",
       "      <td>None</td>\n",
       "      <td>None</td>\n",
       "      <td>None</td>\n",
       "    </tr>\n",
       "    <tr>\n",
       "      <th>65</th>\n",
       "      <td>clarify</td>\n",
       "      <td>role</td>\n",
       "      <td>thyroid</td>\n",
       "      <td>function</td>\n",
       "      <td>ischemic</td>\n",
       "      <td>heart</td>\n",
       "      <td>disease</td>\n",
       "      <td>ihd</td>\n",
       "      <td>ass</td>\n",
       "      <td>ihd</td>\n",
       "      <td>...</td>\n",
       "      <td>None</td>\n",
       "      <td>None</td>\n",
       "      <td>None</td>\n",
       "      <td>None</td>\n",
       "      <td>None</td>\n",
       "      <td>None</td>\n",
       "      <td>None</td>\n",
       "      <td>None</td>\n",
       "      <td>None</td>\n",
       "      <td>None</td>\n",
       "    </tr>\n",
       "    <tr>\n",
       "      <th>66</th>\n",
       "      <td>increase</td>\n",
       "      <td>evidence</td>\n",
       "      <td>suggest</td>\n",
       "      <td>association</td>\n",
       "      <td>thyroidstimulating</td>\n",
       "      <td>hormone</td>\n",
       "      <td>tsh</td>\n",
       "      <td>free</td>\n",
       "      <td>thyroxine</td>\n",
       "      <td>ft</td>\n",
       "      <td>...</td>\n",
       "      <td>None</td>\n",
       "      <td>None</td>\n",
       "      <td>None</td>\n",
       "      <td>None</td>\n",
       "      <td>None</td>\n",
       "      <td>None</td>\n",
       "      <td>None</td>\n",
       "      <td>None</td>\n",
       "      <td>None</td>\n",
       "      <td>None</td>\n",
       "    </tr>\n",
       "  </tbody>\n",
       "</table>\n",
       "<p>67 rows × 256 columns</p>\n",
       "</div>"
      ],
      "text/plain": [
       "            0            1           2                  3    \\\n",
       "0      previous        study     suggest          potential   \n",
       "1   association      thyroid    function              viral   \n",
       "2     determine      whether      causal       relationship   \n",
       "3          role      thyroid      health  temporomandibular   \n",
       "4    genomewide  association       study             report   \n",
       "..          ...          ...         ...                ...   \n",
       "62      thyroid         play         key               role   \n",
       "63     increase     evidence     suggest        association   \n",
       "64   population          age  prevalence                low   \n",
       "65      clarify         role     thyroid           function   \n",
       "66     increase     evidence     suggest        association   \n",
       "\n",
       "                   4            5           6              7           8    \\\n",
       "0          association         aitd          mg       evidence       limit   \n",
       "1            pneumonia      undergo   extensive    examination         yet   \n",
       "2              thyroid  dysfunction        risk     agerelated    cataract   \n",
       "3             disorder         tmds   emphasize  observational       study   \n",
       "4              genetic      overlap  borderline    personality    disorder   \n",
       "..                 ...          ...         ...            ...         ...   \n",
       "62         development  homeostasis   difficult      establish   causality   \n",
       "63  thyroidstimulating      hormone         tsh       estimate  glomerular   \n",
       "64                bone      mineral     density            bmd   associate   \n",
       "65            ischemic        heart     disease            ihd         ass   \n",
       "66  thyroidstimulating      hormone         tsh           free   thyroxine   \n",
       "\n",
       "              9    ...   246   247   248   249   250   251   252   253   254  \\\n",
       "0   controversial  ...  None  None  None  None  None  None  None  None  None   \n",
       "1        presence  ...  None  None  None  None  None  None  None  None  None   \n",
       "2             arc  ...  None  None  None  None  None  None  None  None  None   \n",
       "3         however  ...  None  None  None  None  None  None  None  None  None   \n",
       "4             bpd  ...  None  None  None  None  None  None  None  None  None   \n",
       "..            ...  ...   ...   ...   ...   ...   ...   ...   ...   ...   ...   \n",
       "62        disease  ...  None  None  None  None  None  None  None  None  None   \n",
       "63     filtration  ...  None  None  None  None  None  None  None  None  None   \n",
       "64       fracture  ...  None  None  None  None  None  None  None  None  None   \n",
       "65            ihd  ...  None  None  None  None  None  None  None  None  None   \n",
       "66             ft  ...  None  None  None  None  None  None  None  None  None   \n",
       "\n",
       "     255  \n",
       "0   None  \n",
       "1   None  \n",
       "2   None  \n",
       "3   None  \n",
       "4   None  \n",
       "..   ...  \n",
       "62  None  \n",
       "63  None  \n",
       "64  None  \n",
       "65  None  \n",
       "66  None  \n",
       "\n",
       "[67 rows x 256 columns]"
      ]
     },
     "execution_count": 38,
     "metadata": {},
     "output_type": "execute_result"
    }
   ],
   "source": [
    "processed_abstracts"
   ]
  }
 ],
 "metadata": {
  "kernelspec": {
   "display_name": "ResearchTopicsRanker",
   "language": "python",
   "name": "python3"
  },
  "language_info": {
   "codemirror_mode": {
    "name": "ipython",
    "version": 3
   },
   "file_extension": ".py",
   "mimetype": "text/x-python",
   "name": "python",
   "nbconvert_exporter": "python",
   "pygments_lexer": "ipython3",
   "version": "3.10.6"
  }
 },
 "nbformat": 4,
 "nbformat_minor": 2
}
