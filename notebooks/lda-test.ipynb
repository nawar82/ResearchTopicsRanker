{
 "cells": [
  {
   "cell_type": "markdown",
   "id": "674b1348-ef5b-4ae2-aff1-53939c7ac314",
   "metadata": {},
   "source": [
    "### Packages"
   ]
  },
  {
   "cell_type": "code",
   "execution_count": 1,
   "id": "78833365-492d-4aaf-b469-f9c7ba3e502c",
   "metadata": {},
   "outputs": [],
   "source": [
    "# Essentials\n",
    "import pandas as pd\n",
    "import numpy as np\n",
    "\n",
    "# ML Modules\n",
    "from sklearn.feature_extraction.text import TfidfVectorizer\n",
    "from sklearn.decomposition import LatentDirichletAllocation\n",
    "\n",
    "# For preprosessing\n",
    "import string\n",
    "from nltk.corpus import stopwords \n",
    "from nltk import word_tokenize\n",
    "from nltk.stem import WordNetLemmatizer\n",
    "\n",
    "# For testing coherence model\n",
    "import gensim\n",
    "from gensim.models import LdaModel\n",
    "from gensim.models import CoherenceModel\n",
    "from gensim.corpora import Dictionary\n",
    "\n",
    "# Graphs\n",
    "import matplotlib.pyplot as plt"
   ]
  },
  {
   "cell_type": "markdown",
   "id": "879dd387-0fbd-4cc0-b4c9-94c08f172f6c",
   "metadata": {},
   "source": [
    "### Data Import"
   ]
  },
  {
   "cell_type": "code",
   "execution_count": 3,
   "id": "24c68986-b125-4334-b484-1d284461bddb",
   "metadata": {},
   "outputs": [
    {
     "data": {
      "text/html": [
       "<div>\n",
       "<style scoped>\n",
       "    .dataframe tbody tr th:only-of-type {\n",
       "        vertical-align: middle;\n",
       "    }\n",
       "\n",
       "    .dataframe tbody tr th {\n",
       "        vertical-align: top;\n",
       "    }\n",
       "\n",
       "    .dataframe thead th {\n",
       "        text-align: right;\n",
       "    }\n",
       "</style>\n",
       "<table border=\"1\" class=\"dataframe\">\n",
       "  <thead>\n",
       "    <tr style=\"text-align: right;\">\n",
       "      <th></th>\n",
       "      <th>text</th>\n",
       "    </tr>\n",
       "  </thead>\n",
       "  <tbody>\n",
       "    <tr>\n",
       "      <th>0</th>\n",
       "      <td>From: gld@cunixb.cc.columbia.edu (Gary L Dare)...</td>\n",
       "    </tr>\n",
       "    <tr>\n",
       "      <th>1</th>\n",
       "      <td>From: atterlep@vela.acs.oakland.edu (Cardinal ...</td>\n",
       "    </tr>\n",
       "    <tr>\n",
       "      <th>2</th>\n",
       "      <td>From: miner@kuhub.cc.ukans.edu\\nSubject: Re: A...</td>\n",
       "    </tr>\n",
       "    <tr>\n",
       "      <th>3</th>\n",
       "      <td>From: atterlep@vela.acs.oakland.edu (Cardinal ...</td>\n",
       "    </tr>\n",
       "    <tr>\n",
       "      <th>4</th>\n",
       "      <td>From: vzhivov@superior.carleton.ca (Vladimir Z...</td>\n",
       "    </tr>\n",
       "  </tbody>\n",
       "</table>\n",
       "</div>"
      ],
      "text/plain": [
       "                                                text\n",
       "0  From: gld@cunixb.cc.columbia.edu (Gary L Dare)...\n",
       "1  From: atterlep@vela.acs.oakland.edu (Cardinal ...\n",
       "2  From: miner@kuhub.cc.ukans.edu\\nSubject: Re: A...\n",
       "3  From: atterlep@vela.acs.oakland.edu (Cardinal ...\n",
       "4  From: vzhivov@superior.carleton.ca (Vladimir Z..."
      ]
     },
     "execution_count": 3,
     "metadata": {},
     "output_type": "execute_result"
    }
   ],
   "source": [
    "url = 'https://wagon-public-datasets.s3.amazonaws.com/05-Machine-Learning/10-Natural-Language-Processing/lda_data'\n",
    "\n",
    "data = pd.read_csv(url, sep=\",\", header=None)\n",
    "data.columns = ['text']\n",
    "data.head()"
   ]
  },
  {
   "cell_type": "markdown",
   "id": "f53fea75-08f9-4b39-a7c1-488f254f5a54",
   "metadata": {},
   "source": [
    "### Preprocessing"
   ]
  },
  {
   "cell_type": "code",
   "execution_count": 4,
   "id": "057d9b0e-cf04-4ef5-8c5f-9895c1cb0987",
   "metadata": {},
   "outputs": [],
   "source": [
    "def preprocessing(sentence):\n",
    "    \n",
    "    # remove whitespace\n",
    "    sentence = sentence.strip()\n",
    "    \n",
    "    # lowercase characters\n",
    "    sentence = sentence.lower()\n",
    "    \n",
    "    # remove numbers\n",
    "    sentence = ''.join(char for char in sentence if not char.isdigit())\n",
    "    \n",
    "    # remove punctuation\n",
    "    for punctuation in string.punctuation:   \n",
    "        sentence = sentence.replace(punctuation, '')\n",
    "    \n",
    "    # remove stop_words\n",
    "    stop_words = set(stopwords.words('english'))\n",
    "    words = word_tokenize(sentence)\n",
    "    filtered_words = [word for word in words if word.lower() not in stop_words]\n",
    "    sentence = ' '.join(filtered_words)\n",
    "    \n",
    "    # tokenize and lemmatize\n",
    "    words = word_tokenize(sentence)\n",
    "    lemmatizer = WordNetLemmatizer()\n",
    "    lemmatized_words = [lemmatizer.lemmatize(word, pos='v') for word in words]  # Lemmatize verbs\n",
    "    lemmatized_words = [lemmatizer.lemmatize(word, pos='n') for word in lemmatized_words]  # Lemmatize nouns\n",
    "    \n",
    "    return ' '.join(lemmatized_words)"
   ]
  },
  {
   "cell_type": "markdown",
   "id": "870de683-5164-4a15-96ae-fa42ff1b071b",
   "metadata": {},
   "source": [
    "Test data:"
   ]
  },
  {
   "cell_type": "code",
   "execution_count": 5,
   "id": "24fc3fc4-8feb-4037-b594-fd1fe336be66",
   "metadata": {
    "scrolled": true
   },
   "outputs": [
    {
     "data": {
      "text/html": [
       "<div>\n",
       "<style scoped>\n",
       "    .dataframe tbody tr th:only-of-type {\n",
       "        vertical-align: middle;\n",
       "    }\n",
       "\n",
       "    .dataframe tbody tr th {\n",
       "        vertical-align: top;\n",
       "    }\n",
       "\n",
       "    .dataframe thead th {\n",
       "        text-align: right;\n",
       "    }\n",
       "</style>\n",
       "<table border=\"1\" class=\"dataframe\">\n",
       "  <thead>\n",
       "    <tr style=\"text-align: right;\">\n",
       "      <th></th>\n",
       "      <th>text</th>\n",
       "      <th>clean_text</th>\n",
       "    </tr>\n",
       "  </thead>\n",
       "  <tbody>\n",
       "    <tr>\n",
       "      <th>0</th>\n",
       "      <td>From: gld@cunixb.cc.columbia.edu (Gary L Dare)...</td>\n",
       "      <td>gldcunixbcccolumbiaedu gary l dare subject sta...</td>\n",
       "    </tr>\n",
       "    <tr>\n",
       "      <th>1</th>\n",
       "      <td>From: atterlep@vela.acs.oakland.edu (Cardinal ...</td>\n",
       "      <td>atterlepvelaacsoaklandedu cardinal ximenez sub...</td>\n",
       "    </tr>\n",
       "    <tr>\n",
       "      <th>2</th>\n",
       "      <td>From: miner@kuhub.cc.ukans.edu\\nSubject: Re: A...</td>\n",
       "      <td>minerkuhubccukansedu subject ancient book orga...</td>\n",
       "    </tr>\n",
       "    <tr>\n",
       "      <th>3</th>\n",
       "      <td>From: atterlep@vela.acs.oakland.edu (Cardinal ...</td>\n",
       "      <td>atterlepvelaacsoaklandedu cardinal ximenez sub...</td>\n",
       "    </tr>\n",
       "    <tr>\n",
       "      <th>4</th>\n",
       "      <td>From: vzhivov@superior.carleton.ca (Vladimir Z...</td>\n",
       "      <td>vzhivovsuperiorcarletonca vladimir zhivov subj...</td>\n",
       "    </tr>\n",
       "    <tr>\n",
       "      <th>...</th>\n",
       "      <td>...</td>\n",
       "      <td>...</td>\n",
       "    </tr>\n",
       "    <tr>\n",
       "      <th>1194</th>\n",
       "      <td>From: jerryb@eskimo.com (Jerry Kaufman)\\nSubje...</td>\n",
       "      <td>jerrybeskimocom jerry kaufman subject prayer a...</td>\n",
       "    </tr>\n",
       "    <tr>\n",
       "      <th>1195</th>\n",
       "      <td>From: golchowy@alchemy.chem.utoronto.ca (Geral...</td>\n",
       "      <td>golchowyalchemychemutorontoca gerald olchowy s...</td>\n",
       "    </tr>\n",
       "    <tr>\n",
       "      <th>1196</th>\n",
       "      <td>From: jayne@mmalt.guild.org (Jayne Kulikauskas...</td>\n",
       "      <td>jaynemmaltguildorg jayne kulikauskas subject q...</td>\n",
       "    </tr>\n",
       "    <tr>\n",
       "      <th>1197</th>\n",
       "      <td>From: sclark@epas.utoronto.ca (Susan Clark)\\nS...</td>\n",
       "      <td>sclarkepasutorontoca susan clark subject pick ...</td>\n",
       "    </tr>\n",
       "    <tr>\n",
       "      <th>1198</th>\n",
       "      <td>From: lmvec@westminster.ac.uk (William Hargrea...</td>\n",
       "      <td>lmvecwestminsteracuk william hargreaves subjec...</td>\n",
       "    </tr>\n",
       "  </tbody>\n",
       "</table>\n",
       "<p>1199 rows × 2 columns</p>\n",
       "</div>"
      ],
      "text/plain": [
       "                                                   text  \\\n",
       "0     From: gld@cunixb.cc.columbia.edu (Gary L Dare)...   \n",
       "1     From: atterlep@vela.acs.oakland.edu (Cardinal ...   \n",
       "2     From: miner@kuhub.cc.ukans.edu\\nSubject: Re: A...   \n",
       "3     From: atterlep@vela.acs.oakland.edu (Cardinal ...   \n",
       "4     From: vzhivov@superior.carleton.ca (Vladimir Z...   \n",
       "...                                                 ...   \n",
       "1194  From: jerryb@eskimo.com (Jerry Kaufman)\\nSubje...   \n",
       "1195  From: golchowy@alchemy.chem.utoronto.ca (Geral...   \n",
       "1196  From: jayne@mmalt.guild.org (Jayne Kulikauskas...   \n",
       "1197  From: sclark@epas.utoronto.ca (Susan Clark)\\nS...   \n",
       "1198  From: lmvec@westminster.ac.uk (William Hargrea...   \n",
       "\n",
       "                                             clean_text  \n",
       "0     gldcunixbcccolumbiaedu gary l dare subject sta...  \n",
       "1     atterlepvelaacsoaklandedu cardinal ximenez sub...  \n",
       "2     minerkuhubccukansedu subject ancient book orga...  \n",
       "3     atterlepvelaacsoaklandedu cardinal ximenez sub...  \n",
       "4     vzhivovsuperiorcarletonca vladimir zhivov subj...  \n",
       "...                                                 ...  \n",
       "1194  jerrybeskimocom jerry kaufman subject prayer a...  \n",
       "1195  golchowyalchemychemutorontoca gerald olchowy s...  \n",
       "1196  jaynemmaltguildorg jayne kulikauskas subject q...  \n",
       "1197  sclarkepasutorontoca susan clark subject pick ...  \n",
       "1198  lmvecwestminsteracuk william hargreaves subjec...  \n",
       "\n",
       "[1199 rows x 2 columns]"
      ]
     },
     "execution_count": 5,
     "metadata": {},
     "output_type": "execute_result"
    }
   ],
   "source": [
    "data['clean_text'] = data['text'].apply(preprocessing)\n",
    "data"
   ]
  },
  {
   "cell_type": "markdown",
   "id": "3c22c414-0623-4d47-9bdb-060cbd5aa0ba",
   "metadata": {},
   "source": [
    "### Functions"
   ]
  },
  {
   "cell_type": "code",
   "execution_count": 6,
   "id": "aa68ab8d-d6ca-4b06-8924-a86e660a9750",
   "metadata": {},
   "outputs": [],
   "source": [
    "def lda_model_fit(n_components, max_iter, vectorized_documents):\n",
    "    lda_model = LatentDirichletAllocation(n_components=n_components, max_iter = max_iter) \n",
    "    \n",
    "    # Fit the LDA on the vectorized documents \n",
    "    lda_model.fit(vectorized_documents)\n",
    "    \n",
    "    return lda_model"
   ]
  },
  {
   "cell_type": "code",
   "execution_count": 7,
   "id": "6b4d9d4b-b7c9-4ee7-a8c1-17af6472df21",
   "metadata": {},
   "outputs": [],
   "source": [
    "def topics_list(model, vectorizer, top_words):\n",
    "    topics = []\n",
    "    for idx, topic in enumerate(model.components_):\n",
    "        # print(\"Topic %d:\" % (idx))\n",
    "        topic = [(vectorizer.get_feature_names_out()[i], topic[i]) for i in topic.argsort()[:-top_words - 1:-1]]\n",
    "        # print(topic)\n",
    "        topics.append(topic)\n",
    "    return topics"
   ]
  },
  {
   "cell_type": "code",
   "execution_count": 8,
   "id": "f1508153-b22f-431e-ab5a-f6d4c8ccfee0",
   "metadata": {},
   "outputs": [],
   "source": [
    "def print_topics(model, vectorizer):\n",
    "    topics = []\n",
    "    for idx, topic in enumerate(model.components_):\n",
    "        print(\"Topic %d:\" % (idx))\n",
    "        topic = [(vectorizer.get_feature_names_out()[i], topic[i]) for i in topic.argsort()[:-10 - 1:-1]]\n",
    "        print(topic)\n",
    "        topics.append(topic)\n",
    "    return topics"
   ]
  },
  {
   "cell_type": "code",
   "execution_count": 9,
   "id": "4982e1e0-6b01-4134-aa51-716f240738e0",
   "metadata": {},
   "outputs": [],
   "source": [
    "def graph_topics(topics):\n",
    "    # Calculating the number of rows and columns\n",
    "    num_sets = len(topics)\n",
    "    num_cols = 2  # Number of columns you want\n",
    "    num_rows = -(-num_sets // num_cols)  # Ceiling division to ensure enough rows\n",
    "    \n",
    "    # Plotting each data set\n",
    "    fig, axs = plt.subplots(num_rows, num_cols, figsize=(15, 5*num_rows))\n",
    "    for i, data in enumerate(topics):\n",
    "        row = i // num_cols\n",
    "        col = i % num_cols\n",
    "        labels = [item[0] for item in data]\n",
    "        values = [item[1] for item in data]\n",
    "        axs[row, col].barh(labels, values, color='skyblue')\n",
    "        axs[row, col].set_ylabel('Keywords')\n",
    "        axs[row, col].set_title('Topic {}'.format(i))\n",
    "        axs[row, col].invert_yaxis()\n",
    "    \n",
    "    plt.xlabel('Score')\n",
    "    plt.tight_layout()\n",
    "    plt.show()"
   ]
  },
  {
   "cell_type": "code",
   "execution_count": 30,
   "id": "5e7ae0e1-b3b9-4ec4-9714-e739c9e45749",
   "metadata": {},
   "outputs": [],
   "source": [
    "def lda_model_transform(model, vectorized_documents, original_DF):\n",
    "    document_topic_mixture = model.transform(vectorized_documents)\n",
    "    R, T = document_topic_mixture.shape\n",
    "\n",
    "    #create new column with the topic number\n",
    "    max_indices = np.argmax(document_topic_mixture, axis=1)\n",
    "    new_column = max_indices[:, np.newaxis]\n",
    "    document_topic_mixture_cluster_n = np.concatenate((document_topic_mixture, new_column), axis=1)\n",
    "\n",
    "    #transform the array to DF  \n",
    "    columns = ['topic_{}'.format(i) for i in range(3)] + ['Main_Topic']\n",
    "    df_array = pd.DataFrame(document_topic_mixture_cluster_n, columns=columns)\n",
    "\n",
    "    #merge original DataFrame with this\n",
    "    merged_df = pd.concat([original_DF, df_array], axis=1)\n",
    "\n",
    "    # meed to return the max column\n",
    "    # return document_topic_mixture\n",
    "    # return document_topic_mixture_cluster_n\n",
    "    return merged_df\n",
    "    "
   ]
  },
  {
   "cell_type": "markdown",
   "id": "94573dc6-72d9-4ba1-bf6d-a84e33820706",
   "metadata": {},
   "source": [
    "### Run LDA to see the topics"
   ]
  },
  {
   "cell_type": "code",
   "execution_count": 11,
   "id": "4b66a543-a8ca-4f2d-8c29-5f3b29cb9068",
   "metadata": {},
   "outputs": [],
   "source": [
    "vectorizer = TfidfVectorizer(min_df = 0.10, max_df = 0.9, max_features = 200)\n",
    "\n",
    "vectorized_documents = vectorizer.fit_transform(data['clean_text'])"
   ]
  },
  {
   "cell_type": "code",
   "execution_count": 12,
   "id": "7c73107d-3f55-4c88-89c1-8a57c5c00f87",
   "metadata": {},
   "outputs": [
    {
     "data": {
      "text/plain": [
       "(1199, 156)"
      ]
     },
     "execution_count": 12,
     "metadata": {},
     "output_type": "execute_result"
    }
   ],
   "source": [
    "vectorized_documents.shape"
   ]
  },
  {
   "cell_type": "code",
   "execution_count": 13,
   "id": "4511d54b-9d10-4d1b-93f6-12148c2032b6",
   "metadata": {},
   "outputs": [],
   "source": [
    "model1 = lda_model_fit(3, 100, vectorized_documents)"
   ]
  },
  {
   "cell_type": "code",
   "execution_count": 14,
   "id": "142f98b8-4fd4-4ae5-925a-fa0b740b1484",
   "metadata": {},
   "outputs": [
    {
     "name": "stdout",
     "output_type": "stream",
     "text": [
      "Topic 0:\n",
      "[('team', 77.51784745067656), ('game', 77.15813683950363), ('play', 58.532327156115585), ('hockey', 55.23260700480893), ('go', 53.369307533962456), ('player', 51.31482627152931), ('win', 42.99098505691661), ('get', 42.39611204049453), ('nhl', 39.82967801196302), ('year', 39.467477477796706)]\n",
      "Topic 1:\n",
      "[('university', 32.805573301162376), ('please', 31.768184236411482), ('replyto', 26.83952276335106), ('st', 25.801331303736276), ('thank', 25.61559661370624), ('state', 25.090747734309318), ('post', 24.30305476963541), ('anyone', 23.380704910662534), ('pittsburgh', 15.769344064304457), ('john', 14.606803790486751)]\n",
      "Topic 2:\n",
      "[('god', 92.61047344311937), ('christian', 59.906244086527195), ('people', 49.73295132874696), ('would', 48.600926447527684), ('church', 47.47587436575051), ('jesus', 47.423779218221114), ('say', 47.05711998741401), ('one', 47.01895401481158), ('know', 43.67396025925074), ('believe', 41.8826082195713)]\n"
     ]
    }
   ],
   "source": [
    "topics1 = print_topics(model1, vectorizer)"
   ]
  },
  {
   "cell_type": "code",
   "execution_count": 15,
   "id": "7101f505-a07c-4884-8c27-cd04abe3bc27",
   "metadata": {},
   "outputs": [
    {
     "data": {
      "text/plain": [
       "[[('team', 77.51784745067656),\n",
       "  ('game', 77.15813683950363),\n",
       "  ('play', 58.532327156115585),\n",
       "  ('hockey', 55.23260700480893),\n",
       "  ('go', 53.369307533962456),\n",
       "  ('player', 51.31482627152931),\n",
       "  ('win', 42.99098505691661),\n",
       "  ('get', 42.39611204049453),\n",
       "  ('nhl', 39.82967801196302),\n",
       "  ('year', 39.467477477796706)],\n",
       " [('university', 32.805573301162376),\n",
       "  ('please', 31.768184236411482),\n",
       "  ('replyto', 26.83952276335106),\n",
       "  ('st', 25.801331303736276),\n",
       "  ('thank', 25.61559661370624),\n",
       "  ('state', 25.090747734309318),\n",
       "  ('post', 24.30305476963541),\n",
       "  ('anyone', 23.380704910662534),\n",
       "  ('pittsburgh', 15.769344064304457),\n",
       "  ('john', 14.606803790486751)],\n",
       " [('god', 92.61047344311937),\n",
       "  ('christian', 59.906244086527195),\n",
       "  ('people', 49.73295132874696),\n",
       "  ('would', 48.600926447527684),\n",
       "  ('church', 47.47587436575051),\n",
       "  ('jesus', 47.423779218221114),\n",
       "  ('say', 47.05711998741401),\n",
       "  ('one', 47.01895401481158),\n",
       "  ('know', 43.67396025925074),\n",
       "  ('believe', 41.8826082195713)]]"
      ]
     },
     "execution_count": 15,
     "metadata": {},
     "output_type": "execute_result"
    }
   ],
   "source": [
    "topics1"
   ]
  },
  {
   "cell_type": "code",
   "execution_count": 16,
   "id": "21992b1e-456d-45e6-a971-167d5204ca92",
   "metadata": {},
   "outputs": [],
   "source": [
    "document_topic_mixture = model1.transform(vectorized_documents)"
   ]
  },
  {
   "cell_type": "code",
   "execution_count": 17,
   "id": "f87bfc8c-ced7-4be5-9699-a5d65df2f1e8",
   "metadata": {},
   "outputs": [
    {
     "data": {
      "text/plain": [
       "(1199, 3)"
      ]
     },
     "execution_count": 17,
     "metadata": {},
     "output_type": "execute_result"
    }
   ],
   "source": [
    "document_topic_mixture.shape"
   ]
  },
  {
   "cell_type": "code",
   "execution_count": 18,
   "id": "f6a2d1a8-63a3-4754-a059-73ae9a3cc0c8",
   "metadata": {
    "scrolled": true
   },
   "outputs": [
    {
     "data": {
      "text/plain": [
       "array([[0.79577319, 0.1266178 , 0.07760901],\n",
       "       [0.06053237, 0.06007927, 0.87938836],\n",
       "       [0.0853129 , 0.04997246, 0.86471464],\n",
       "       ...,\n",
       "       [0.10331539, 0.07381553, 0.82286908],\n",
       "       [0.80311021, 0.10189987, 0.09498992],\n",
       "       [0.0647254 , 0.13663547, 0.79863912]])"
      ]
     },
     "execution_count": 18,
     "metadata": {},
     "output_type": "execute_result"
    }
   ],
   "source": [
    "document_topic_mixture"
   ]
  },
  {
   "cell_type": "code",
   "execution_count": 20,
   "id": "7482f048-b0f3-4a45-b99c-d5c359fb08f7",
   "metadata": {},
   "outputs": [
    {
     "data": {
      "text/plain": [
       "array([[0.79577319, 0.1266178 , 0.07760901, 0.        ],\n",
       "       [0.06053237, 0.06007927, 0.87938836, 2.        ],\n",
       "       [0.0853129 , 0.04997246, 0.86471464, 2.        ],\n",
       "       ...,\n",
       "       [0.10331539, 0.07381553, 0.82286908, 2.        ],\n",
       "       [0.80311021, 0.10189987, 0.09498992, 0.        ],\n",
       "       [0.0647254 , 0.13663547, 0.79863912, 2.        ]])"
      ]
     },
     "execution_count": 20,
     "metadata": {},
     "output_type": "execute_result"
    }
   ],
   "source": [
    "max_indices = np.argmax(document_topic_mixture, axis=1)\n",
    "new_column = max_indices[:, np.newaxis]\n",
    "document_topic_mixture_cluster_n = np.concatenate((document_topic_mixture, new_column), axis=1)\n",
    "document_topic_mixture_cluster_n"
   ]
  },
  {
   "cell_type": "code",
   "execution_count": 25,
   "id": "3a5df362-249a-4b21-aae5-47c9f406d78b",
   "metadata": {
    "scrolled": true
   },
   "outputs": [
    {
     "data": {
      "text/html": [
       "<div>\n",
       "<style scoped>\n",
       "    .dataframe tbody tr th:only-of-type {\n",
       "        vertical-align: middle;\n",
       "    }\n",
       "\n",
       "    .dataframe tbody tr th {\n",
       "        vertical-align: top;\n",
       "    }\n",
       "\n",
       "    .dataframe thead th {\n",
       "        text-align: right;\n",
       "    }\n",
       "</style>\n",
       "<table border=\"1\" class=\"dataframe\">\n",
       "  <thead>\n",
       "    <tr style=\"text-align: right;\">\n",
       "      <th></th>\n",
       "      <th>topic_0</th>\n",
       "      <th>topic_1</th>\n",
       "      <th>topic_2</th>\n",
       "      <th>Main_Topic</th>\n",
       "    </tr>\n",
       "  </thead>\n",
       "  <tbody>\n",
       "    <tr>\n",
       "      <th>0</th>\n",
       "      <td>0.795773</td>\n",
       "      <td>0.126618</td>\n",
       "      <td>0.077609</td>\n",
       "      <td>0.0</td>\n",
       "    </tr>\n",
       "    <tr>\n",
       "      <th>1</th>\n",
       "      <td>0.060532</td>\n",
       "      <td>0.060079</td>\n",
       "      <td>0.879388</td>\n",
       "      <td>2.0</td>\n",
       "    </tr>\n",
       "    <tr>\n",
       "      <th>2</th>\n",
       "      <td>0.085313</td>\n",
       "      <td>0.049972</td>\n",
       "      <td>0.864715</td>\n",
       "      <td>2.0</td>\n",
       "    </tr>\n",
       "    <tr>\n",
       "      <th>3</th>\n",
       "      <td>0.076991</td>\n",
       "      <td>0.081946</td>\n",
       "      <td>0.841063</td>\n",
       "      <td>2.0</td>\n",
       "    </tr>\n",
       "    <tr>\n",
       "      <th>4</th>\n",
       "      <td>0.843699</td>\n",
       "      <td>0.083580</td>\n",
       "      <td>0.072721</td>\n",
       "      <td>0.0</td>\n",
       "    </tr>\n",
       "    <tr>\n",
       "      <th>...</th>\n",
       "      <td>...</td>\n",
       "      <td>...</td>\n",
       "      <td>...</td>\n",
       "      <td>...</td>\n",
       "    </tr>\n",
       "    <tr>\n",
       "      <th>1194</th>\n",
       "      <td>0.097756</td>\n",
       "      <td>0.086512</td>\n",
       "      <td>0.815731</td>\n",
       "      <td>2.0</td>\n",
       "    </tr>\n",
       "    <tr>\n",
       "      <th>1195</th>\n",
       "      <td>0.807000</td>\n",
       "      <td>0.073362</td>\n",
       "      <td>0.119638</td>\n",
       "      <td>0.0</td>\n",
       "    </tr>\n",
       "    <tr>\n",
       "      <th>1196</th>\n",
       "      <td>0.103315</td>\n",
       "      <td>0.073816</td>\n",
       "      <td>0.822869</td>\n",
       "      <td>2.0</td>\n",
       "    </tr>\n",
       "    <tr>\n",
       "      <th>1197</th>\n",
       "      <td>0.803110</td>\n",
       "      <td>0.101900</td>\n",
       "      <td>0.094990</td>\n",
       "      <td>0.0</td>\n",
       "    </tr>\n",
       "    <tr>\n",
       "      <th>1198</th>\n",
       "      <td>0.064725</td>\n",
       "      <td>0.136635</td>\n",
       "      <td>0.798639</td>\n",
       "      <td>2.0</td>\n",
       "    </tr>\n",
       "  </tbody>\n",
       "</table>\n",
       "<p>1199 rows × 4 columns</p>\n",
       "</div>"
      ],
      "text/plain": [
       "       topic_0   topic_1   topic_2  Main_Topic\n",
       "0     0.795773  0.126618  0.077609         0.0\n",
       "1     0.060532  0.060079  0.879388         2.0\n",
       "2     0.085313  0.049972  0.864715         2.0\n",
       "3     0.076991  0.081946  0.841063         2.0\n",
       "4     0.843699  0.083580  0.072721         0.0\n",
       "...        ...       ...       ...         ...\n",
       "1194  0.097756  0.086512  0.815731         2.0\n",
       "1195  0.807000  0.073362  0.119638         0.0\n",
       "1196  0.103315  0.073816  0.822869         2.0\n",
       "1197  0.803110  0.101900  0.094990         0.0\n",
       "1198  0.064725  0.136635  0.798639         2.0\n",
       "\n",
       "[1199 rows x 4 columns]"
      ]
     },
     "execution_count": 25,
     "metadata": {},
     "output_type": "execute_result"
    }
   ],
   "source": [
    "columns = ['topic_{}'.format(i) for i in range(3)] + ['Main_Topic']\n",
    "df_array = pd.DataFrame(document_topic_mixture_cluster_n, columns=columns)\n",
    "df_array"
   ]
  },
  {
   "cell_type": "code",
   "execution_count": 27,
   "id": "ed695a5e-9bf7-4dcb-89e6-4b5dca33df6d",
   "metadata": {},
   "outputs": [
    {
     "data": {
      "text/html": [
       "<div>\n",
       "<style scoped>\n",
       "    .dataframe tbody tr th:only-of-type {\n",
       "        vertical-align: middle;\n",
       "    }\n",
       "\n",
       "    .dataframe tbody tr th {\n",
       "        vertical-align: top;\n",
       "    }\n",
       "\n",
       "    .dataframe thead th {\n",
       "        text-align: right;\n",
       "    }\n",
       "</style>\n",
       "<table border=\"1\" class=\"dataframe\">\n",
       "  <thead>\n",
       "    <tr style=\"text-align: right;\">\n",
       "      <th></th>\n",
       "      <th>text</th>\n",
       "      <th>clean_text</th>\n",
       "      <th>topic_0</th>\n",
       "      <th>topic_1</th>\n",
       "      <th>topic_2</th>\n",
       "      <th>Main_Topic</th>\n",
       "    </tr>\n",
       "  </thead>\n",
       "  <tbody>\n",
       "    <tr>\n",
       "      <th>0</th>\n",
       "      <td>From: gld@cunixb.cc.columbia.edu (Gary L Dare)...</td>\n",
       "      <td>gldcunixbcccolumbiaedu gary l dare subject sta...</td>\n",
       "      <td>0.795773</td>\n",
       "      <td>0.126618</td>\n",
       "      <td>0.077609</td>\n",
       "      <td>0.0</td>\n",
       "    </tr>\n",
       "    <tr>\n",
       "      <th>1</th>\n",
       "      <td>From: atterlep@vela.acs.oakland.edu (Cardinal ...</td>\n",
       "      <td>atterlepvelaacsoaklandedu cardinal ximenez sub...</td>\n",
       "      <td>0.060532</td>\n",
       "      <td>0.060079</td>\n",
       "      <td>0.879388</td>\n",
       "      <td>2.0</td>\n",
       "    </tr>\n",
       "    <tr>\n",
       "      <th>2</th>\n",
       "      <td>From: miner@kuhub.cc.ukans.edu\\nSubject: Re: A...</td>\n",
       "      <td>minerkuhubccukansedu subject ancient book orga...</td>\n",
       "      <td>0.085313</td>\n",
       "      <td>0.049972</td>\n",
       "      <td>0.864715</td>\n",
       "      <td>2.0</td>\n",
       "    </tr>\n",
       "    <tr>\n",
       "      <th>3</th>\n",
       "      <td>From: atterlep@vela.acs.oakland.edu (Cardinal ...</td>\n",
       "      <td>atterlepvelaacsoaklandedu cardinal ximenez sub...</td>\n",
       "      <td>0.076991</td>\n",
       "      <td>0.081946</td>\n",
       "      <td>0.841063</td>\n",
       "      <td>2.0</td>\n",
       "    </tr>\n",
       "    <tr>\n",
       "      <th>4</th>\n",
       "      <td>From: vzhivov@superior.carleton.ca (Vladimir Z...</td>\n",
       "      <td>vzhivovsuperiorcarletonca vladimir zhivov subj...</td>\n",
       "      <td>0.843699</td>\n",
       "      <td>0.083580</td>\n",
       "      <td>0.072721</td>\n",
       "      <td>0.0</td>\n",
       "    </tr>\n",
       "    <tr>\n",
       "      <th>...</th>\n",
       "      <td>...</td>\n",
       "      <td>...</td>\n",
       "      <td>...</td>\n",
       "      <td>...</td>\n",
       "      <td>...</td>\n",
       "      <td>...</td>\n",
       "    </tr>\n",
       "    <tr>\n",
       "      <th>1194</th>\n",
       "      <td>From: jerryb@eskimo.com (Jerry Kaufman)\\nSubje...</td>\n",
       "      <td>jerrybeskimocom jerry kaufman subject prayer a...</td>\n",
       "      <td>0.097756</td>\n",
       "      <td>0.086512</td>\n",
       "      <td>0.815731</td>\n",
       "      <td>2.0</td>\n",
       "    </tr>\n",
       "    <tr>\n",
       "      <th>1195</th>\n",
       "      <td>From: golchowy@alchemy.chem.utoronto.ca (Geral...</td>\n",
       "      <td>golchowyalchemychemutorontoca gerald olchowy s...</td>\n",
       "      <td>0.807000</td>\n",
       "      <td>0.073362</td>\n",
       "      <td>0.119638</td>\n",
       "      <td>0.0</td>\n",
       "    </tr>\n",
       "    <tr>\n",
       "      <th>1196</th>\n",
       "      <td>From: jayne@mmalt.guild.org (Jayne Kulikauskas...</td>\n",
       "      <td>jaynemmaltguildorg jayne kulikauskas subject q...</td>\n",
       "      <td>0.103315</td>\n",
       "      <td>0.073816</td>\n",
       "      <td>0.822869</td>\n",
       "      <td>2.0</td>\n",
       "    </tr>\n",
       "    <tr>\n",
       "      <th>1197</th>\n",
       "      <td>From: sclark@epas.utoronto.ca (Susan Clark)\\nS...</td>\n",
       "      <td>sclarkepasutorontoca susan clark subject pick ...</td>\n",
       "      <td>0.803110</td>\n",
       "      <td>0.101900</td>\n",
       "      <td>0.094990</td>\n",
       "      <td>0.0</td>\n",
       "    </tr>\n",
       "    <tr>\n",
       "      <th>1198</th>\n",
       "      <td>From: lmvec@westminster.ac.uk (William Hargrea...</td>\n",
       "      <td>lmvecwestminsteracuk william hargreaves subjec...</td>\n",
       "      <td>0.064725</td>\n",
       "      <td>0.136635</td>\n",
       "      <td>0.798639</td>\n",
       "      <td>2.0</td>\n",
       "    </tr>\n",
       "  </tbody>\n",
       "</table>\n",
       "<p>1199 rows × 6 columns</p>\n",
       "</div>"
      ],
      "text/plain": [
       "                                                   text  \\\n",
       "0     From: gld@cunixb.cc.columbia.edu (Gary L Dare)...   \n",
       "1     From: atterlep@vela.acs.oakland.edu (Cardinal ...   \n",
       "2     From: miner@kuhub.cc.ukans.edu\\nSubject: Re: A...   \n",
       "3     From: atterlep@vela.acs.oakland.edu (Cardinal ...   \n",
       "4     From: vzhivov@superior.carleton.ca (Vladimir Z...   \n",
       "...                                                 ...   \n",
       "1194  From: jerryb@eskimo.com (Jerry Kaufman)\\nSubje...   \n",
       "1195  From: golchowy@alchemy.chem.utoronto.ca (Geral...   \n",
       "1196  From: jayne@mmalt.guild.org (Jayne Kulikauskas...   \n",
       "1197  From: sclark@epas.utoronto.ca (Susan Clark)\\nS...   \n",
       "1198  From: lmvec@westminster.ac.uk (William Hargrea...   \n",
       "\n",
       "                                             clean_text   topic_0   topic_1  \\\n",
       "0     gldcunixbcccolumbiaedu gary l dare subject sta...  0.795773  0.126618   \n",
       "1     atterlepvelaacsoaklandedu cardinal ximenez sub...  0.060532  0.060079   \n",
       "2     minerkuhubccukansedu subject ancient book orga...  0.085313  0.049972   \n",
       "3     atterlepvelaacsoaklandedu cardinal ximenez sub...  0.076991  0.081946   \n",
       "4     vzhivovsuperiorcarletonca vladimir zhivov subj...  0.843699  0.083580   \n",
       "...                                                 ...       ...       ...   \n",
       "1194  jerrybeskimocom jerry kaufman subject prayer a...  0.097756  0.086512   \n",
       "1195  golchowyalchemychemutorontoca gerald olchowy s...  0.807000  0.073362   \n",
       "1196  jaynemmaltguildorg jayne kulikauskas subject q...  0.103315  0.073816   \n",
       "1197  sclarkepasutorontoca susan clark subject pick ...  0.803110  0.101900   \n",
       "1198  lmvecwestminsteracuk william hargreaves subjec...  0.064725  0.136635   \n",
       "\n",
       "       topic_2  Main_Topic  \n",
       "0     0.077609         0.0  \n",
       "1     0.879388         2.0  \n",
       "2     0.864715         2.0  \n",
       "3     0.841063         2.0  \n",
       "4     0.072721         0.0  \n",
       "...        ...         ...  \n",
       "1194  0.815731         2.0  \n",
       "1195  0.119638         0.0  \n",
       "1196  0.822869         2.0  \n",
       "1197  0.094990         0.0  \n",
       "1198  0.798639         2.0  \n",
       "\n",
       "[1199 rows x 6 columns]"
      ]
     },
     "execution_count": 27,
     "metadata": {},
     "output_type": "execute_result"
    }
   ],
   "source": [
    "merged_df = pd.concat([data, df_array], axis=1)\n",
    "merged_df"
   ]
  },
  {
   "cell_type": "code",
   "execution_count": null,
   "id": "0e493b2c-5ca8-4423-9476-02f7da76c5c9",
   "metadata": {},
   "outputs": [],
   "source": []
  },
  {
   "cell_type": "code",
   "execution_count": 21,
   "id": "26a3a7aa-2388-4c4e-bf6a-f0fa653b17bb",
   "metadata": {},
   "outputs": [
    {
     "data": {
      "text/plain": [
       "(1199, 4)"
      ]
     },
     "execution_count": 21,
     "metadata": {},
     "output_type": "execute_result"
    }
   ],
   "source": [
    "document_topic_mixture_cluster_n.shape"
   ]
  },
  {
   "cell_type": "code",
   "execution_count": 31,
   "id": "d4fa8778-d627-406b-93b7-84ae241e0b4d",
   "metadata": {},
   "outputs": [],
   "source": [
    "document_topic_mixture_cluster_n_1 = lda_model_transform(model1, vectorized_documents, data)"
   ]
  },
  {
   "cell_type": "code",
   "execution_count": 32,
   "id": "057c057f-4397-4445-94a1-8f8401df23c0",
   "metadata": {},
   "outputs": [
    {
     "data": {
      "text/html": [
       "<div>\n",
       "<style scoped>\n",
       "    .dataframe tbody tr th:only-of-type {\n",
       "        vertical-align: middle;\n",
       "    }\n",
       "\n",
       "    .dataframe tbody tr th {\n",
       "        vertical-align: top;\n",
       "    }\n",
       "\n",
       "    .dataframe thead th {\n",
       "        text-align: right;\n",
       "    }\n",
       "</style>\n",
       "<table border=\"1\" class=\"dataframe\">\n",
       "  <thead>\n",
       "    <tr style=\"text-align: right;\">\n",
       "      <th></th>\n",
       "      <th>text</th>\n",
       "      <th>clean_text</th>\n",
       "      <th>topic_0</th>\n",
       "      <th>topic_1</th>\n",
       "      <th>topic_2</th>\n",
       "      <th>Main_Topic</th>\n",
       "    </tr>\n",
       "  </thead>\n",
       "  <tbody>\n",
       "    <tr>\n",
       "      <th>0</th>\n",
       "      <td>From: gld@cunixb.cc.columbia.edu (Gary L Dare)...</td>\n",
       "      <td>gldcunixbcccolumbiaedu gary l dare subject sta...</td>\n",
       "      <td>0.795773</td>\n",
       "      <td>0.126618</td>\n",
       "      <td>0.077609</td>\n",
       "      <td>0.0</td>\n",
       "    </tr>\n",
       "    <tr>\n",
       "      <th>1</th>\n",
       "      <td>From: atterlep@vela.acs.oakland.edu (Cardinal ...</td>\n",
       "      <td>atterlepvelaacsoaklandedu cardinal ximenez sub...</td>\n",
       "      <td>0.060532</td>\n",
       "      <td>0.060079</td>\n",
       "      <td>0.879388</td>\n",
       "      <td>2.0</td>\n",
       "    </tr>\n",
       "    <tr>\n",
       "      <th>2</th>\n",
       "      <td>From: miner@kuhub.cc.ukans.edu\\nSubject: Re: A...</td>\n",
       "      <td>minerkuhubccukansedu subject ancient book orga...</td>\n",
       "      <td>0.085313</td>\n",
       "      <td>0.049972</td>\n",
       "      <td>0.864715</td>\n",
       "      <td>2.0</td>\n",
       "    </tr>\n",
       "    <tr>\n",
       "      <th>3</th>\n",
       "      <td>From: atterlep@vela.acs.oakland.edu (Cardinal ...</td>\n",
       "      <td>atterlepvelaacsoaklandedu cardinal ximenez sub...</td>\n",
       "      <td>0.076991</td>\n",
       "      <td>0.081946</td>\n",
       "      <td>0.841063</td>\n",
       "      <td>2.0</td>\n",
       "    </tr>\n",
       "    <tr>\n",
       "      <th>4</th>\n",
       "      <td>From: vzhivov@superior.carleton.ca (Vladimir Z...</td>\n",
       "      <td>vzhivovsuperiorcarletonca vladimir zhivov subj...</td>\n",
       "      <td>0.843699</td>\n",
       "      <td>0.083580</td>\n",
       "      <td>0.072721</td>\n",
       "      <td>0.0</td>\n",
       "    </tr>\n",
       "    <tr>\n",
       "      <th>...</th>\n",
       "      <td>...</td>\n",
       "      <td>...</td>\n",
       "      <td>...</td>\n",
       "      <td>...</td>\n",
       "      <td>...</td>\n",
       "      <td>...</td>\n",
       "    </tr>\n",
       "    <tr>\n",
       "      <th>1194</th>\n",
       "      <td>From: jerryb@eskimo.com (Jerry Kaufman)\\nSubje...</td>\n",
       "      <td>jerrybeskimocom jerry kaufman subject prayer a...</td>\n",
       "      <td>0.097756</td>\n",
       "      <td>0.086512</td>\n",
       "      <td>0.815731</td>\n",
       "      <td>2.0</td>\n",
       "    </tr>\n",
       "    <tr>\n",
       "      <th>1195</th>\n",
       "      <td>From: golchowy@alchemy.chem.utoronto.ca (Geral...</td>\n",
       "      <td>golchowyalchemychemutorontoca gerald olchowy s...</td>\n",
       "      <td>0.807000</td>\n",
       "      <td>0.073362</td>\n",
       "      <td>0.119638</td>\n",
       "      <td>0.0</td>\n",
       "    </tr>\n",
       "    <tr>\n",
       "      <th>1196</th>\n",
       "      <td>From: jayne@mmalt.guild.org (Jayne Kulikauskas...</td>\n",
       "      <td>jaynemmaltguildorg jayne kulikauskas subject q...</td>\n",
       "      <td>0.103315</td>\n",
       "      <td>0.073816</td>\n",
       "      <td>0.822869</td>\n",
       "      <td>2.0</td>\n",
       "    </tr>\n",
       "    <tr>\n",
       "      <th>1197</th>\n",
       "      <td>From: sclark@epas.utoronto.ca (Susan Clark)\\nS...</td>\n",
       "      <td>sclarkepasutorontoca susan clark subject pick ...</td>\n",
       "      <td>0.803110</td>\n",
       "      <td>0.101900</td>\n",
       "      <td>0.094990</td>\n",
       "      <td>0.0</td>\n",
       "    </tr>\n",
       "    <tr>\n",
       "      <th>1198</th>\n",
       "      <td>From: lmvec@westminster.ac.uk (William Hargrea...</td>\n",
       "      <td>lmvecwestminsteracuk william hargreaves subjec...</td>\n",
       "      <td>0.064725</td>\n",
       "      <td>0.136635</td>\n",
       "      <td>0.798639</td>\n",
       "      <td>2.0</td>\n",
       "    </tr>\n",
       "  </tbody>\n",
       "</table>\n",
       "<p>1199 rows × 6 columns</p>\n",
       "</div>"
      ],
      "text/plain": [
       "                                                   text  \\\n",
       "0     From: gld@cunixb.cc.columbia.edu (Gary L Dare)...   \n",
       "1     From: atterlep@vela.acs.oakland.edu (Cardinal ...   \n",
       "2     From: miner@kuhub.cc.ukans.edu\\nSubject: Re: A...   \n",
       "3     From: atterlep@vela.acs.oakland.edu (Cardinal ...   \n",
       "4     From: vzhivov@superior.carleton.ca (Vladimir Z...   \n",
       "...                                                 ...   \n",
       "1194  From: jerryb@eskimo.com (Jerry Kaufman)\\nSubje...   \n",
       "1195  From: golchowy@alchemy.chem.utoronto.ca (Geral...   \n",
       "1196  From: jayne@mmalt.guild.org (Jayne Kulikauskas...   \n",
       "1197  From: sclark@epas.utoronto.ca (Susan Clark)\\nS...   \n",
       "1198  From: lmvec@westminster.ac.uk (William Hargrea...   \n",
       "\n",
       "                                             clean_text   topic_0   topic_1  \\\n",
       "0     gldcunixbcccolumbiaedu gary l dare subject sta...  0.795773  0.126618   \n",
       "1     atterlepvelaacsoaklandedu cardinal ximenez sub...  0.060532  0.060079   \n",
       "2     minerkuhubccukansedu subject ancient book orga...  0.085313  0.049972   \n",
       "3     atterlepvelaacsoaklandedu cardinal ximenez sub...  0.076991  0.081946   \n",
       "4     vzhivovsuperiorcarletonca vladimir zhivov subj...  0.843699  0.083580   \n",
       "...                                                 ...       ...       ...   \n",
       "1194  jerrybeskimocom jerry kaufman subject prayer a...  0.097756  0.086512   \n",
       "1195  golchowyalchemychemutorontoca gerald olchowy s...  0.807000  0.073362   \n",
       "1196  jaynemmaltguildorg jayne kulikauskas subject q...  0.103315  0.073816   \n",
       "1197  sclarkepasutorontoca susan clark subject pick ...  0.803110  0.101900   \n",
       "1198  lmvecwestminsteracuk william hargreaves subjec...  0.064725  0.136635   \n",
       "\n",
       "       topic_2  Main_Topic  \n",
       "0     0.077609         0.0  \n",
       "1     0.879388         2.0  \n",
       "2     0.864715         2.0  \n",
       "3     0.841063         2.0  \n",
       "4     0.072721         0.0  \n",
       "...        ...         ...  \n",
       "1194  0.815731         2.0  \n",
       "1195  0.119638         0.0  \n",
       "1196  0.822869         2.0  \n",
       "1197  0.094990         0.0  \n",
       "1198  0.798639         2.0  \n",
       "\n",
       "[1199 rows x 6 columns]"
      ]
     },
     "execution_count": 32,
     "metadata": {},
     "output_type": "execute_result"
    }
   ],
   "source": [
    "document_topic_mixture_cluster_n_1"
   ]
  },
  {
   "cell_type": "code",
   "execution_count": 11,
   "id": "f9457259-b991-4dcb-bd60-e82d5e7ff7a2",
   "metadata": {},
   "outputs": [
    {
     "data": {
      "text/html": [
       "<style>#sk-container-id-1 {\n",
       "  /* Definition of color scheme common for light and dark mode */\n",
       "  --sklearn-color-text: black;\n",
       "  --sklearn-color-line: gray;\n",
       "  /* Definition of color scheme for unfitted estimators */\n",
       "  --sklearn-color-unfitted-level-0: #fff5e6;\n",
       "  --sklearn-color-unfitted-level-1: #f6e4d2;\n",
       "  --sklearn-color-unfitted-level-2: #ffe0b3;\n",
       "  --sklearn-color-unfitted-level-3: chocolate;\n",
       "  /* Definition of color scheme for fitted estimators */\n",
       "  --sklearn-color-fitted-level-0: #f0f8ff;\n",
       "  --sklearn-color-fitted-level-1: #d4ebff;\n",
       "  --sklearn-color-fitted-level-2: #b3dbfd;\n",
       "  --sklearn-color-fitted-level-3: cornflowerblue;\n",
       "\n",
       "  /* Specific color for light theme */\n",
       "  --sklearn-color-text-on-default-background: var(--sg-text-color, var(--theme-code-foreground, var(--jp-content-font-color1, black)));\n",
       "  --sklearn-color-background: var(--sg-background-color, var(--theme-background, var(--jp-layout-color0, white)));\n",
       "  --sklearn-color-border-box: var(--sg-text-color, var(--theme-code-foreground, var(--jp-content-font-color1, black)));\n",
       "  --sklearn-color-icon: #696969;\n",
       "\n",
       "  @media (prefers-color-scheme: dark) {\n",
       "    /* Redefinition of color scheme for dark theme */\n",
       "    --sklearn-color-text-on-default-background: var(--sg-text-color, var(--theme-code-foreground, var(--jp-content-font-color1, white)));\n",
       "    --sklearn-color-background: var(--sg-background-color, var(--theme-background, var(--jp-layout-color0, #111)));\n",
       "    --sklearn-color-border-box: var(--sg-text-color, var(--theme-code-foreground, var(--jp-content-font-color1, white)));\n",
       "    --sklearn-color-icon: #878787;\n",
       "  }\n",
       "}\n",
       "\n",
       "#sk-container-id-1 {\n",
       "  color: var(--sklearn-color-text);\n",
       "}\n",
       "\n",
       "#sk-container-id-1 pre {\n",
       "  padding: 0;\n",
       "}\n",
       "\n",
       "#sk-container-id-1 input.sk-hidden--visually {\n",
       "  border: 0;\n",
       "  clip: rect(1px 1px 1px 1px);\n",
       "  clip: rect(1px, 1px, 1px, 1px);\n",
       "  height: 1px;\n",
       "  margin: -1px;\n",
       "  overflow: hidden;\n",
       "  padding: 0;\n",
       "  position: absolute;\n",
       "  width: 1px;\n",
       "}\n",
       "\n",
       "#sk-container-id-1 div.sk-dashed-wrapped {\n",
       "  border: 1px dashed var(--sklearn-color-line);\n",
       "  margin: 0 0.4em 0.5em 0.4em;\n",
       "  box-sizing: border-box;\n",
       "  padding-bottom: 0.4em;\n",
       "  background-color: var(--sklearn-color-background);\n",
       "}\n",
       "\n",
       "#sk-container-id-1 div.sk-container {\n",
       "  /* jupyter's `normalize.less` sets `[hidden] { display: none; }`\n",
       "     but bootstrap.min.css set `[hidden] { display: none !important; }`\n",
       "     so we also need the `!important` here to be able to override the\n",
       "     default hidden behavior on the sphinx rendered scikit-learn.org.\n",
       "     See: https://github.com/scikit-learn/scikit-learn/issues/21755 */\n",
       "  display: inline-block !important;\n",
       "  position: relative;\n",
       "}\n",
       "\n",
       "#sk-container-id-1 div.sk-text-repr-fallback {\n",
       "  display: none;\n",
       "}\n",
       "\n",
       "div.sk-parallel-item,\n",
       "div.sk-serial,\n",
       "div.sk-item {\n",
       "  /* draw centered vertical line to link estimators */\n",
       "  background-image: linear-gradient(var(--sklearn-color-text-on-default-background), var(--sklearn-color-text-on-default-background));\n",
       "  background-size: 2px 100%;\n",
       "  background-repeat: no-repeat;\n",
       "  background-position: center center;\n",
       "}\n",
       "\n",
       "/* Parallel-specific style estimator block */\n",
       "\n",
       "#sk-container-id-1 div.sk-parallel-item::after {\n",
       "  content: \"\";\n",
       "  width: 100%;\n",
       "  border-bottom: 2px solid var(--sklearn-color-text-on-default-background);\n",
       "  flex-grow: 1;\n",
       "}\n",
       "\n",
       "#sk-container-id-1 div.sk-parallel {\n",
       "  display: flex;\n",
       "  align-items: stretch;\n",
       "  justify-content: center;\n",
       "  background-color: var(--sklearn-color-background);\n",
       "  position: relative;\n",
       "}\n",
       "\n",
       "#sk-container-id-1 div.sk-parallel-item {\n",
       "  display: flex;\n",
       "  flex-direction: column;\n",
       "}\n",
       "\n",
       "#sk-container-id-1 div.sk-parallel-item:first-child::after {\n",
       "  align-self: flex-end;\n",
       "  width: 50%;\n",
       "}\n",
       "\n",
       "#sk-container-id-1 div.sk-parallel-item:last-child::after {\n",
       "  align-self: flex-start;\n",
       "  width: 50%;\n",
       "}\n",
       "\n",
       "#sk-container-id-1 div.sk-parallel-item:only-child::after {\n",
       "  width: 0;\n",
       "}\n",
       "\n",
       "/* Serial-specific style estimator block */\n",
       "\n",
       "#sk-container-id-1 div.sk-serial {\n",
       "  display: flex;\n",
       "  flex-direction: column;\n",
       "  align-items: center;\n",
       "  background-color: var(--sklearn-color-background);\n",
       "  padding-right: 1em;\n",
       "  padding-left: 1em;\n",
       "}\n",
       "\n",
       "\n",
       "/* Toggleable style: style used for estimator/Pipeline/ColumnTransformer box that is\n",
       "clickable and can be expanded/collapsed.\n",
       "- Pipeline and ColumnTransformer use this feature and define the default style\n",
       "- Estimators will overwrite some part of the style using the `sk-estimator` class\n",
       "*/\n",
       "\n",
       "/* Pipeline and ColumnTransformer style (default) */\n",
       "\n",
       "#sk-container-id-1 div.sk-toggleable {\n",
       "  /* Default theme specific background. It is overwritten whether we have a\n",
       "  specific estimator or a Pipeline/ColumnTransformer */\n",
       "  background-color: var(--sklearn-color-background);\n",
       "}\n",
       "\n",
       "/* Toggleable label */\n",
       "#sk-container-id-1 label.sk-toggleable__label {\n",
       "  cursor: pointer;\n",
       "  display: block;\n",
       "  width: 100%;\n",
       "  margin-bottom: 0;\n",
       "  padding: 0.5em;\n",
       "  box-sizing: border-box;\n",
       "  text-align: center;\n",
       "}\n",
       "\n",
       "#sk-container-id-1 label.sk-toggleable__label-arrow:before {\n",
       "  /* Arrow on the left of the label */\n",
       "  content: \"▸\";\n",
       "  float: left;\n",
       "  margin-right: 0.25em;\n",
       "  color: var(--sklearn-color-icon);\n",
       "}\n",
       "\n",
       "#sk-container-id-1 label.sk-toggleable__label-arrow:hover:before {\n",
       "  color: var(--sklearn-color-text);\n",
       "}\n",
       "\n",
       "/* Toggleable content - dropdown */\n",
       "\n",
       "#sk-container-id-1 div.sk-toggleable__content {\n",
       "  max-height: 0;\n",
       "  max-width: 0;\n",
       "  overflow: hidden;\n",
       "  text-align: left;\n",
       "  /* unfitted */\n",
       "  background-color: var(--sklearn-color-unfitted-level-0);\n",
       "}\n",
       "\n",
       "#sk-container-id-1 div.sk-toggleable__content.fitted {\n",
       "  /* fitted */\n",
       "  background-color: var(--sklearn-color-fitted-level-0);\n",
       "}\n",
       "\n",
       "#sk-container-id-1 div.sk-toggleable__content pre {\n",
       "  margin: 0.2em;\n",
       "  border-radius: 0.25em;\n",
       "  color: var(--sklearn-color-text);\n",
       "  /* unfitted */\n",
       "  background-color: var(--sklearn-color-unfitted-level-0);\n",
       "}\n",
       "\n",
       "#sk-container-id-1 div.sk-toggleable__content.fitted pre {\n",
       "  /* unfitted */\n",
       "  background-color: var(--sklearn-color-fitted-level-0);\n",
       "}\n",
       "\n",
       "#sk-container-id-1 input.sk-toggleable__control:checked~div.sk-toggleable__content {\n",
       "  /* Expand drop-down */\n",
       "  max-height: 200px;\n",
       "  max-width: 100%;\n",
       "  overflow: auto;\n",
       "}\n",
       "\n",
       "#sk-container-id-1 input.sk-toggleable__control:checked~label.sk-toggleable__label-arrow:before {\n",
       "  content: \"▾\";\n",
       "}\n",
       "\n",
       "/* Pipeline/ColumnTransformer-specific style */\n",
       "\n",
       "#sk-container-id-1 div.sk-label input.sk-toggleable__control:checked~label.sk-toggleable__label {\n",
       "  color: var(--sklearn-color-text);\n",
       "  background-color: var(--sklearn-color-unfitted-level-2);\n",
       "}\n",
       "\n",
       "#sk-container-id-1 div.sk-label.fitted input.sk-toggleable__control:checked~label.sk-toggleable__label {\n",
       "  background-color: var(--sklearn-color-fitted-level-2);\n",
       "}\n",
       "\n",
       "/* Estimator-specific style */\n",
       "\n",
       "/* Colorize estimator box */\n",
       "#sk-container-id-1 div.sk-estimator input.sk-toggleable__control:checked~label.sk-toggleable__label {\n",
       "  /* unfitted */\n",
       "  background-color: var(--sklearn-color-unfitted-level-2);\n",
       "}\n",
       "\n",
       "#sk-container-id-1 div.sk-estimator.fitted input.sk-toggleable__control:checked~label.sk-toggleable__label {\n",
       "  /* fitted */\n",
       "  background-color: var(--sklearn-color-fitted-level-2);\n",
       "}\n",
       "\n",
       "#sk-container-id-1 div.sk-label label.sk-toggleable__label,\n",
       "#sk-container-id-1 div.sk-label label {\n",
       "  /* The background is the default theme color */\n",
       "  color: var(--sklearn-color-text-on-default-background);\n",
       "}\n",
       "\n",
       "/* On hover, darken the color of the background */\n",
       "#sk-container-id-1 div.sk-label:hover label.sk-toggleable__label {\n",
       "  color: var(--sklearn-color-text);\n",
       "  background-color: var(--sklearn-color-unfitted-level-2);\n",
       "}\n",
       "\n",
       "/* Label box, darken color on hover, fitted */\n",
       "#sk-container-id-1 div.sk-label.fitted:hover label.sk-toggleable__label.fitted {\n",
       "  color: var(--sklearn-color-text);\n",
       "  background-color: var(--sklearn-color-fitted-level-2);\n",
       "}\n",
       "\n",
       "/* Estimator label */\n",
       "\n",
       "#sk-container-id-1 div.sk-label label {\n",
       "  font-family: monospace;\n",
       "  font-weight: bold;\n",
       "  display: inline-block;\n",
       "  line-height: 1.2em;\n",
       "}\n",
       "\n",
       "#sk-container-id-1 div.sk-label-container {\n",
       "  text-align: center;\n",
       "}\n",
       "\n",
       "/* Estimator-specific */\n",
       "#sk-container-id-1 div.sk-estimator {\n",
       "  font-family: monospace;\n",
       "  border: 1px dotted var(--sklearn-color-border-box);\n",
       "  border-radius: 0.25em;\n",
       "  box-sizing: border-box;\n",
       "  margin-bottom: 0.5em;\n",
       "  /* unfitted */\n",
       "  background-color: var(--sklearn-color-unfitted-level-0);\n",
       "}\n",
       "\n",
       "#sk-container-id-1 div.sk-estimator.fitted {\n",
       "  /* fitted */\n",
       "  background-color: var(--sklearn-color-fitted-level-0);\n",
       "}\n",
       "\n",
       "/* on hover */\n",
       "#sk-container-id-1 div.sk-estimator:hover {\n",
       "  /* unfitted */\n",
       "  background-color: var(--sklearn-color-unfitted-level-2);\n",
       "}\n",
       "\n",
       "#sk-container-id-1 div.sk-estimator.fitted:hover {\n",
       "  /* fitted */\n",
       "  background-color: var(--sklearn-color-fitted-level-2);\n",
       "}\n",
       "\n",
       "/* Specification for estimator info (e.g. \"i\" and \"?\") */\n",
       "\n",
       "/* Common style for \"i\" and \"?\" */\n",
       "\n",
       ".sk-estimator-doc-link,\n",
       "a:link.sk-estimator-doc-link,\n",
       "a:visited.sk-estimator-doc-link {\n",
       "  float: right;\n",
       "  font-size: smaller;\n",
       "  line-height: 1em;\n",
       "  font-family: monospace;\n",
       "  background-color: var(--sklearn-color-background);\n",
       "  border-radius: 1em;\n",
       "  height: 1em;\n",
       "  width: 1em;\n",
       "  text-decoration: none !important;\n",
       "  margin-left: 1ex;\n",
       "  /* unfitted */\n",
       "  border: var(--sklearn-color-unfitted-level-1) 1pt solid;\n",
       "  color: var(--sklearn-color-unfitted-level-1);\n",
       "}\n",
       "\n",
       ".sk-estimator-doc-link.fitted,\n",
       "a:link.sk-estimator-doc-link.fitted,\n",
       "a:visited.sk-estimator-doc-link.fitted {\n",
       "  /* fitted */\n",
       "  border: var(--sklearn-color-fitted-level-1) 1pt solid;\n",
       "  color: var(--sklearn-color-fitted-level-1);\n",
       "}\n",
       "\n",
       "/* On hover */\n",
       "div.sk-estimator:hover .sk-estimator-doc-link:hover,\n",
       ".sk-estimator-doc-link:hover,\n",
       "div.sk-label-container:hover .sk-estimator-doc-link:hover,\n",
       ".sk-estimator-doc-link:hover {\n",
       "  /* unfitted */\n",
       "  background-color: var(--sklearn-color-unfitted-level-3);\n",
       "  color: var(--sklearn-color-background);\n",
       "  text-decoration: none;\n",
       "}\n",
       "\n",
       "div.sk-estimator.fitted:hover .sk-estimator-doc-link.fitted:hover,\n",
       ".sk-estimator-doc-link.fitted:hover,\n",
       "div.sk-label-container:hover .sk-estimator-doc-link.fitted:hover,\n",
       ".sk-estimator-doc-link.fitted:hover {\n",
       "  /* fitted */\n",
       "  background-color: var(--sklearn-color-fitted-level-3);\n",
       "  color: var(--sklearn-color-background);\n",
       "  text-decoration: none;\n",
       "}\n",
       "\n",
       "/* Span, style for the box shown on hovering the info icon */\n",
       ".sk-estimator-doc-link span {\n",
       "  display: none;\n",
       "  z-index: 9999;\n",
       "  position: relative;\n",
       "  font-weight: normal;\n",
       "  right: .2ex;\n",
       "  padding: .5ex;\n",
       "  margin: .5ex;\n",
       "  width: min-content;\n",
       "  min-width: 20ex;\n",
       "  max-width: 50ex;\n",
       "  color: var(--sklearn-color-text);\n",
       "  box-shadow: 2pt 2pt 4pt #999;\n",
       "  /* unfitted */\n",
       "  background: var(--sklearn-color-unfitted-level-0);\n",
       "  border: .5pt solid var(--sklearn-color-unfitted-level-3);\n",
       "}\n",
       "\n",
       ".sk-estimator-doc-link.fitted span {\n",
       "  /* fitted */\n",
       "  background: var(--sklearn-color-fitted-level-0);\n",
       "  border: var(--sklearn-color-fitted-level-3);\n",
       "}\n",
       "\n",
       ".sk-estimator-doc-link:hover span {\n",
       "  display: block;\n",
       "}\n",
       "\n",
       "/* \"?\"-specific style due to the `<a>` HTML tag */\n",
       "\n",
       "#sk-container-id-1 a.estimator_doc_link {\n",
       "  float: right;\n",
       "  font-size: 1rem;\n",
       "  line-height: 1em;\n",
       "  font-family: monospace;\n",
       "  background-color: var(--sklearn-color-background);\n",
       "  border-radius: 1rem;\n",
       "  height: 1rem;\n",
       "  width: 1rem;\n",
       "  text-decoration: none;\n",
       "  /* unfitted */\n",
       "  color: var(--sklearn-color-unfitted-level-1);\n",
       "  border: var(--sklearn-color-unfitted-level-1) 1pt solid;\n",
       "}\n",
       "\n",
       "#sk-container-id-1 a.estimator_doc_link.fitted {\n",
       "  /* fitted */\n",
       "  border: var(--sklearn-color-fitted-level-1) 1pt solid;\n",
       "  color: var(--sklearn-color-fitted-level-1);\n",
       "}\n",
       "\n",
       "/* On hover */\n",
       "#sk-container-id-1 a.estimator_doc_link:hover {\n",
       "  /* unfitted */\n",
       "  background-color: var(--sklearn-color-unfitted-level-3);\n",
       "  color: var(--sklearn-color-background);\n",
       "  text-decoration: none;\n",
       "}\n",
       "\n",
       "#sk-container-id-1 a.estimator_doc_link.fitted:hover {\n",
       "  /* fitted */\n",
       "  background-color: var(--sklearn-color-fitted-level-3);\n",
       "}\n",
       "</style><div id=\"sk-container-id-1\" class=\"sk-top-container\"><div class=\"sk-text-repr-fallback\"><pre>LatentDirichletAllocation(max_iter=100, n_components=5)</pre><b>In a Jupyter environment, please rerun this cell to show the HTML representation or trust the notebook. <br />On GitHub, the HTML representation is unable to render, please try loading this page with nbviewer.org.</b></div><div class=\"sk-container\" hidden><div class=\"sk-item\"><div class=\"sk-estimator fitted sk-toggleable\"><input class=\"sk-toggleable__control sk-hidden--visually\" id=\"sk-estimator-id-1\" type=\"checkbox\" checked><label for=\"sk-estimator-id-1\" class=\"sk-toggleable__label fitted sk-toggleable__label-arrow fitted\">&nbsp;&nbsp;LatentDirichletAllocation<a class=\"sk-estimator-doc-link fitted\" rel=\"noreferrer\" target=\"_blank\" href=\"https://scikit-learn.org/1.4/modules/generated/sklearn.decomposition.LatentDirichletAllocation.html\">?<span>Documentation for LatentDirichletAllocation</span></a><span class=\"sk-estimator-doc-link fitted\">i<span>Fitted</span></span></label><div class=\"sk-toggleable__content fitted\"><pre>LatentDirichletAllocation(max_iter=100, n_components=5)</pre></div> </div></div></div></div>"
      ],
      "text/plain": [
       "LatentDirichletAllocation(max_iter=100, n_components=5)"
      ]
     },
     "execution_count": 11,
     "metadata": {},
     "output_type": "execute_result"
    }
   ],
   "source": [
    "# Instantiate the LDA\n",
    "n_components = 5 \n",
    "lda_model = LatentDirichletAllocation(n_components=n_components, max_iter = 100) \n",
    "\n",
    "# Fit the LDA on the vectorized documents \n",
    "lda_model.fit(vectorized_documents)"
   ]
  },
  {
   "cell_type": "code",
   "execution_count": 94,
   "id": "7a2074a3-2c9d-49f8-b774-a4b822f28937",
   "metadata": {
    "scrolled": true
   },
   "outputs": [],
   "source": [
    "topics = topics_list(lda_model, vectorizer, 5)"
   ]
  },
  {
   "cell_type": "code",
   "execution_count": 70,
   "id": "7953e5be-74b7-4813-a545-3a73e52cfb46",
   "metadata": {},
   "outputs": [
    {
     "data": {
      "text/plain": [
       "list"
      ]
     },
     "execution_count": 70,
     "metadata": {},
     "output_type": "execute_result"
    }
   ],
   "source": [
    "type(topics)"
   ]
  },
  {
   "cell_type": "code",
   "execution_count": 76,
   "id": "043f8894-a6c4-4ab3-b356-b72f3458a5e4",
   "metadata": {},
   "outputs": [
    {
     "data": {
      "text/plain": [
       "list"
      ]
     },
     "execution_count": 76,
     "metadata": {},
     "output_type": "execute_result"
    }
   ],
   "source": [
    "type(topics[0])"
   ]
  },
  {
   "cell_type": "code",
   "execution_count": 77,
   "id": "9aaf6da3-ad95-4947-8e7e-9d2c11314d63",
   "metadata": {},
   "outputs": [
    {
     "data": {
      "text/plain": [
       "tuple"
      ]
     },
     "execution_count": 77,
     "metadata": {},
     "output_type": "execute_result"
    }
   ],
   "source": [
    "type(topics[0][0])"
   ]
  },
  {
   "cell_type": "code",
   "execution_count": 78,
   "id": "7d999c0d-7a08-4afc-a1e7-9d9779eda4f4",
   "metadata": {},
   "outputs": [
    {
     "data": {
      "text/plain": [
       "('name', 29.173949181121092)"
      ]
     },
     "execution_count": 78,
     "metadata": {},
     "output_type": "execute_result"
    }
   ],
   "source": [
    "topics[0][0]"
   ]
  },
  {
   "cell_type": "code",
   "execution_count": 74,
   "id": "89b96bbf-19b0-433e-a32b-c59af3baee35",
   "metadata": {},
   "outputs": [
    {
     "data": {
      "text/plain": [
       "5"
      ]
     },
     "execution_count": 74,
     "metadata": {},
     "output_type": "execute_result"
    }
   ],
   "source": [
    "len(topics)"
   ]
  },
  {
   "cell_type": "code",
   "execution_count": 75,
   "id": "83b100bc-9520-4731-a867-0aa9845a3b82",
   "metadata": {},
   "outputs": [
    {
     "data": {
      "text/plain": [
       "[[('name', 29.173949181121092),\n",
       "  ('fan', 2.9975250073677477),\n",
       "  ('like', 1.8111830960960629),\n",
       "  ('cant', 1.2633818593976753),\n",
       "  ('try', 0.8798763292386389),\n",
       "  ('player', 0.7661226032126869),\n",
       "  ('university', 0.7615216945899945),\n",
       "  ('good', 0.7435928375581566),\n",
       "  ('know', 0.5957952631077141),\n",
       "  ('say', 0.5557652972183227)],\n",
       " [('church', 8.168604837722954),\n",
       "  ('world', 4.461748757410106),\n",
       "  ('replyto', 2.7565846185475524),\n",
       "  ('game', 2.7305074566712997),\n",
       "  ('anyone', 2.506375382583701),\n",
       "  ('show', 2.2480285037933028),\n",
       "  ('another', 2.2480231814738114),\n",
       "  ('university', 2.08388548332709),\n",
       "  ('would', 1.8804196052157496),\n",
       "  ('bible', 1.701375227612775)],\n",
       " [('please', 25.107888880007135),\n",
       "  ('thank', 19.348272412172385),\n",
       "  ('university', 14.811721647085578),\n",
       "  ('post', 9.905687491299032),\n",
       "  ('pittsburgh', 8.958080375060495),\n",
       "  ('nntppostinghost', 6.699890502577248),\n",
       "  ('anyone', 6.0294331211691645),\n",
       "  ('state', 4.018789664717768),\n",
       "  ('replyto', 3.8436525929691268),\n",
       "  ('time', 3.3037316997458173)],\n",
       " [('god', 92.49115917511428),\n",
       "  ('christian', 59.7912051074266),\n",
       "  ('jesus', 47.302189912147625),\n",
       "  ('would', 45.9483024795845),\n",
       "  ('one', 45.16242434141987),\n",
       "  ('people', 44.75642232833372),\n",
       "  ('say', 44.40359040184439),\n",
       "  ('know', 42.24262356395357),\n",
       "  ('church', 39.42778705925589),\n",
       "  ('believe', 39.08174920251981)],\n",
       " [('team', 77.40533757241202),\n",
       "  ('game', 74.52891348572153),\n",
       "  ('play', 57.12460930434162),\n",
       "  ('go', 56.750609802216665),\n",
       "  ('hockey', 55.14792580539658),\n",
       "  ('player', 50.638473731762495),\n",
       "  ('win', 42.88253803450773),\n",
       "  ('get', 41.59355355883436),\n",
       "  ('nhl', 39.748256992097794),\n",
       "  ('year', 38.41681303343778)]]"
      ]
     },
     "execution_count": 75,
     "metadata": {},
     "output_type": "execute_result"
    }
   ],
   "source": [
    "topics"
   ]
  },
  {
   "cell_type": "code",
   "execution_count": 45,
   "id": "0128ade0-56c0-4516-b94f-da7d283c611c",
   "metadata": {},
   "outputs": [
    {
     "data": {
      "text/plain": [
       "(5, 156)"
      ]
     },
     "execution_count": 45,
     "metadata": {},
     "output_type": "execute_result"
    }
   ],
   "source": [
    "lda_model.components_.shape"
   ]
  },
  {
   "cell_type": "code",
   "execution_count": 50,
   "id": "05d8f02f-3f81-4558-b4f2-fd53c833ad4e",
   "metadata": {},
   "outputs": [
    {
     "data": {
      "text/plain": [
       "(156,)"
      ]
     },
     "execution_count": 50,
     "metadata": {},
     "output_type": "execute_result"
    }
   ],
   "source": [
    "vectorizer.get_feature_names_out().shape"
   ]
  },
  {
   "cell_type": "code",
   "execution_count": 68,
   "id": "6526da34-1bbd-464b-85ef-48d71ae459af",
   "metadata": {},
   "outputs": [
    {
     "data": {
      "text/plain": [
       "71.11508219042226"
      ]
     },
     "execution_count": 68,
     "metadata": {},
     "output_type": "execute_result"
    }
   ],
   "source": [
    "lda_model.components_[1].sum()"
   ]
  },
  {
   "cell_type": "markdown",
   "id": "c8c3c0ad-84c4-4816-bdc1-5ac6cc4e5b33",
   "metadata": {
    "jp-MarkdownHeadingCollapsed": true
   },
   "source": [
    "### Latent Dirichlet Allocation model for optimal number of topics (using Perplexity)"
   ]
  },
  {
   "cell_type": "code",
   "execution_count": 22,
   "id": "2bcf7f14-ff66-470c-9dc4-cfbd18ee790f",
   "metadata": {},
   "outputs": [],
   "source": [
    "corpus = gensim.matutils.Sparse2Corpus(vectorized_documents, documents_columns=False)"
   ]
  },
  {
   "cell_type": "code",
   "execution_count": 24,
   "id": "39e868c0-cc82-4954-b35e-c51bff9254da",
   "metadata": {},
   "outputs": [],
   "source": [
    "dictionary = Dictionary.from_corpus(corpus, id2word=dict(enumerate(vectorizer.get_feature_names_out())))"
   ]
  },
  {
   "cell_type": "code",
   "execution_count": 25,
   "id": "6a411b42-83bd-4894-ba34-b7423e78401a",
   "metadata": {},
   "outputs": [],
   "source": [
    "# Function to compute perplexity values for a given LDA model\n",
    "def compute_perplexity_values(corpus, dictionary, limit, start=2, step=3):\n",
    "    perplexity_values = []\n",
    "    for num_topics in range(start, limit, step):\n",
    "        model = LdaModel(corpus=corpus, num_topics=num_topics, id2word=dictionary)\n",
    "        perplexity_values.append(model.log_perplexity(corpus))\n",
    "    return perplexity_values"
   ]
  },
  {
   "cell_type": "code",
   "execution_count": 28,
   "id": "c1310988-0c95-4fe0-931c-4ef190ed3a00",
   "metadata": {},
   "outputs": [],
   "source": [
    "def compute_coherence_values(corpus, dictionary, texts, limit, start=2, step=3):\n",
    "    coherence_values = []\n",
    "    for num_topics in range(start, limit, step):\n",
    "        model = LdaModel(corpus=corpus, num_topics=num_topics, id2word=dictionary)\n",
    "        coherence_model = CoherenceModel(model=model, texts=texts, dictionary=dictionary, coherence='c_v')\n",
    "        coherence_values.append(coherence_model.get_coherence())\n",
    "    return coherence_values"
   ]
  },
  {
   "cell_type": "code",
   "execution_count": 33,
   "id": "e7b47b15-c4af-40ad-b14d-b71fede4a857",
   "metadata": {},
   "outputs": [],
   "source": [
    "# Calculate perplexity values for different numbers of topics\n",
    "start = 20\n",
    "limit = 60\n",
    "step = 2\n",
    "perplexity_values = compute_perplexity_values(corpus, dictionary, limit, start, step)"
   ]
  },
  {
   "cell_type": "code",
   "execution_count": 34,
   "id": "a2059e6e-3094-49f7-8fb9-0466c3d8d921",
   "metadata": {
    "scrolled": true
   },
   "outputs": [
    {
     "data": {
      "image/png": "[encoded data removed]",
      "text/plain": [
       "<Figure size 640x480 with 1 Axes>"
      ]
     },
     "metadata": {},
     "output_type": "display_data"
    }
   ],
   "source": [
    "# Plot perplexity values\n",
    "import matplotlib.pyplot as plt\n",
    "x = range(start, limit, step)\n",
    "plt.plot(x, perplexity_values)\n",
    "plt.xlabel(\"Number of Topics\")\n",
    "plt.ylabel(\"Perplexity\")\n",
    "plt.title(\"Perplexity vs Number of Topics\")\n",
    "plt.show()"
   ]
  },
  {
   "cell_type": "markdown",
   "id": "17df51ec-e692-491a-b92c-91c5bea26cd0",
   "metadata": {},
   "source": [
    "### Visualization"
   ]
  },
  {
   "cell_type": "code",
   "execution_count": 84,
   "id": "a3bb1d2e-5fba-442a-aac3-39a75c3fa483",
   "metadata": {},
   "outputs": [
    {
     "data": {
      "image/png": "[encoded data removed]",
      "text/plain": [
       "<Figure size 1000x600 with 1 Axes>"
      ]
     },
     "metadata": {},
     "output_type": "display_data"
    }
   ],
   "source": [
    "data = topics[0]\n",
    "\n",
    "labels = [item[0] for item in data]\n",
    "values = [item[1] for item in data]\n",
    "\n",
    "# Creating bar chart\n",
    "plt.figure(figsize=(10, 6))\n",
    "plt.barh(labels, values, color='skyblue')\n",
    "plt.xlabel('Score')\n",
    "plt.ylabel('Keywords')\n",
    "plt.title('Keyword Scores')\n",
    "plt.gca().invert_yaxis()  # Invert y-axis to have the highest score at the top\n",
    "plt.show()"
   ]
  },
  {
   "cell_type": "code",
   "execution_count": 15,
   "id": "c3a05bef-c5ff-4546-bac7-c413ea73b81c",
   "metadata": {
    "scrolled": true
   },
   "outputs": [
    {
     "data": {
      "image/png": "[encoded data removed]",
      "text/plain": [
       "<Figure size 1500x1000 with 4 Axes>"
      ]
     },
     "metadata": {},
     "output_type": "display_data"
    }
   ],
   "source": [
    "graph_topics(topics1)"
   ]
  }
 ],
 "metadata": {
  "kernelspec": {
   "display_name": "Python 3 (ipykernel)",
   "language": "python",
   "name": "python3"
  },
  "language_info": {
   "codemirror_mode": {
    "name": "ipython",
    "version": 3
   },
   "file_extension": ".py",
   "mimetype": "text/x-python",
   "name": "python",
   "nbconvert_exporter": "python",
   "pygments_lexer": "ipython3",
   "version": "3.10.6"
  }
 },
 "nbformat": 4,
 "nbformat_minor": 5
}
