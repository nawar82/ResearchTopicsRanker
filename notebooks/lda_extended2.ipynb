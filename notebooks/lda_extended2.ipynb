{
 "cells": [
  {
   "cell_type": "markdown",
   "id": "674b1348-ef5b-4ae2-aff1-53939c7ac314",
   "metadata": {
    "jp-MarkdownHeadingCollapsed": true
   },
   "source": [
    "### Packages"
   ]
  },
  {
   "cell_type": "code",
   "execution_count": 1,
   "id": "78833365-492d-4aaf-b469-f9c7ba3e502c",
   "metadata": {},
   "outputs": [],
   "source": [
    "# Essentials\n",
    "import pandas as pd\n",
    "\n",
    "# ML Modules\n",
    "from sklearn.feature_extraction.text import TfidfVectorizer\n",
    "from sklearn.decomposition import LatentDirichletAllocation\n",
    "\n",
    "from sklearn import set_config; set_config(display='diagram')\n",
    "\n",
    "import pickle\n",
    "\n",
    "# For preprosessing\n",
    "import string\n",
    "from nltk.corpus import stopwords\n",
    "from nltk import word_tokenize\n",
    "from nltk.stem import WordNetLemmatizer\n",
    "\n",
    "# Graphs\n",
    "import matplotlib.pyplot as plt"
   ]
  },
  {
   "cell_type": "markdown",
   "id": "879dd387-0fbd-4cc0-b4c9-94c08f172f6c",
   "metadata": {
    "jp-MarkdownHeadingCollapsed": true
   },
   "source": [
    "### Data Import"
   ]
  },
  {
   "cell_type": "code",
   "execution_count": 2,
   "id": "24c68986-b125-4334-b484-1d284461bddb",
   "metadata": {},
   "outputs": [
    {
     "data": {
      "text/html": [
       "<div>\n",
       "<style scoped>\n",
       "    .dataframe tbody tr th:only-of-type {\n",
       "        vertical-align: middle;\n",
       "    }\n",
       "\n",
       "    .dataframe tbody tr th {\n",
       "        vertical-align: top;\n",
       "    }\n",
       "\n",
       "    .dataframe thead th {\n",
       "        text-align: right;\n",
       "    }\n",
       "</style>\n",
       "<table border=\"1\" class=\"dataframe\">\n",
       "  <thead>\n",
       "    <tr style=\"text-align: right;\">\n",
       "      <th></th>\n",
       "      <th>PMID</th>\n",
       "      <th>Abstract</th>\n",
       "    </tr>\n",
       "  </thead>\n",
       "  <tbody>\n",
       "    <tr>\n",
       "      <th>0</th>\n",
       "      <td>38506164</td>\n",
       "      <td>The effectiveness of levothyroxine (LT4) in re...</td>\n",
       "    </tr>\n",
       "    <tr>\n",
       "      <th>1</th>\n",
       "      <td>38464371</td>\n",
       "      <td>Diabetes and thyroiditis are closely related. ...</td>\n",
       "    </tr>\n",
       "    <tr>\n",
       "      <th>2</th>\n",
       "      <td>38449627</td>\n",
       "      <td>The thyroid represents the most prevalent form...</td>\n",
       "    </tr>\n",
       "    <tr>\n",
       "      <th>3</th>\n",
       "      <td>38296053</td>\n",
       "      <td>Evidence suggests that hypothyroidism may be a...</td>\n",
       "    </tr>\n",
       "    <tr>\n",
       "      <th>4</th>\n",
       "      <td>38287682</td>\n",
       "      <td>The aim of this study was to determine the imp...</td>\n",
       "    </tr>\n",
       "  </tbody>\n",
       "</table>\n",
       "</div>"
      ],
      "text/plain": [
       "       PMID                                           Abstract\n",
       "0  38506164  The effectiveness of levothyroxine (LT4) in re...\n",
       "1  38464371  Diabetes and thyroiditis are closely related. ...\n",
       "2  38449627  The thyroid represents the most prevalent form...\n",
       "3  38296053  Evidence suggests that hypothyroidism may be a...\n",
       "4  38287682  The aim of this study was to determine the imp..."
      ]
     },
     "execution_count": 2,
     "metadata": {},
     "output_type": "execute_result"
    }
   ],
   "source": [
    "file = '/home/nawar82/code/nawar82/ResearchTopicsRanker/raw_data/abstracts_thyrotropin-OR-TSH_2024-03-21_10-18-44.csv'\n",
    "\n",
    "data = pd.read_csv(file)\n",
    "data.head()"
   ]
  },
  {
   "cell_type": "code",
   "execution_count": 3,
   "id": "a343b545",
   "metadata": {},
   "outputs": [
    {
     "data": {
      "text/plain": [
       "(640, 2)"
      ]
     },
     "execution_count": 3,
     "metadata": {},
     "output_type": "execute_result"
    }
   ],
   "source": [
    "data.shape"
   ]
  },
  {
   "cell_type": "markdown",
   "id": "f53fea75-08f9-4b39-a7c1-488f254f5a54",
   "metadata": {
    "jp-MarkdownHeadingCollapsed": true
   },
   "source": [
    "### Preprocessing"
   ]
  },
  {
   "cell_type": "markdown",
   "id": "0d9dc335",
   "metadata": {},
   "source": [
    "#### preparing Acedemic and Medical Stopwords (RedundantWords.csv)"
   ]
  },
  {
   "cell_type": "code",
   "execution_count": 4,
   "id": "b6cb6e99",
   "metadata": {},
   "outputs": [
    {
     "data": {
      "text/html": [
       "<div>\n",
       "<style scoped>\n",
       "    .dataframe tbody tr th:only-of-type {\n",
       "        vertical-align: middle;\n",
       "    }\n",
       "\n",
       "    .dataframe tbody tr th {\n",
       "        vertical-align: top;\n",
       "    }\n",
       "\n",
       "    .dataframe thead th {\n",
       "        text-align: right;\n",
       "    }\n",
       "</style>\n",
       "<table border=\"1\" class=\"dataframe\">\n",
       "  <thead>\n",
       "    <tr style=\"text-align: right;\">\n",
       "      <th></th>\n",
       "      <th>academic_stopwords</th>\n",
       "    </tr>\n",
       "  </thead>\n",
       "  <tbody>\n",
       "    <tr>\n",
       "      <th>0</th>\n",
       "      <td>Academic</td>\n",
       "    </tr>\n",
       "    <tr>\n",
       "      <th>1</th>\n",
       "      <td>Achievement</td>\n",
       "    </tr>\n",
       "    <tr>\n",
       "      <th>2</th>\n",
       "      <td>Advisor</td>\n",
       "    </tr>\n",
       "    <tr>\n",
       "      <th>3</th>\n",
       "      <td>Analysis</td>\n",
       "    </tr>\n",
       "    <tr>\n",
       "      <th>4</th>\n",
       "      <td>Argument</td>\n",
       "    </tr>\n",
       "  </tbody>\n",
       "</table>\n",
       "</div>"
      ],
      "text/plain": [
       "  academic_stopwords\n",
       "0           Academic\n",
       "1        Achievement\n",
       "2            Advisor\n",
       "3           Analysis\n",
       "4           Argument"
      ]
     },
     "execution_count": 4,
     "metadata": {},
     "output_type": "execute_result"
    }
   ],
   "source": [
    "rw = '/home/nawar82/code/nawar82/ResearchTopicsRanker/raw_data/RedundantWords.csv'\n",
    "\n",
    "sw = pd.read_csv(rw, header=0, names=['academic_stopwords'])\n",
    "sw.head()"
   ]
  },
  {
   "cell_type": "code",
   "execution_count": 5,
   "id": "d0502cf2",
   "metadata": {},
   "outputs": [
    {
     "data": {
      "text/plain": [
       "92"
      ]
     },
     "execution_count": 5,
     "metadata": {},
     "output_type": "execute_result"
    }
   ],
   "source": [
    "academic_Stopwords = sw['academic_stopwords'].tolist()\n",
    "len(academic_Stopwords)"
   ]
  },
  {
   "cell_type": "code",
   "execution_count": 6,
   "id": "057d9b0e-cf04-4ef5-8c5f-9895c1cb0987",
   "metadata": {},
   "outputs": [],
   "source": [
    "def preprocessing(sentence):\n",
    "\n",
    "    # remove whitespace\n",
    "    sentence = sentence.strip()\n",
    "\n",
    "    # lowercase characters\n",
    "    sentence = sentence.lower()\n",
    "\n",
    "    # remove numbers\n",
    "    sentence = ''.join(char for char in sentence if not char.isdigit())\n",
    "\n",
    "    # remove punctuation\n",
    "    for punctuation in string.punctuation:\n",
    "        sentence = sentence.replace(punctuation, '')\n",
    "\n",
    "    # remove stop_words\n",
    "    stop_words = set(stopwords.words('english'))\n",
    "    words = word_tokenize(sentence)\n",
    "    filtered_words = [word for word in words if word.lower() not in stop_words]\n",
    "\n",
    "    # remove academic and medical stop_words\n",
    "    filtered_words = [word for word in filtered_words if word.lower() not in academic_Stopwords]\n",
    "    sentence = ' '.join(filtered_words)\n",
    "\n",
    "    # tokenize and lemmatize\n",
    "    words = word_tokenize(sentence)\n",
    "    lemmatizer = WordNetLemmatizer()\n",
    "    lemmatized_words = [lemmatizer.lemmatize(word, pos='v') for word in words]  # Lemmatize verbs\n",
    "    lemmatized_words = [lemmatizer.lemmatize(word, pos='n') for word in lemmatized_words]  # Lemmatize nouns\n",
    "\n",
    "    return ' '.join(lemmatized_words)"
   ]
  },
  {
   "cell_type": "code",
   "execution_count": 7,
   "id": "24fc3fc4-8feb-4037-b594-fd1fe336be66",
   "metadata": {
    "scrolled": true
   },
   "outputs": [
    {
     "data": {
      "text/html": [
       "<div>\n",
       "<style scoped>\n",
       "    .dataframe tbody tr th:only-of-type {\n",
       "        vertical-align: middle;\n",
       "    }\n",
       "\n",
       "    .dataframe tbody tr th {\n",
       "        vertical-align: top;\n",
       "    }\n",
       "\n",
       "    .dataframe thead th {\n",
       "        text-align: right;\n",
       "    }\n",
       "</style>\n",
       "<table border=\"1\" class=\"dataframe\">\n",
       "  <thead>\n",
       "    <tr style=\"text-align: right;\">\n",
       "      <th></th>\n",
       "      <th>PMID</th>\n",
       "      <th>Abstract</th>\n",
       "      <th>clean_text</th>\n",
       "    </tr>\n",
       "  </thead>\n",
       "  <tbody>\n",
       "    <tr>\n",
       "      <th>0</th>\n",
       "      <td>38506164</td>\n",
       "      <td>The effectiveness of levothyroxine (LT4) in re...</td>\n",
       "      <td>effectiveness levothyroxine lt restore thyroid...</td>\n",
       "    </tr>\n",
       "    <tr>\n",
       "      <th>1</th>\n",
       "      <td>38464371</td>\n",
       "      <td>Diabetes and thyroiditis are closely related. ...</td>\n",
       "      <td>diabetes thyroiditis closely relate occur comb...</td>\n",
       "    </tr>\n",
       "    <tr>\n",
       "      <th>2</th>\n",
       "      <td>38449627</td>\n",
       "      <td>The thyroid represents the most prevalent form...</td>\n",
       "      <td>thyroid represent prevalent form head neck end...</td>\n",
       "    </tr>\n",
       "    <tr>\n",
       "      <th>3</th>\n",
       "      <td>38296053</td>\n",
       "      <td>Evidence suggests that hypothyroidism may be a...</td>\n",
       "      <td>evidence suggest hypothyroidism may associate ...</td>\n",
       "    </tr>\n",
       "    <tr>\n",
       "      <th>4</th>\n",
       "      <td>38287682</td>\n",
       "      <td>The aim of this study was to determine the imp...</td>\n",
       "      <td>aim study determine impact covid pandemic test...</td>\n",
       "    </tr>\n",
       "    <tr>\n",
       "      <th>...</th>\n",
       "      <td>...</td>\n",
       "      <td>...</td>\n",
       "      <td>...</td>\n",
       "    </tr>\n",
       "    <tr>\n",
       "      <th>635</th>\n",
       "      <td>6127000</td>\n",
       "      <td>A population sample of women in Göteborg, Swed...</td>\n",
       "      <td>population sample woman göteborg sweden study ...</td>\n",
       "    </tr>\n",
       "    <tr>\n",
       "      <th>636</th>\n",
       "      <td>7288274</td>\n",
       "      <td>This paper presents the results of various met...</td>\n",
       "      <td>paper present result various metabolic investi...</td>\n",
       "    </tr>\n",
       "    <tr>\n",
       "      <th>637</th>\n",
       "      <td>6794011</td>\n",
       "      <td>Low concentrations of thyrotropin-releasing ho...</td>\n",
       "      <td>low concentration thyrotropinreleasing hormone...</td>\n",
       "    </tr>\n",
       "    <tr>\n",
       "      <th>638</th>\n",
       "      <td>469388</td>\n",
       "      <td>The aetiology of Menière's disease is unknown ...</td>\n",
       "      <td>aetiology menières disease unknown recent year...</td>\n",
       "    </tr>\n",
       "    <tr>\n",
       "      <th>639</th>\n",
       "      <td>30020</td>\n",
       "      <td>To evaluate the effect of starvation, oral and...</td>\n",
       "      <td>evaluate effect starvation oral iv nutriment h...</td>\n",
       "    </tr>\n",
       "  </tbody>\n",
       "</table>\n",
       "<p>640 rows × 3 columns</p>\n",
       "</div>"
      ],
      "text/plain": [
       "         PMID                                           Abstract  \\\n",
       "0    38506164  The effectiveness of levothyroxine (LT4) in re...   \n",
       "1    38464371  Diabetes and thyroiditis are closely related. ...   \n",
       "2    38449627  The thyroid represents the most prevalent form...   \n",
       "3    38296053  Evidence suggests that hypothyroidism may be a...   \n",
       "4    38287682  The aim of this study was to determine the imp...   \n",
       "..        ...                                                ...   \n",
       "635   6127000  A population sample of women in Göteborg, Swed...   \n",
       "636   7288274  This paper presents the results of various met...   \n",
       "637   6794011  Low concentrations of thyrotropin-releasing ho...   \n",
       "638    469388  The aetiology of Menière's disease is unknown ...   \n",
       "639     30020  To evaluate the effect of starvation, oral and...   \n",
       "\n",
       "                                            clean_text  \n",
       "0    effectiveness levothyroxine lt restore thyroid...  \n",
       "1    diabetes thyroiditis closely relate occur comb...  \n",
       "2    thyroid represent prevalent form head neck end...  \n",
       "3    evidence suggest hypothyroidism may associate ...  \n",
       "4    aim study determine impact covid pandemic test...  \n",
       "..                                                 ...  \n",
       "635  population sample woman göteborg sweden study ...  \n",
       "636  paper present result various metabolic investi...  \n",
       "637  low concentration thyrotropinreleasing hormone...  \n",
       "638  aetiology menières disease unknown recent year...  \n",
       "639  evaluate effect starvation oral iv nutriment h...  \n",
       "\n",
       "[640 rows x 3 columns]"
      ]
     },
     "execution_count": 7,
     "metadata": {},
     "output_type": "execute_result"
    }
   ],
   "source": [
    "data['clean_text'] = data['Abstract'].apply(preprocessing)\n",
    "data"
   ]
  },
  {
   "cell_type": "markdown",
   "id": "3c22c414-0623-4d47-9bdb-060cbd5aa0ba",
   "metadata": {
    "jp-MarkdownHeadingCollapsed": true
   },
   "source": [
    "### Functions"
   ]
  },
  {
   "cell_type": "code",
   "execution_count": 8,
   "id": "aa68ab8d-d6ca-4b06-8924-a86e660a9750",
   "metadata": {},
   "outputs": [],
   "source": [
    "def lda_model_fit(n_components, max_iter, vectorized_documents):\n",
    "    lda_model = LatentDirichletAllocation(n_components=n_components, max_iter = max_iter)\n",
    "\n",
    "    # Fit the LDA on the vectorized documents\n",
    "    lda_model.fit(vectorized_documents)\n",
    "\n",
    "    return lda_model"
   ]
  },
  {
   "cell_type": "code",
   "execution_count": 9,
   "id": "6b4d9d4b-b7c9-4ee7-a8c1-17af6472df21",
   "metadata": {},
   "outputs": [],
   "source": [
    "def topics_list(model, vectorizer, top_words):\n",
    "    topics = []\n",
    "    for idx, topic in enumerate(model.components_):\n",
    "        # print(\"Topic %d:\" % (idx))\n",
    "        topic = [(vectorizer.get_feature_names_out()[i], topic[i]) for i in topic.argsort()[:-top_words - 1:-1]]\n",
    "        # print(topic)\n",
    "        topics.append(topic)\n",
    "    return topics"
   ]
  },
  {
   "cell_type": "code",
   "execution_count": 10,
   "id": "f1508153-b22f-431e-ab5a-f6d4c8ccfee0",
   "metadata": {},
   "outputs": [],
   "source": [
    "def print_topics(model, vectorizer):\n",
    "    topics = []\n",
    "    for idx, topic in enumerate(model.components_):\n",
    "        print(\"Topic %d:\" % (idx))\n",
    "        topic = [(vectorizer.get_feature_names_out()[i], topic[i]) for i in topic.argsort()[:-10 - 1:-1]]\n",
    "        print(topic)\n",
    "        topics.append(topic)\n",
    "    return topics"
   ]
  },
  {
   "cell_type": "code",
   "execution_count": 11,
   "id": "4982e1e0-6b01-4134-aa51-716f240738e0",
   "metadata": {},
   "outputs": [],
   "source": [
    "def graph_topics(topics):\n",
    "    # Calculating the number of rows and columns\n",
    "    num_sets = len(topics)\n",
    "    num_cols = 2  # Number of columns you want\n",
    "    num_rows = -(-num_sets // num_cols)  # Ceiling division to ensure enough rows\n",
    "\n",
    "    # Plotting each data set\n",
    "    fig, axs = plt.subplots(num_rows, num_cols, figsize=(15, 5*num_rows))\n",
    "    for i, data in enumerate(topics):\n",
    "        row = i // num_cols\n",
    "        col = i % num_cols\n",
    "        labels = [item[0] for item in data]\n",
    "        values = [item[1] for item in data]\n",
    "        axs[row, col].barh(labels, values, color='skyblue')\n",
    "        axs[row, col].set_ylabel('Keywords')\n",
    "        axs[row, col].set_title('Topic {}'.format(i))\n",
    "        axs[row, col].invert_yaxis()\n",
    "\n",
    "    plt.xlabel('Score')\n",
    "    plt.tight_layout()\n",
    "    plt.show()"
   ]
  },
  {
   "cell_type": "markdown",
   "id": "94573dc6-72d9-4ba1-bf6d-a84e33820706",
   "metadata": {
    "jp-MarkdownHeadingCollapsed": true
   },
   "source": [
    "### Run LDA to see the topics"
   ]
  },
  {
   "cell_type": "code",
   "execution_count": 12,
   "id": "4b66a543-a8ca-4f2d-8c29-5f3b29cb9068",
   "metadata": {},
   "outputs": [],
   "source": [
    "vectorizer = TfidfVectorizer(max_df = 0.98, ngram_range=(2,5))\n",
    "\n",
    "vectorized_documents = vectorizer.fit_transform(data['clean_text'])"
   ]
  },
  {
   "cell_type": "code",
   "execution_count": 13,
   "id": "7c73107d-3f55-4c88-89c1-8a57c5c00f87",
   "metadata": {},
   "outputs": [
    {
     "data": {
      "text/plain": [
       "(640, 339671)"
      ]
     },
     "execution_count": 13,
     "metadata": {},
     "output_type": "execute_result"
    }
   ],
   "source": [
    "vectorized_documents.shape"
   ]
  },
  {
   "cell_type": "code",
   "execution_count": 14,
   "id": "fa9636a1",
   "metadata": {},
   "outputs": [
    {
     "data": {
      "text/html": [
       "<style>#sk-container-id-1 {color: black;}#sk-container-id-1 pre{padding: 0;}#sk-container-id-1 div.sk-toggleable {background-color: white;}#sk-container-id-1 label.sk-toggleable__label {cursor: pointer;display: block;width: 100%;margin-bottom: 0;padding: 0.3em;box-sizing: border-box;text-align: center;}#sk-container-id-1 label.sk-toggleable__label-arrow:before {content: \"▸\";float: left;margin-right: 0.25em;color: #696969;}#sk-container-id-1 label.sk-toggleable__label-arrow:hover:before {color: black;}#sk-container-id-1 div.sk-estimator:hover label.sk-toggleable__label-arrow:before {color: black;}#sk-container-id-1 div.sk-toggleable__content {max-height: 0;max-width: 0;overflow: hidden;text-align: left;background-color: #f0f8ff;}#sk-container-id-1 div.sk-toggleable__content pre {margin: 0.2em;color: black;border-radius: 0.25em;background-color: #f0f8ff;}#sk-container-id-1 input.sk-toggleable__control:checked~div.sk-toggleable__content {max-height: 200px;max-width: 100%;overflow: auto;}#sk-container-id-1 input.sk-toggleable__control:checked~label.sk-toggleable__label-arrow:before {content: \"▾\";}#sk-container-id-1 div.sk-estimator input.sk-toggleable__control:checked~label.sk-toggleable__label {background-color: #d4ebff;}#sk-container-id-1 div.sk-label input.sk-toggleable__control:checked~label.sk-toggleable__label {background-color: #d4ebff;}#sk-container-id-1 input.sk-hidden--visually {border: 0;clip: rect(1px 1px 1px 1px);clip: rect(1px, 1px, 1px, 1px);height: 1px;margin: -1px;overflow: hidden;padding: 0;position: absolute;width: 1px;}#sk-container-id-1 div.sk-estimator {font-family: monospace;background-color: #f0f8ff;border: 1px dotted black;border-radius: 0.25em;box-sizing: border-box;margin-bottom: 0.5em;}#sk-container-id-1 div.sk-estimator:hover {background-color: #d4ebff;}#sk-container-id-1 div.sk-parallel-item::after {content: \"\";width: 100%;border-bottom: 1px solid gray;flex-grow: 1;}#sk-container-id-1 div.sk-label:hover label.sk-toggleable__label {background-color: #d4ebff;}#sk-container-id-1 div.sk-serial::before {content: \"\";position: absolute;border-left: 1px solid gray;box-sizing: border-box;top: 0;bottom: 0;left: 50%;z-index: 0;}#sk-container-id-1 div.sk-serial {display: flex;flex-direction: column;align-items: center;background-color: white;padding-right: 0.2em;padding-left: 0.2em;position: relative;}#sk-container-id-1 div.sk-item {position: relative;z-index: 1;}#sk-container-id-1 div.sk-parallel {display: flex;align-items: stretch;justify-content: center;background-color: white;position: relative;}#sk-container-id-1 div.sk-item::before, #sk-container-id-1 div.sk-parallel-item::before {content: \"\";position: absolute;border-left: 1px solid gray;box-sizing: border-box;top: 0;bottom: 0;left: 50%;z-index: -1;}#sk-container-id-1 div.sk-parallel-item {display: flex;flex-direction: column;z-index: 1;position: relative;background-color: white;}#sk-container-id-1 div.sk-parallel-item:first-child::after {align-self: flex-end;width: 50%;}#sk-container-id-1 div.sk-parallel-item:last-child::after {align-self: flex-start;width: 50%;}#sk-container-id-1 div.sk-parallel-item:only-child::after {width: 0;}#sk-container-id-1 div.sk-dashed-wrapped {border: 1px dashed gray;margin: 0 0.4em 0.5em 0.4em;box-sizing: border-box;padding-bottom: 0.4em;background-color: white;}#sk-container-id-1 div.sk-label label {font-family: monospace;font-weight: bold;display: inline-block;line-height: 1.2em;}#sk-container-id-1 div.sk-label-container {text-align: center;}#sk-container-id-1 div.sk-container {/* jupyter's `normalize.less` sets `[hidden] { display: none; }` but bootstrap.min.css set `[hidden] { display: none !important; }` so we also need the `!important` here to be able to override the default hidden behavior on the sphinx rendered scikit-learn.org. See: https://github.com/scikit-learn/scikit-learn/issues/21755 */display: inline-block !important;position: relative;}#sk-container-id-1 div.sk-text-repr-fallback {display: none;}</style><div id=\"sk-container-id-1\" class=\"sk-top-container\"><div class=\"sk-text-repr-fallback\"><pre>LatentDirichletAllocation(max_iter=500)</pre><b>In a Jupyter environment, please rerun this cell to show the HTML representation or trust the notebook. <br />On GitHub, the HTML representation is unable to render, please try loading this page with nbviewer.org.</b></div><div class=\"sk-container\" hidden><div class=\"sk-item\"><div class=\"sk-estimator sk-toggleable\"><input class=\"sk-toggleable__control sk-hidden--visually\" id=\"sk-estimator-id-1\" type=\"checkbox\" checked><label for=\"sk-estimator-id-1\" class=\"sk-toggleable__label sk-toggleable__label-arrow\">LatentDirichletAllocation</label><div class=\"sk-toggleable__content\"><pre>LatentDirichletAllocation(max_iter=500)</pre></div></div></div></div></div>"
      ],
      "text/plain": [
       "LatentDirichletAllocation(max_iter=500)"
      ]
     },
     "execution_count": 14,
     "metadata": {},
     "output_type": "execute_result"
    }
   ],
   "source": [
    "# Instantiate the LDA\n",
    "n_components = 10\n",
    "lda_model = LatentDirichletAllocation(n_components=n_components, max_iter = 500)\n",
    "\n",
    "# Fit the LDA on the vectorized documents\n",
    "lda_model.fit(vectorized_documents)"
   ]
  },
  {
   "cell_type": "code",
   "execution_count": 15,
   "id": "f2448878",
   "metadata": {},
   "outputs": [
    {
     "data": {
      "text/html": [
       "<div>\n",
       "<style scoped>\n",
       "    .dataframe tbody tr th:only-of-type {\n",
       "        vertical-align: middle;\n",
       "    }\n",
       "\n",
       "    .dataframe tbody tr th {\n",
       "        vertical-align: top;\n",
       "    }\n",
       "\n",
       "    .dataframe thead th {\n",
       "        text-align: right;\n",
       "    }\n",
       "</style>\n",
       "<table border=\"1\" class=\"dataframe\">\n",
       "  <thead>\n",
       "    <tr style=\"text-align: right;\">\n",
       "      <th></th>\n",
       "      <th>topic_1</th>\n",
       "      <th>topic_2</th>\n",
       "      <th>topic_3</th>\n",
       "      <th>topic_4</th>\n",
       "      <th>topic_5</th>\n",
       "      <th>topic_6</th>\n",
       "      <th>topic_7</th>\n",
       "      <th>topic_8</th>\n",
       "      <th>topic_9</th>\n",
       "      <th>topic_10</th>\n",
       "    </tr>\n",
       "    <tr>\n",
       "      <th>PMID</th>\n",
       "      <th></th>\n",
       "      <th></th>\n",
       "      <th></th>\n",
       "      <th></th>\n",
       "      <th></th>\n",
       "      <th></th>\n",
       "      <th></th>\n",
       "      <th></th>\n",
       "      <th></th>\n",
       "      <th></th>\n",
       "    </tr>\n",
       "  </thead>\n",
       "  <tbody>\n",
       "    <tr>\n",
       "      <th>38506164</th>\n",
       "      <td>0.003695</td>\n",
       "      <td>0.003695</td>\n",
       "      <td>0.003695</td>\n",
       "      <td>0.003695</td>\n",
       "      <td>0.003695</td>\n",
       "      <td>0.003695</td>\n",
       "      <td>0.966748</td>\n",
       "      <td>0.003695</td>\n",
       "      <td>0.003695</td>\n",
       "      <td>0.003695</td>\n",
       "    </tr>\n",
       "    <tr>\n",
       "      <th>38464371</th>\n",
       "      <td>0.003581</td>\n",
       "      <td>0.967774</td>\n",
       "      <td>0.003580</td>\n",
       "      <td>0.003581</td>\n",
       "      <td>0.003581</td>\n",
       "      <td>0.003580</td>\n",
       "      <td>0.003581</td>\n",
       "      <td>0.003580</td>\n",
       "      <td>0.003581</td>\n",
       "      <td>0.003581</td>\n",
       "    </tr>\n",
       "    <tr>\n",
       "      <th>38449627</th>\n",
       "      <td>0.004274</td>\n",
       "      <td>0.004274</td>\n",
       "      <td>0.004274</td>\n",
       "      <td>0.004274</td>\n",
       "      <td>0.004274</td>\n",
       "      <td>0.004274</td>\n",
       "      <td>0.004274</td>\n",
       "      <td>0.961535</td>\n",
       "      <td>0.004274</td>\n",
       "      <td>0.004274</td>\n",
       "    </tr>\n",
       "    <tr>\n",
       "      <th>38296053</th>\n",
       "      <td>0.003985</td>\n",
       "      <td>0.003986</td>\n",
       "      <td>0.003985</td>\n",
       "      <td>0.003986</td>\n",
       "      <td>0.964130</td>\n",
       "      <td>0.003986</td>\n",
       "      <td>0.003986</td>\n",
       "      <td>0.003986</td>\n",
       "      <td>0.003985</td>\n",
       "      <td>0.003986</td>\n",
       "    </tr>\n",
       "    <tr>\n",
       "      <th>38287682</th>\n",
       "      <td>0.004451</td>\n",
       "      <td>0.004451</td>\n",
       "      <td>0.004451</td>\n",
       "      <td>0.004451</td>\n",
       "      <td>0.004451</td>\n",
       "      <td>0.004451</td>\n",
       "      <td>0.004451</td>\n",
       "      <td>0.004451</td>\n",
       "      <td>0.959939</td>\n",
       "      <td>0.004451</td>\n",
       "    </tr>\n",
       "    <tr>\n",
       "      <th>...</th>\n",
       "      <td>...</td>\n",
       "      <td>...</td>\n",
       "      <td>...</td>\n",
       "      <td>...</td>\n",
       "      <td>...</td>\n",
       "      <td>...</td>\n",
       "      <td>...</td>\n",
       "      <td>...</td>\n",
       "      <td>...</td>\n",
       "      <td>...</td>\n",
       "    </tr>\n",
       "    <tr>\n",
       "      <th>6127000</th>\n",
       "      <td>0.952500</td>\n",
       "      <td>0.005278</td>\n",
       "      <td>0.005278</td>\n",
       "      <td>0.005278</td>\n",
       "      <td>0.005278</td>\n",
       "      <td>0.005278</td>\n",
       "      <td>0.005278</td>\n",
       "      <td>0.005278</td>\n",
       "      <td>0.005278</td>\n",
       "      <td>0.005278</td>\n",
       "    </tr>\n",
       "    <tr>\n",
       "      <th>7288274</th>\n",
       "      <td>0.005189</td>\n",
       "      <td>0.005189</td>\n",
       "      <td>0.005189</td>\n",
       "      <td>0.005189</td>\n",
       "      <td>0.953302</td>\n",
       "      <td>0.005189</td>\n",
       "      <td>0.005189</td>\n",
       "      <td>0.005189</td>\n",
       "      <td>0.005189</td>\n",
       "      <td>0.005189</td>\n",
       "    </tr>\n",
       "    <tr>\n",
       "      <th>6794011</th>\n",
       "      <td>0.006010</td>\n",
       "      <td>0.006010</td>\n",
       "      <td>0.006010</td>\n",
       "      <td>0.006010</td>\n",
       "      <td>0.006010</td>\n",
       "      <td>0.006010</td>\n",
       "      <td>0.006010</td>\n",
       "      <td>0.006010</td>\n",
       "      <td>0.006010</td>\n",
       "      <td>0.945911</td>\n",
       "    </tr>\n",
       "    <tr>\n",
       "      <th>469388</th>\n",
       "      <td>0.959738</td>\n",
       "      <td>0.004473</td>\n",
       "      <td>0.004473</td>\n",
       "      <td>0.004473</td>\n",
       "      <td>0.004474</td>\n",
       "      <td>0.004473</td>\n",
       "      <td>0.004473</td>\n",
       "      <td>0.004473</td>\n",
       "      <td>0.004473</td>\n",
       "      <td>0.004473</td>\n",
       "    </tr>\n",
       "    <tr>\n",
       "      <th>30020</th>\n",
       "      <td>0.003788</td>\n",
       "      <td>0.003788</td>\n",
       "      <td>0.003788</td>\n",
       "      <td>0.003788</td>\n",
       "      <td>0.003788</td>\n",
       "      <td>0.965906</td>\n",
       "      <td>0.003788</td>\n",
       "      <td>0.003788</td>\n",
       "      <td>0.003788</td>\n",
       "      <td>0.003788</td>\n",
       "    </tr>\n",
       "  </tbody>\n",
       "</table>\n",
       "<p>640 rows × 10 columns</p>\n",
       "</div>"
      ],
      "text/plain": [
       "           topic_1   topic_2   topic_3   topic_4   topic_5   topic_6  \\\n",
       "PMID                                                                   \n",
       "38506164  0.003695  0.003695  0.003695  0.003695  0.003695  0.003695   \n",
       "38464371  0.003581  0.967774  0.003580  0.003581  0.003581  0.003580   \n",
       "38449627  0.004274  0.004274  0.004274  0.004274  0.004274  0.004274   \n",
       "38296053  0.003985  0.003986  0.003985  0.003986  0.964130  0.003986   \n",
       "38287682  0.004451  0.004451  0.004451  0.004451  0.004451  0.004451   \n",
       "...            ...       ...       ...       ...       ...       ...   \n",
       "6127000   0.952500  0.005278  0.005278  0.005278  0.005278  0.005278   \n",
       "7288274   0.005189  0.005189  0.005189  0.005189  0.953302  0.005189   \n",
       "6794011   0.006010  0.006010  0.006010  0.006010  0.006010  0.006010   \n",
       "469388    0.959738  0.004473  0.004473  0.004473  0.004474  0.004473   \n",
       "30020     0.003788  0.003788  0.003788  0.003788  0.003788  0.965906   \n",
       "\n",
       "           topic_7   topic_8   topic_9  topic_10  \n",
       "PMID                                              \n",
       "38506164  0.966748  0.003695  0.003695  0.003695  \n",
       "38464371  0.003581  0.003580  0.003581  0.003581  \n",
       "38449627  0.004274  0.961535  0.004274  0.004274  \n",
       "38296053  0.003986  0.003986  0.003985  0.003986  \n",
       "38287682  0.004451  0.004451  0.959939  0.004451  \n",
       "...            ...       ...       ...       ...  \n",
       "6127000   0.005278  0.005278  0.005278  0.005278  \n",
       "7288274   0.005189  0.005189  0.005189  0.005189  \n",
       "6794011   0.006010  0.006010  0.006010  0.945911  \n",
       "469388    0.004473  0.004473  0.004473  0.004473  \n",
       "30020     0.003788  0.003788  0.003788  0.003788  \n",
       "\n",
       "[640 rows x 10 columns]"
      ]
     },
     "execution_count": 15,
     "metadata": {},
     "output_type": "execute_result"
    }
   ],
   "source": [
    "document_topic_mixture = pd.DataFrame(lda_model.transform(vectorized_documents),\n",
    "                                    columns = [f\"topic_{i}\" for i in range(1, n_components+1)],\n",
    "                                    index = data['PMID'])\n",
    "document_topic_mixture"
   ]
  },
  {
   "cell_type": "code",
   "execution_count": 16,
   "id": "90555ec9",
   "metadata": {},
   "outputs": [
    {
     "data": {
      "text/html": [
       "<div>\n",
       "<style scoped>\n",
       "    .dataframe tbody tr th:only-of-type {\n",
       "        vertical-align: middle;\n",
       "    }\n",
       "\n",
       "    .dataframe tbody tr th {\n",
       "        vertical-align: top;\n",
       "    }\n",
       "\n",
       "    .dataframe thead th {\n",
       "        text-align: right;\n",
       "    }\n",
       "</style>\n",
       "<table border=\"1\" class=\"dataframe\">\n",
       "  <thead>\n",
       "    <tr style=\"text-align: right;\">\n",
       "      <th></th>\n",
       "      <th>aa addition</th>\n",
       "      <th>aa addition fatty</th>\n",
       "      <th>aa addition fatty acid</th>\n",
       "      <th>aa addition fatty acid culture</th>\n",
       "      <th>aa adrenic</th>\n",
       "      <th>aa adrenic acid</th>\n",
       "      <th>aa adrenic acid deficit</th>\n",
       "      <th>aa adrenic acid deficit overcome</th>\n",
       "      <th>aa adrenic acid pgl</th>\n",
       "      <th>aa adrenic acid pgl compensate</th>\n",
       "      <th>...</th>\n",
       "      <th>μuml patient overt thyroid</th>\n",
       "      <th>μuml patient overt thyroid dysfunction</th>\n",
       "      <th>μuml subclinical</th>\n",
       "      <th>μuml subclinical hypothyroidism</th>\n",
       "      <th>μuml subclinical hypothyroidism thyroidstimulating</th>\n",
       "      <th>μuml subclinical hypothyroidism thyroidstimulating hormone</th>\n",
       "      <th>μuml synergized</th>\n",
       "      <th>μuml synergized increase</th>\n",
       "      <th>μuml synergized increase level</th>\n",
       "      <th>μuml synergized increase level triglyceride</th>\n",
       "    </tr>\n",
       "  </thead>\n",
       "  <tbody>\n",
       "    <tr>\n",
       "      <th>topic_1</th>\n",
       "      <td>0.100000</td>\n",
       "      <td>0.100000</td>\n",
       "      <td>0.100000</td>\n",
       "      <td>0.100000</td>\n",
       "      <td>0.100000</td>\n",
       "      <td>0.100000</td>\n",
       "      <td>0.100000</td>\n",
       "      <td>0.100000</td>\n",
       "      <td>0.100000</td>\n",
       "      <td>0.100000</td>\n",
       "      <td>...</td>\n",
       "      <td>0.100000</td>\n",
       "      <td>0.100000</td>\n",
       "      <td>0.100000</td>\n",
       "      <td>0.100000</td>\n",
       "      <td>0.100000</td>\n",
       "      <td>0.100000</td>\n",
       "      <td>0.100000</td>\n",
       "      <td>0.100000</td>\n",
       "      <td>0.100000</td>\n",
       "      <td>0.100000</td>\n",
       "    </tr>\n",
       "    <tr>\n",
       "      <th>topic_2</th>\n",
       "      <td>0.100000</td>\n",
       "      <td>0.100000</td>\n",
       "      <td>0.100000</td>\n",
       "      <td>0.100000</td>\n",
       "      <td>0.100000</td>\n",
       "      <td>0.100000</td>\n",
       "      <td>0.100000</td>\n",
       "      <td>0.100000</td>\n",
       "      <td>0.100000</td>\n",
       "      <td>0.100000</td>\n",
       "      <td>...</td>\n",
       "      <td>0.100000</td>\n",
       "      <td>0.100000</td>\n",
       "      <td>0.100000</td>\n",
       "      <td>0.100000</td>\n",
       "      <td>0.100000</td>\n",
       "      <td>0.100000</td>\n",
       "      <td>0.100000</td>\n",
       "      <td>0.100000</td>\n",
       "      <td>0.100000</td>\n",
       "      <td>0.100000</td>\n",
       "    </tr>\n",
       "    <tr>\n",
       "      <th>topic_3</th>\n",
       "      <td>0.100000</td>\n",
       "      <td>0.100000</td>\n",
       "      <td>0.100000</td>\n",
       "      <td>0.100000</td>\n",
       "      <td>0.100000</td>\n",
       "      <td>0.100000</td>\n",
       "      <td>0.100000</td>\n",
       "      <td>0.100000</td>\n",
       "      <td>0.100000</td>\n",
       "      <td>0.100000</td>\n",
       "      <td>...</td>\n",
       "      <td>0.100000</td>\n",
       "      <td>0.100000</td>\n",
       "      <td>0.100000</td>\n",
       "      <td>0.100000</td>\n",
       "      <td>0.100000</td>\n",
       "      <td>0.100000</td>\n",
       "      <td>0.100000</td>\n",
       "      <td>0.100000</td>\n",
       "      <td>0.100000</td>\n",
       "      <td>0.100000</td>\n",
       "    </tr>\n",
       "    <tr>\n",
       "      <th>topic_4</th>\n",
       "      <td>0.100000</td>\n",
       "      <td>0.100000</td>\n",
       "      <td>0.100000</td>\n",
       "      <td>0.100000</td>\n",
       "      <td>0.100000</td>\n",
       "      <td>0.100000</td>\n",
       "      <td>0.100000</td>\n",
       "      <td>0.100000</td>\n",
       "      <td>0.100000</td>\n",
       "      <td>0.100000</td>\n",
       "      <td>...</td>\n",
       "      <td>0.100000</td>\n",
       "      <td>0.100000</td>\n",
       "      <td>0.100000</td>\n",
       "      <td>0.100000</td>\n",
       "      <td>0.100000</td>\n",
       "      <td>0.100000</td>\n",
       "      <td>0.100000</td>\n",
       "      <td>0.100000</td>\n",
       "      <td>0.100000</td>\n",
       "      <td>0.100000</td>\n",
       "    </tr>\n",
       "    <tr>\n",
       "      <th>topic_5</th>\n",
       "      <td>0.100000</td>\n",
       "      <td>0.100000</td>\n",
       "      <td>0.100000</td>\n",
       "      <td>0.100000</td>\n",
       "      <td>0.100000</td>\n",
       "      <td>0.100000</td>\n",
       "      <td>0.100000</td>\n",
       "      <td>0.100000</td>\n",
       "      <td>0.100000</td>\n",
       "      <td>0.100000</td>\n",
       "      <td>...</td>\n",
       "      <td>0.100000</td>\n",
       "      <td>0.100000</td>\n",
       "      <td>0.100000</td>\n",
       "      <td>0.100000</td>\n",
       "      <td>0.100000</td>\n",
       "      <td>0.100000</td>\n",
       "      <td>0.100000</td>\n",
       "      <td>0.100000</td>\n",
       "      <td>0.100000</td>\n",
       "      <td>0.100000</td>\n",
       "    </tr>\n",
       "    <tr>\n",
       "      <th>topic_6</th>\n",
       "      <td>0.100000</td>\n",
       "      <td>0.100000</td>\n",
       "      <td>0.100000</td>\n",
       "      <td>0.100000</td>\n",
       "      <td>0.100000</td>\n",
       "      <td>0.100000</td>\n",
       "      <td>0.100000</td>\n",
       "      <td>0.100000</td>\n",
       "      <td>0.100000</td>\n",
       "      <td>0.100000</td>\n",
       "      <td>...</td>\n",
       "      <td>0.100000</td>\n",
       "      <td>0.100000</td>\n",
       "      <td>0.100000</td>\n",
       "      <td>0.100000</td>\n",
       "      <td>0.100000</td>\n",
       "      <td>0.100000</td>\n",
       "      <td>0.100000</td>\n",
       "      <td>0.100000</td>\n",
       "      <td>0.100000</td>\n",
       "      <td>0.100000</td>\n",
       "    </tr>\n",
       "    <tr>\n",
       "      <th>topic_7</th>\n",
       "      <td>0.100000</td>\n",
       "      <td>0.100000</td>\n",
       "      <td>0.100000</td>\n",
       "      <td>0.100000</td>\n",
       "      <td>0.100000</td>\n",
       "      <td>0.100000</td>\n",
       "      <td>0.100000</td>\n",
       "      <td>0.100000</td>\n",
       "      <td>0.100000</td>\n",
       "      <td>0.100000</td>\n",
       "      <td>...</td>\n",
       "      <td>0.138741</td>\n",
       "      <td>0.138741</td>\n",
       "      <td>0.138741</td>\n",
       "      <td>0.138741</td>\n",
       "      <td>0.138741</td>\n",
       "      <td>0.138741</td>\n",
       "      <td>0.100000</td>\n",
       "      <td>0.100000</td>\n",
       "      <td>0.100000</td>\n",
       "      <td>0.100000</td>\n",
       "    </tr>\n",
       "    <tr>\n",
       "      <th>topic_8</th>\n",
       "      <td>0.100000</td>\n",
       "      <td>0.100000</td>\n",
       "      <td>0.100000</td>\n",
       "      <td>0.100000</td>\n",
       "      <td>0.100000</td>\n",
       "      <td>0.100000</td>\n",
       "      <td>0.100000</td>\n",
       "      <td>0.100000</td>\n",
       "      <td>0.100000</td>\n",
       "      <td>0.100000</td>\n",
       "      <td>...</td>\n",
       "      <td>0.100000</td>\n",
       "      <td>0.100000</td>\n",
       "      <td>0.100000</td>\n",
       "      <td>0.100000</td>\n",
       "      <td>0.100000</td>\n",
       "      <td>0.100000</td>\n",
       "      <td>0.100000</td>\n",
       "      <td>0.100000</td>\n",
       "      <td>0.100000</td>\n",
       "      <td>0.100000</td>\n",
       "    </tr>\n",
       "    <tr>\n",
       "      <th>topic_9</th>\n",
       "      <td>0.100000</td>\n",
       "      <td>0.100000</td>\n",
       "      <td>0.100000</td>\n",
       "      <td>0.100000</td>\n",
       "      <td>0.100000</td>\n",
       "      <td>0.100000</td>\n",
       "      <td>0.100000</td>\n",
       "      <td>0.100000</td>\n",
       "      <td>0.100000</td>\n",
       "      <td>0.100000</td>\n",
       "      <td>...</td>\n",
       "      <td>0.100000</td>\n",
       "      <td>0.100000</td>\n",
       "      <td>0.100000</td>\n",
       "      <td>0.100000</td>\n",
       "      <td>0.100000</td>\n",
       "      <td>0.100000</td>\n",
       "      <td>0.138439</td>\n",
       "      <td>0.138439</td>\n",
       "      <td>0.138439</td>\n",
       "      <td>0.138439</td>\n",
       "    </tr>\n",
       "    <tr>\n",
       "      <th>topic_10</th>\n",
       "      <td>0.133409</td>\n",
       "      <td>0.133409</td>\n",
       "      <td>0.133409</td>\n",
       "      <td>0.133409</td>\n",
       "      <td>0.166818</td>\n",
       "      <td>0.166818</td>\n",
       "      <td>0.133409</td>\n",
       "      <td>0.133409</td>\n",
       "      <td>0.133409</td>\n",
       "      <td>0.133409</td>\n",
       "      <td>...</td>\n",
       "      <td>0.100000</td>\n",
       "      <td>0.100000</td>\n",
       "      <td>0.100000</td>\n",
       "      <td>0.100000</td>\n",
       "      <td>0.100000</td>\n",
       "      <td>0.100000</td>\n",
       "      <td>0.100000</td>\n",
       "      <td>0.100000</td>\n",
       "      <td>0.100000</td>\n",
       "      <td>0.100000</td>\n",
       "    </tr>\n",
       "  </tbody>\n",
       "</table>\n",
       "<p>10 rows × 339671 columns</p>\n",
       "</div>"
      ],
      "text/plain": [
       "          aa addition  aa addition fatty  aa addition fatty acid  \\\n",
       "topic_1      0.100000           0.100000                0.100000   \n",
       "topic_2      0.100000           0.100000                0.100000   \n",
       "topic_3      0.100000           0.100000                0.100000   \n",
       "topic_4      0.100000           0.100000                0.100000   \n",
       "topic_5      0.100000           0.100000                0.100000   \n",
       "topic_6      0.100000           0.100000                0.100000   \n",
       "topic_7      0.100000           0.100000                0.100000   \n",
       "topic_8      0.100000           0.100000                0.100000   \n",
       "topic_9      0.100000           0.100000                0.100000   \n",
       "topic_10     0.133409           0.133409                0.133409   \n",
       "\n",
       "          aa addition fatty acid culture  aa adrenic  aa adrenic acid  \\\n",
       "topic_1                         0.100000    0.100000         0.100000   \n",
       "topic_2                         0.100000    0.100000         0.100000   \n",
       "topic_3                         0.100000    0.100000         0.100000   \n",
       "topic_4                         0.100000    0.100000         0.100000   \n",
       "topic_5                         0.100000    0.100000         0.100000   \n",
       "topic_6                         0.100000    0.100000         0.100000   \n",
       "topic_7                         0.100000    0.100000         0.100000   \n",
       "topic_8                         0.100000    0.100000         0.100000   \n",
       "topic_9                         0.100000    0.100000         0.100000   \n",
       "topic_10                        0.133409    0.166818         0.166818   \n",
       "\n",
       "          aa adrenic acid deficit  aa adrenic acid deficit overcome  \\\n",
       "topic_1                  0.100000                          0.100000   \n",
       "topic_2                  0.100000                          0.100000   \n",
       "topic_3                  0.100000                          0.100000   \n",
       "topic_4                  0.100000                          0.100000   \n",
       "topic_5                  0.100000                          0.100000   \n",
       "topic_6                  0.100000                          0.100000   \n",
       "topic_7                  0.100000                          0.100000   \n",
       "topic_8                  0.100000                          0.100000   \n",
       "topic_9                  0.100000                          0.100000   \n",
       "topic_10                 0.133409                          0.133409   \n",
       "\n",
       "          aa adrenic acid pgl  aa adrenic acid pgl compensate  ...  \\\n",
       "topic_1              0.100000                        0.100000  ...   \n",
       "topic_2              0.100000                        0.100000  ...   \n",
       "topic_3              0.100000                        0.100000  ...   \n",
       "topic_4              0.100000                        0.100000  ...   \n",
       "topic_5              0.100000                        0.100000  ...   \n",
       "topic_6              0.100000                        0.100000  ...   \n",
       "topic_7              0.100000                        0.100000  ...   \n",
       "topic_8              0.100000                        0.100000  ...   \n",
       "topic_9              0.100000                        0.100000  ...   \n",
       "topic_10             0.133409                        0.133409  ...   \n",
       "\n",
       "          μuml patient overt thyroid  μuml patient overt thyroid dysfunction  \\\n",
       "topic_1                     0.100000                                0.100000   \n",
       "topic_2                     0.100000                                0.100000   \n",
       "topic_3                     0.100000                                0.100000   \n",
       "topic_4                     0.100000                                0.100000   \n",
       "topic_5                     0.100000                                0.100000   \n",
       "topic_6                     0.100000                                0.100000   \n",
       "topic_7                     0.138741                                0.138741   \n",
       "topic_8                     0.100000                                0.100000   \n",
       "topic_9                     0.100000                                0.100000   \n",
       "topic_10                    0.100000                                0.100000   \n",
       "\n",
       "          μuml subclinical  μuml subclinical hypothyroidism  \\\n",
       "topic_1           0.100000                         0.100000   \n",
       "topic_2           0.100000                         0.100000   \n",
       "topic_3           0.100000                         0.100000   \n",
       "topic_4           0.100000                         0.100000   \n",
       "topic_5           0.100000                         0.100000   \n",
       "topic_6           0.100000                         0.100000   \n",
       "topic_7           0.138741                         0.138741   \n",
       "topic_8           0.100000                         0.100000   \n",
       "topic_9           0.100000                         0.100000   \n",
       "topic_10          0.100000                         0.100000   \n",
       "\n",
       "          μuml subclinical hypothyroidism thyroidstimulating  \\\n",
       "topic_1                                            0.100000    \n",
       "topic_2                                            0.100000    \n",
       "topic_3                                            0.100000    \n",
       "topic_4                                            0.100000    \n",
       "topic_5                                            0.100000    \n",
       "topic_6                                            0.100000    \n",
       "topic_7                                            0.138741    \n",
       "topic_8                                            0.100000    \n",
       "topic_9                                            0.100000    \n",
       "topic_10                                           0.100000    \n",
       "\n",
       "          μuml subclinical hypothyroidism thyroidstimulating hormone  \\\n",
       "topic_1                                            0.100000            \n",
       "topic_2                                            0.100000            \n",
       "topic_3                                            0.100000            \n",
       "topic_4                                            0.100000            \n",
       "topic_5                                            0.100000            \n",
       "topic_6                                            0.100000            \n",
       "topic_7                                            0.138741            \n",
       "topic_8                                            0.100000            \n",
       "topic_9                                            0.100000            \n",
       "topic_10                                           0.100000            \n",
       "\n",
       "          μuml synergized  μuml synergized increase  \\\n",
       "topic_1          0.100000                  0.100000   \n",
       "topic_2          0.100000                  0.100000   \n",
       "topic_3          0.100000                  0.100000   \n",
       "topic_4          0.100000                  0.100000   \n",
       "topic_5          0.100000                  0.100000   \n",
       "topic_6          0.100000                  0.100000   \n",
       "topic_7          0.100000                  0.100000   \n",
       "topic_8          0.100000                  0.100000   \n",
       "topic_9          0.138439                  0.138439   \n",
       "topic_10         0.100000                  0.100000   \n",
       "\n",
       "          μuml synergized increase level  \\\n",
       "topic_1                         0.100000   \n",
       "topic_2                         0.100000   \n",
       "topic_3                         0.100000   \n",
       "topic_4                         0.100000   \n",
       "topic_5                         0.100000   \n",
       "topic_6                         0.100000   \n",
       "topic_7                         0.100000   \n",
       "topic_8                         0.100000   \n",
       "topic_9                         0.138439   \n",
       "topic_10                        0.100000   \n",
       "\n",
       "          μuml synergized increase level triglyceride  \n",
       "topic_1                                      0.100000  \n",
       "topic_2                                      0.100000  \n",
       "topic_3                                      0.100000  \n",
       "topic_4                                      0.100000  \n",
       "topic_5                                      0.100000  \n",
       "topic_6                                      0.100000  \n",
       "topic_7                                      0.100000  \n",
       "topic_8                                      0.100000  \n",
       "topic_9                                      0.138439  \n",
       "topic_10                                     0.100000  \n",
       "\n",
       "[10 rows x 339671 columns]"
      ]
     },
     "execution_count": 16,
     "metadata": {},
     "output_type": "execute_result"
    }
   ],
   "source": [
    "topic_word_mixture = pd.DataFrame(\n",
    "    lda_model.components_,\n",
    "    columns = vectorizer.get_feature_names_out(),\n",
    "    index = document_topic_mixture.columns\n",
    ")\n",
    "topic_word_mixture"
   ]
  },
  {
   "cell_type": "code",
   "execution_count": 17,
   "id": "7a2074a3-2c9d-49f8-b774-a4b822f28937",
   "metadata": {
    "scrolled": true
   },
   "outputs": [],
   "source": [
    "topics = topics_list(lda_model, vectorizer, 5)"
   ]
  },
  {
   "cell_type": "code",
   "execution_count": 18,
   "id": "7953e5be-74b7-4813-a545-3a73e52cfb46",
   "metadata": {},
   "outputs": [
    {
     "data": {
      "text/plain": [
       "list"
      ]
     },
     "execution_count": 18,
     "metadata": {},
     "output_type": "execute_result"
    }
   ],
   "source": [
    "type(topics)"
   ]
  },
  {
   "cell_type": "code",
   "execution_count": 19,
   "id": "043f8894-a6c4-4ab3-b356-b72f3458a5e4",
   "metadata": {},
   "outputs": [
    {
     "data": {
      "text/plain": [
       "list"
      ]
     },
     "execution_count": 19,
     "metadata": {},
     "output_type": "execute_result"
    }
   ],
   "source": [
    "type(topics[0])"
   ]
  },
  {
   "cell_type": "code",
   "execution_count": 20,
   "id": "9aaf6da3-ad95-4947-8e7e-9d2c11314d63",
   "metadata": {},
   "outputs": [
    {
     "data": {
      "text/plain": [
       "tuple"
      ]
     },
     "execution_count": 20,
     "metadata": {},
     "output_type": "execute_result"
    }
   ],
   "source": [
    "type(topics[0][0])"
   ]
  },
  {
   "cell_type": "code",
   "execution_count": 21,
   "id": "7d999c0d-7a08-4afc-a1e7-9d9779eda4f4",
   "metadata": {},
   "outputs": [
    {
     "data": {
      "text/plain": [
       "('thyroid hormone', 0.7103009017240166)"
      ]
     },
     "execution_count": 21,
     "metadata": {},
     "output_type": "execute_result"
    }
   ],
   "source": [
    "topics[1][0]"
   ]
  },
  {
   "cell_type": "code",
   "execution_count": 22,
   "id": "89b96bbf-19b0-433e-a32b-c59af3baee35",
   "metadata": {},
   "outputs": [
    {
     "data": {
      "text/plain": [
       "10"
      ]
     },
     "execution_count": 22,
     "metadata": {},
     "output_type": "execute_result"
    }
   ],
   "source": [
    "len(topics)"
   ]
  },
  {
   "cell_type": "code",
   "execution_count": 23,
   "id": "83b100bc-9520-4731-a867-0aa9845a3b82",
   "metadata": {},
   "outputs": [
    {
     "data": {
      "text/plain": [
       "[[('tsh level', 0.6135469917392701),\n",
       "  ('hepatic dysfunction', 0.4544424548215257),\n",
       "  ('fetuina level', 0.4478956660219846),\n",
       "  ('control group', 0.4422368808199786),\n",
       "  ('risk factor', 0.42359752889363533)],\n",
       " [('thyroid hormone', 0.7103009017240166),\n",
       "  ('tsh level', 0.6997937559250356),\n",
       "  ('thyroid function', 0.666418050617312),\n",
       "  ('lipoprotein cholesterol', 0.5945403447093688),\n",
       "  ('total cholesterol', 0.5504189496640396)],\n",
       " [('thyroid hormone', 0.7624321033852091),\n",
       "  ('thyroid function', 0.6929223519823788),\n",
       "  ('subclinical hypothyroidism', 0.5758813619560454),\n",
       "  ('tsh level', 0.5209167738102114),\n",
       "  ('risk factor', 0.46967076635658744)],\n",
       " [('risk factor', 0.5514223634582156),\n",
       "  ('per cent', 0.5437971224401149),\n",
       "  ('metabolic syndrome', 0.4865518368112959),\n",
       "  ('leydig cell', 0.48382474242963713),\n",
       "  ('blood pressure', 0.4816261784621887)],\n",
       " [('tsh level', 0.7943926673690854),\n",
       "  ('subclinical hypothyroidism', 0.5731958146773766),\n",
       "  ('overt hypothyroidism', 0.5350020150316971),\n",
       "  ('thyroid hormone', 0.46776951116055454),\n",
       "  ('lipid profile', 0.46324475632437034)],\n",
       " [('subclinical hypothyroidism', 0.578470798287916),\n",
       "  ('lipid profile', 0.554348528563423),\n",
       "  ('metabolic syndrome', 0.5393017138272155),\n",
       "  ('thyroid hormone', 0.5310692716198236),\n",
       "  ('thyroid dysfunction', 0.4649272189260856)],\n",
       " [('metabolic syndrome', 0.5916778981174915),\n",
       "  ('thyroid hormone', 0.5194712031123488),\n",
       "  ('thyroid function', 0.5070209252195232),\n",
       "  ('significant difference', 0.4977503349198026),\n",
       "  ('tsh level', 0.4914600551815923)],\n",
       " [('thyroid function', 0.6829655238650493),\n",
       "  ('tsh level', 0.6328996993666988),\n",
       "  ('cardiovascular risk', 0.6160865947989738),\n",
       "  ('lipoprotein cholesterol', 0.6033531690776329),\n",
       "  ('thyroid hormone', 0.5577840905744609)],\n",
       " [('te ratio', 0.4604612631031716),\n",
       "  ('control group', 0.4560189163718281),\n",
       "  ('tsh level', 0.4336180760588866),\n",
       "  ('healthy control', 0.4330562470747601),\n",
       "  ('pcos patient', 0.42163882622632254)],\n",
       " [('tsh level', 0.8603383458944663),\n",
       "  ('serum tsh', 0.666485856461311),\n",
       "  ('subclinical hypothyroidism', 0.661341093526402),\n",
       "  ('thyroid function', 0.5185871347345297),\n",
       "  ('type diabetes', 0.5120166203585922)]]"
      ]
     },
     "execution_count": 23,
     "metadata": {},
     "output_type": "execute_result"
    }
   ],
   "source": [
    "topics"
   ]
  },
  {
   "cell_type": "code",
   "execution_count": 24,
   "id": "0128ade0-56c0-4516-b94f-da7d283c611c",
   "metadata": {},
   "outputs": [
    {
     "data": {
      "text/plain": [
       "(10, 339671)"
      ]
     },
     "execution_count": 24,
     "metadata": {},
     "output_type": "execute_result"
    }
   ],
   "source": [
    "lda_model.components_.shape"
   ]
  },
  {
   "cell_type": "code",
   "execution_count": 25,
   "id": "05d8f02f-3f81-4558-b4f2-fd53c833ad4e",
   "metadata": {},
   "outputs": [
    {
     "data": {
      "text/plain": [
       "(339671,)"
      ]
     },
     "execution_count": 25,
     "metadata": {},
     "output_type": "execute_result"
    }
   ],
   "source": [
    "vectorizer.get_feature_names_out().shape"
   ]
  },
  {
   "cell_type": "code",
   "execution_count": 26,
   "id": "6526da34-1bbd-464b-85ef-48d71ae459af",
   "metadata": {},
   "outputs": [
    {
     "data": {
      "text/plain": [
       "35722.321110479475"
      ]
     },
     "execution_count": 26,
     "metadata": {},
     "output_type": "execute_result"
    }
   ],
   "source": [
    "lda_model.components_[1].sum()"
   ]
  },
  {
   "cell_type": "markdown",
   "id": "17df51ec-e692-491a-b92c-91c5bea26cd0",
   "metadata": {
    "jp-MarkdownHeadingCollapsed": true
   },
   "source": [
    "### Visualization"
   ]
  },
  {
   "cell_type": "code",
   "execution_count": 27,
   "id": "a3bb1d2e-5fba-442a-aac3-39a75c3fa483",
   "metadata": {},
   "outputs": [
    {
     "data": {
      "image/png": "[encoded data removed]",
      "text/plain": [
       "<Figure size 1000x600 with 1 Axes>"
      ]
     },
     "metadata": {},
     "output_type": "display_data"
    }
   ],
   "source": [
    "data = topics[0]\n",
    "\n",
    "labels = [item[0] for item in data]\n",
    "values = [item[1] for item in data]\n",
    "\n",
    "# Creating bar chart\n",
    "plt.figure(figsize=(10, 6))\n",
    "plt.barh(labels, values, color='skyblue')\n",
    "plt.xlabel('Score')\n",
    "plt.ylabel('Keywords')\n",
    "plt.title('Keyword Scores')\n",
    "plt.gca().invert_yaxis()  # Invert y-axis to have the highest score at the top\n",
    "plt.show()"
   ]
  },
  {
   "cell_type": "code",
   "execution_count": 28,
   "id": "c3a05bef-c5ff-4546-bac7-c413ea73b81c",
   "metadata": {
    "scrolled": true
   },
   "outputs": [
    {
     "data": {
      "image/png": "[encoded data removed]",
      "text/plain": [
       "<Figure size 1500x2500 with 10 Axes>"
      ]
     },
     "metadata": {},
     "output_type": "display_data"
    }
   ],
   "source": [
    "graph_topics(topics)"
   ]
  },
  {
   "cell_type": "markdown",
   "id": "bf9e4785",
   "metadata": {},
   "source": [
    "## distributing the documents into their topics"
   ]
  },
  {
   "cell_type": "code",
   "execution_count": 29,
   "id": "27e8d83c",
   "metadata": {},
   "outputs": [],
   "source": [
    "document_topic_mixture['Dominant_topic'] = document_topic_mixture.idxmax(axis=1)"
   ]
  },
  {
   "cell_type": "code",
   "execution_count": 30,
   "id": "be2bdd05",
   "metadata": {},
   "outputs": [
    {
     "data": {
      "text/html": [
       "<div>\n",
       "<style scoped>\n",
       "    .dataframe tbody tr th:only-of-type {\n",
       "        vertical-align: middle;\n",
       "    }\n",
       "\n",
       "    .dataframe tbody tr th {\n",
       "        vertical-align: top;\n",
       "    }\n",
       "\n",
       "    .dataframe thead th {\n",
       "        text-align: right;\n",
       "    }\n",
       "</style>\n",
       "<table border=\"1\" class=\"dataframe\">\n",
       "  <thead>\n",
       "    <tr style=\"text-align: right;\">\n",
       "      <th></th>\n",
       "      <th>topic_1</th>\n",
       "      <th>topic_2</th>\n",
       "      <th>topic_3</th>\n",
       "      <th>topic_4</th>\n",
       "      <th>topic_5</th>\n",
       "      <th>topic_6</th>\n",
       "      <th>topic_7</th>\n",
       "      <th>topic_8</th>\n",
       "      <th>topic_9</th>\n",
       "      <th>topic_10</th>\n",
       "      <th>Dominant_topic</th>\n",
       "    </tr>\n",
       "    <tr>\n",
       "      <th>PMID</th>\n",
       "      <th></th>\n",
       "      <th></th>\n",
       "      <th></th>\n",
       "      <th></th>\n",
       "      <th></th>\n",
       "      <th></th>\n",
       "      <th></th>\n",
       "      <th></th>\n",
       "      <th></th>\n",
       "      <th></th>\n",
       "      <th></th>\n",
       "    </tr>\n",
       "  </thead>\n",
       "  <tbody>\n",
       "    <tr>\n",
       "      <th>38506164</th>\n",
       "      <td>0.003695</td>\n",
       "      <td>0.003695</td>\n",
       "      <td>0.003695</td>\n",
       "      <td>0.003695</td>\n",
       "      <td>0.003695</td>\n",
       "      <td>0.003695</td>\n",
       "      <td>0.966748</td>\n",
       "      <td>0.003695</td>\n",
       "      <td>0.003695</td>\n",
       "      <td>0.003695</td>\n",
       "      <td>topic_7</td>\n",
       "    </tr>\n",
       "    <tr>\n",
       "      <th>38464371</th>\n",
       "      <td>0.003581</td>\n",
       "      <td>0.967774</td>\n",
       "      <td>0.003580</td>\n",
       "      <td>0.003581</td>\n",
       "      <td>0.003581</td>\n",
       "      <td>0.003580</td>\n",
       "      <td>0.003581</td>\n",
       "      <td>0.003580</td>\n",
       "      <td>0.003581</td>\n",
       "      <td>0.003581</td>\n",
       "      <td>topic_2</td>\n",
       "    </tr>\n",
       "    <tr>\n",
       "      <th>38449627</th>\n",
       "      <td>0.004274</td>\n",
       "      <td>0.004274</td>\n",
       "      <td>0.004274</td>\n",
       "      <td>0.004274</td>\n",
       "      <td>0.004274</td>\n",
       "      <td>0.004274</td>\n",
       "      <td>0.004274</td>\n",
       "      <td>0.961535</td>\n",
       "      <td>0.004274</td>\n",
       "      <td>0.004274</td>\n",
       "      <td>topic_8</td>\n",
       "    </tr>\n",
       "    <tr>\n",
       "      <th>38296053</th>\n",
       "      <td>0.003985</td>\n",
       "      <td>0.003986</td>\n",
       "      <td>0.003985</td>\n",
       "      <td>0.003986</td>\n",
       "      <td>0.964130</td>\n",
       "      <td>0.003986</td>\n",
       "      <td>0.003986</td>\n",
       "      <td>0.003986</td>\n",
       "      <td>0.003985</td>\n",
       "      <td>0.003986</td>\n",
       "      <td>topic_5</td>\n",
       "    </tr>\n",
       "    <tr>\n",
       "      <th>38287682</th>\n",
       "      <td>0.004451</td>\n",
       "      <td>0.004451</td>\n",
       "      <td>0.004451</td>\n",
       "      <td>0.004451</td>\n",
       "      <td>0.004451</td>\n",
       "      <td>0.004451</td>\n",
       "      <td>0.004451</td>\n",
       "      <td>0.004451</td>\n",
       "      <td>0.959939</td>\n",
       "      <td>0.004451</td>\n",
       "      <td>topic_9</td>\n",
       "    </tr>\n",
       "    <tr>\n",
       "      <th>...</th>\n",
       "      <td>...</td>\n",
       "      <td>...</td>\n",
       "      <td>...</td>\n",
       "      <td>...</td>\n",
       "      <td>...</td>\n",
       "      <td>...</td>\n",
       "      <td>...</td>\n",
       "      <td>...</td>\n",
       "      <td>...</td>\n",
       "      <td>...</td>\n",
       "      <td>...</td>\n",
       "    </tr>\n",
       "    <tr>\n",
       "      <th>6127000</th>\n",
       "      <td>0.952500</td>\n",
       "      <td>0.005278</td>\n",
       "      <td>0.005278</td>\n",
       "      <td>0.005278</td>\n",
       "      <td>0.005278</td>\n",
       "      <td>0.005278</td>\n",
       "      <td>0.005278</td>\n",
       "      <td>0.005278</td>\n",
       "      <td>0.005278</td>\n",
       "      <td>0.005278</td>\n",
       "      <td>topic_1</td>\n",
       "    </tr>\n",
       "    <tr>\n",
       "      <th>7288274</th>\n",
       "      <td>0.005189</td>\n",
       "      <td>0.005189</td>\n",
       "      <td>0.005189</td>\n",
       "      <td>0.005189</td>\n",
       "      <td>0.953302</td>\n",
       "      <td>0.005189</td>\n",
       "      <td>0.005189</td>\n",
       "      <td>0.005189</td>\n",
       "      <td>0.005189</td>\n",
       "      <td>0.005189</td>\n",
       "      <td>topic_5</td>\n",
       "    </tr>\n",
       "    <tr>\n",
       "      <th>6794011</th>\n",
       "      <td>0.006010</td>\n",
       "      <td>0.006010</td>\n",
       "      <td>0.006010</td>\n",
       "      <td>0.006010</td>\n",
       "      <td>0.006010</td>\n",
       "      <td>0.006010</td>\n",
       "      <td>0.006010</td>\n",
       "      <td>0.006010</td>\n",
       "      <td>0.006010</td>\n",
       "      <td>0.945911</td>\n",
       "      <td>topic_10</td>\n",
       "    </tr>\n",
       "    <tr>\n",
       "      <th>469388</th>\n",
       "      <td>0.959738</td>\n",
       "      <td>0.004473</td>\n",
       "      <td>0.004473</td>\n",
       "      <td>0.004473</td>\n",
       "      <td>0.004474</td>\n",
       "      <td>0.004473</td>\n",
       "      <td>0.004473</td>\n",
       "      <td>0.004473</td>\n",
       "      <td>0.004473</td>\n",
       "      <td>0.004473</td>\n",
       "      <td>topic_1</td>\n",
       "    </tr>\n",
       "    <tr>\n",
       "      <th>30020</th>\n",
       "      <td>0.003788</td>\n",
       "      <td>0.003788</td>\n",
       "      <td>0.003788</td>\n",
       "      <td>0.003788</td>\n",
       "      <td>0.003788</td>\n",
       "      <td>0.965906</td>\n",
       "      <td>0.003788</td>\n",
       "      <td>0.003788</td>\n",
       "      <td>0.003788</td>\n",
       "      <td>0.003788</td>\n",
       "      <td>topic_6</td>\n",
       "    </tr>\n",
       "  </tbody>\n",
       "</table>\n",
       "<p>640 rows × 11 columns</p>\n",
       "</div>"
      ],
      "text/plain": [
       "           topic_1   topic_2   topic_3   topic_4   topic_5   topic_6  \\\n",
       "PMID                                                                   \n",
       "38506164  0.003695  0.003695  0.003695  0.003695  0.003695  0.003695   \n",
       "38464371  0.003581  0.967774  0.003580  0.003581  0.003581  0.003580   \n",
       "38449627  0.004274  0.004274  0.004274  0.004274  0.004274  0.004274   \n",
       "38296053  0.003985  0.003986  0.003985  0.003986  0.964130  0.003986   \n",
       "38287682  0.004451  0.004451  0.004451  0.004451  0.004451  0.004451   \n",
       "...            ...       ...       ...       ...       ...       ...   \n",
       "6127000   0.952500  0.005278  0.005278  0.005278  0.005278  0.005278   \n",
       "7288274   0.005189  0.005189  0.005189  0.005189  0.953302  0.005189   \n",
       "6794011   0.006010  0.006010  0.006010  0.006010  0.006010  0.006010   \n",
       "469388    0.959738  0.004473  0.004473  0.004473  0.004474  0.004473   \n",
       "30020     0.003788  0.003788  0.003788  0.003788  0.003788  0.965906   \n",
       "\n",
       "           topic_7   topic_8   topic_9  topic_10 Dominant_topic  \n",
       "PMID                                                             \n",
       "38506164  0.966748  0.003695  0.003695  0.003695        topic_7  \n",
       "38464371  0.003581  0.003580  0.003581  0.003581        topic_2  \n",
       "38449627  0.004274  0.961535  0.004274  0.004274        topic_8  \n",
       "38296053  0.003986  0.003986  0.003985  0.003986        topic_5  \n",
       "38287682  0.004451  0.004451  0.959939  0.004451        topic_9  \n",
       "...            ...       ...       ...       ...            ...  \n",
       "6127000   0.005278  0.005278  0.005278  0.005278        topic_1  \n",
       "7288274   0.005189  0.005189  0.005189  0.005189        topic_5  \n",
       "6794011   0.006010  0.006010  0.006010  0.945911       topic_10  \n",
       "469388    0.004473  0.004473  0.004473  0.004473        topic_1  \n",
       "30020     0.003788  0.003788  0.003788  0.003788        topic_6  \n",
       "\n",
       "[640 rows x 11 columns]"
      ]
     },
     "execution_count": 30,
     "metadata": {},
     "output_type": "execute_result"
    }
   ],
   "source": [
    "document_topic_mixture"
   ]
  },
  {
   "cell_type": "markdown",
   "id": "9a20d3d4",
   "metadata": {},
   "source": [
    "## Plotting the dominant topics distribution"
   ]
  },
  {
   "cell_type": "code",
   "execution_count": 31,
   "id": "b4e04e3b",
   "metadata": {},
   "outputs": [
    {
     "data": {
      "text/plain": [
       "Dominant_topic\n",
       "topic_2     74\n",
       "topic_8     74\n",
       "topic_3     64\n",
       "topic_10    64\n",
       "topic_4     64\n",
       "topic_7     63\n",
       "topic_6     62\n",
       "topic_9     60\n",
       "topic_5     58\n",
       "topic_1     57\n",
       "Name: count, dtype: int64"
      ]
     },
     "execution_count": 31,
     "metadata": {},
     "output_type": "execute_result"
    }
   ],
   "source": [
    "# Count how many documents have each topic as the most dominant\n",
    "topic_counts = document_topic_mixture['Dominant_topic'].value_counts()\n",
    "topic_counts"
   ]
  },
  {
   "cell_type": "code",
   "execution_count": 32,
   "id": "ed4e3cf6",
   "metadata": {},
   "outputs": [
    {
     "data": {
      "image/png": "[encoded data removed]",
      "text/plain": [
       "<Figure size 1000x800 with 1 Axes>"
      ]
     },
     "metadata": {},
     "output_type": "display_data"
    }
   ],
   "source": [
    "\n",
    "# Plot the pie chart\n",
    "plt.figure(figsize=(10, 8))\n",
    "plt.pie(topic_counts, labels=topic_counts.index, autopct='%1.1f%%', startangle=140)\n",
    "plt.title('Distribution of Most Dominant Topics Across Documents')\n",
    "plt.axis('equal')  # Equal aspect ratio ensures that pie is drawn as a circle.\n",
    "\n",
    "plt.show()"
   ]
  },
  {
   "cell_type": "markdown",
   "id": "0aba07e8",
   "metadata": {},
   "source": [
    "## pyLDAvis\n"
   ]
  },
  {
   "cell_type": "code",
   "execution_count": 1,
   "id": "e3cfde30",
   "metadata": {},
   "outputs": [],
   "source": [
    "import pyLDAvis\n",
    "import numpy as np"
   ]
  },
  {
   "cell_type": "code",
   "execution_count": 2,
   "id": "21bc761a",
   "metadata": {},
   "outputs": [
    {
     "name": "stderr",
     "output_type": "stream",
     "text": [
      "/home/nawar82/.pyenv/versions/3.10.6/envs/ResearchTopicsRanker/lib/python3.10/site-packages/astroid/node_classes.py:94: DeprecationWarning: The 'astroid.node_classes' module is deprecated and will be replaced by 'astroid.nodes' in astroid 3.0.0\n",
      "  warnings.warn(\n"
     ]
    },
    {
     "ename": "NameError",
     "evalue": "name 'lda_model' is not defined",
     "output_type": "error",
     "traceback": [
      "\u001b[0;31m---------------------------------------------------------------------------\u001b[0m",
      "\u001b[0;31mNameError\u001b[0m                                 Traceback (most recent call last)",
      "Cell \u001b[0;32mIn [2], line 2\u001b[0m\n\u001b[1;32m      1\u001b[0m \u001b[38;5;66;03m# lda_model.components_ has shape [n_topics, n_features]\u001b[39;00m\n\u001b[0;32m----> 2\u001b[0m topic_term_distributions \u001b[38;5;241m=\u001b[39m \u001b[43mlda_model\u001b[49m\u001b[38;5;241m.\u001b[39mcomponents_ \u001b[38;5;241m/\u001b[39m lda_model\u001b[38;5;241m.\u001b[39mcomponents_\u001b[38;5;241m.\u001b[39msum(axis\u001b[38;5;241m=\u001b[39m\u001b[38;5;241m1\u001b[39m)[:, np\u001b[38;5;241m.\u001b[39mnewaxis]\n",
      "\u001b[0;31mNameError\u001b[0m: name 'lda_model' is not defined"
     ]
    }
   ],
   "source": [
    "# lda_model.components_ has shape [n_topics, n_features]\n",
    "topic_term_distributions = lda_model.components_ / lda_model.components_.sum(axis=1)[:, np.newaxis]"
   ]
  },
  {
   "cell_type": "code",
   "execution_count": null,
   "id": "182d5928",
   "metadata": {},
   "outputs": [],
   "source": []
  }
 ],
 "metadata": {
  "kernelspec": {
   "display_name": "Python 3 (ipykernel)",
   "language": "python",
   "name": "python3"
  },
  "language_info": {
   "codemirror_mode": {
    "name": "ipython",
    "version": 3
   },
   "file_extension": ".py",
   "mimetype": "text/x-python",
   "name": "python",
   "nbconvert_exporter": "python",
   "pygments_lexer": "ipython3",
   "version": "3.10.6"
  }
 },
 "nbformat": 4,
 "nbformat_minor": 5
}
